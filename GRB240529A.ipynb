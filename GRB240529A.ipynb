{
 "cells": [
  {
   "cell_type": "code",
   "execution_count": 17,
   "id": "b5e65ab4-043c-4d9d-b912-e707cc03e53b",
   "metadata": {
    "execution": {
     "iopub.execute_input": "2024-07-29T13:41:05.092383Z",
     "iopub.status.busy": "2024-07-29T13:41:05.091426Z",
     "iopub.status.idle": "2024-07-29T13:41:05.176435Z",
     "shell.execute_reply": "2024-07-29T13:41:05.174620Z",
     "shell.execute_reply.started": "2024-07-29T13:41:05.092321Z"
    }
   },
   "outputs": [],
   "source": [
    "import glob\n",
    "import os\n",
    "import sys\n",
    "import platform\n",
    "import requests\n",
    "import batanalysis as ba\n",
    "import matplotlib.pyplot as plt\n",
    "import numpy as np\n",
    "from astropy.time import Time, TimeDelta\n",
    "from astropy.io import fits\n",
    "from pathlib import Path\n",
    "import swiftbat.swutil as sbu\n",
    "import swiftbat\n",
    "plt.ion()\n",
    "\n",
    "ba.datadir(\"/home/idies/workspace/Temporary/ashleyh12/scratch/grb240529A\")\n",
    "\n",
    "restart=True"
   ]
  },
  {
   "cell_type": "code",
   "execution_count": 18,
   "id": "bee3874f-e06b-4d8f-aa4c-1441c4cb6a61",
   "metadata": {
    "execution": {
     "iopub.execute_input": "2024-07-29T13:41:05.264479Z",
     "iopub.status.busy": "2024-07-29T13:41:05.263965Z",
     "iopub.status.idle": "2024-07-29T13:41:05.369595Z",
     "shell.execute_reply": "2024-07-29T13:41:05.367912Z",
     "shell.execute_reply.started": "2024-07-29T13:41:05.264414Z"
    }
   },
   "outputs": [
    {
     "name": "stdout",
     "output_type": "stream",
     "text": [
      "NOT FOUND\n"
     ]
    },
    {
     "name": "stderr",
     "output_type": "stream",
     "text": [
      "WARNING: BlankResponseWarning: Warning: The script line number 3 raised an error (recorded in the `errors` attribute of the result table): Identifier not found in the database : GRB 240529A [astroquery.simbad.core]\n"
     ]
    }
   ],
   "source": [
    "# handling query database issue\n",
    "from astroquery.simbad import Simbad\n",
    "\n",
    "try: \n",
    "    x = Simbad.query_object(\"GRB240529A\")\n",
    "    if x is not None: # if x != None:\n",
    "        print(f'{x}')\n",
    "    else:\n",
    "        print(\"NOT FOUND\")\n",
    "        \n",
    "except Exception as y:   \n",
    "    print(\"\")"
   ]
  },
  {
   "cell_type": "code",
   "execution_count": 19,
   "id": "4a705892-e372-4a8e-a96f-36f96e6b6334",
   "metadata": {
    "execution": {
     "iopub.execute_input": "2024-07-29T13:41:05.420443Z",
     "iopub.status.busy": "2024-07-29T13:41:05.419937Z",
     "iopub.status.idle": "2024-07-29T13:41:05.749148Z",
     "shell.execute_reply": "2024-07-29T13:41:05.747254Z",
     "shell.execute_reply.started": "2024-07-29T13:41:05.420390Z"
    },
    "scrolled": true
   },
   "outputs": [
    {
     "name": "stdout",
     "output_type": "stream",
     "text": [
      "('335.341', '51.557')\n"
     ]
    }
   ],
   "source": [
    "#function to retrieve XRT RA and DEC\n",
    "\n",
    "def XRTcoord(grb_identifier):\n",
    "    \n",
    "    # url of the file\n",
    "    url = \"https://swift.gsfc.nasa.gov/archive/grb_table/tmp/grb_table_1722457759.txt\"\n",
    "    \n",
    "    #sending a https get request to the url above\n",
    "    response = requests.get(url)\n",
    "    \n",
    "    # extract the data from the url (.text to handle text-based responses)\n",
    "    table_data = response.text.splitlines()\n",
    "    # print(table_data[:10]) # print the first 10 lines to look at output\n",
    "\n",
    "    #initializing variables\n",
    "    XRTra = 1\n",
    "    XRTdec = 1\n",
    "    \n",
    "    # iterating over the data\n",
    "    for line in table_data:\n",
    "        columns = line.split() # columns\n",
    "        if columns[0] == grb_identifier and len(columns) > 12:\n",
    "            try:\n",
    "                XRTra = columns[3]\n",
    "                XRTdec = columns[4]\n",
    "                return XRTra, XRTdec\n",
    "            except IndexError:\n",
    "                print(\"no data found\")\n",
    "                return None, None\n",
    "\n",
    "grb_identifier = \"240529A\"\n",
    "print(XRTcoord(grb_identifier))\n",
    "XRTra, XRTdec = XRTcoord(grb_identifier)\n",
    "\n"
   ]
  },
  {
   "cell_type": "code",
   "execution_count": 20,
   "id": "4b33757a-e9ab-49ad-bef3-72649f991c1c",
   "metadata": {
    "execution": {
     "iopub.execute_input": "2024-07-29T13:41:05.753005Z",
     "iopub.status.busy": "2024-07-29T13:41:05.752440Z",
     "iopub.status.idle": "2024-07-29T13:41:05.772400Z",
     "shell.execute_reply": "2024-07-29T13:41:05.770602Z",
     "shell.execute_reply.started": "2024-07-29T13:41:05.752952Z"
    }
   },
   "outputs": [
    {
     "name": "stdout",
     "output_type": "stream",
     "text": [
      "350.1149999999992 51.557\n"
     ]
    }
   ],
   "source": [
    "# conversion: Degrees(h,m,s) = 360/24 × (h + m/60 + s/3600) \n",
    "# Link: (https://www.reddit.com/r/astrophysics/comments/wsznci/comment/il23y2i/?utm_medium=android_app&utm_source=share&context=3)\n",
    "\n",
    "# XRTra_degrees = 360/24 * (int(XRTra[0:2]))\n",
    "# print(XRTra_degrees)\n",
    "\n",
    "from astropy.coordinates import SkyCoord\n",
    "from astropy import units as u\n",
    "c = SkyCoord(ra=XRTra, dec=XRTdec, unit=(u.hourangle, u.deg))\n",
    "XRTra_deg = c.ra.degree\n",
    "XRTdec_deg = c.dec.degree\n",
    "print(XRTra_deg, XRTdec_deg)"
   ]
  },
  {
   "cell_type": "code",
   "execution_count": 21,
   "id": "fdf34b1d-a801-47b6-89a4-12c28f670579",
   "metadata": {
    "execution": {
     "iopub.execute_input": "2024-07-29T13:41:10.379412Z",
     "iopub.status.busy": "2024-07-29T13:41:10.378601Z",
     "iopub.status.idle": "2024-07-29T13:41:10.394329Z",
     "shell.execute_reply": "2024-07-29T13:41:10.392379Z",
     "shell.execute_reply.started": "2024-07-29T13:41:10.379343Z"
    }
   },
   "outputs": [
    {
     "name": "stdout",
     "output_type": "stream",
     "text": [
      "|||240529A||0||||350.115000|51.557000|\n"
     ]
    }
   ],
   "source": [
    "object_name = \"GRB240529A\"\n",
    "object_batsource = swiftbat.source(\n",
    "    ra=XRTra_deg, dec=XRTdec_deg, name=grb_identifier\n",
    ")\n",
    "print(object_batsource)"
   ]
  },
  {
   "cell_type": "code",
   "execution_count": null,
   "id": "1dd43a21-d5a3-4bba-86e8-b4650537a548",
   "metadata": {},
   "outputs": [],
   "source": []
  },
  {
   "cell_type": "code",
   "execution_count": 22,
   "id": "1845c4be-013f-4b2a-a6ca-cf9ce0d0a74a",
   "metadata": {
    "execution": {
     "iopub.execute_input": "2024-07-29T13:41:11.057067Z",
     "iopub.status.busy": "2024-07-29T13:41:11.056317Z",
     "iopub.status.idle": "2024-07-29T13:41:11.086365Z",
     "shell.execute_reply": "2024-07-29T13:41:11.084216Z",
     "shell.execute_reply.started": "2024-07-29T13:41:11.057011Z"
    },
    "scrolled": true
   },
   "outputs": [
    {
     "name": "stdout",
     "output_type": "stream",
     "text": [
      "2024-05-29 00:00:00.000 .. 2024-06-05 00:00:00.000\n"
     ]
    },
    {
     "name": "stderr",
     "output_type": "stream",
     "text": [
      "WARNING: TimeDeltaMissingUnitWarning: Numerical value without unit or explicit format passed to TimeDelta, assuming days [astropy.time.core]\n"
     ]
    }
   ],
   "source": [
    "# automating the grb name format using astropy\n",
    "# CONVERTING THE GRB NAME TO A MONTH-YEAR-DAY FORMAT\n",
    "\n",
    "from astropy.time import Time\n",
    "\n",
    "def grb_date(grb_name):\n",
    "    year = \"20\" + grb_name[3:5]  # converting the grb name to years\n",
    "    month = grb_name[5:7] # converting the name to months via indexing\n",
    "    day = grb_name[7:9]  # converting it to days \n",
    "\n",
    "    date_format = f\"{year}-{month}-{day}\" # setting up the string format\n",
    "    time = Time(date_format, format='iso') # using the Astropy Time object and passing the date string into it\n",
    "    return time\n",
    "    \n",
    "grb_name = \"GRB240529A\"\n",
    "grb_time = grb_date(grb_name) # storing the result of time format from above function\n",
    "last_day = grb_time + 7 # adding a week to the above time \n",
    "print(f\"{str(grb_time)} .. {str(last_day)}\")"
   ]
  },
  {
   "cell_type": "code",
   "execution_count": 23,
   "id": "e72b864e-fe7d-419d-b23c-36eec6c6d071",
   "metadata": {
    "execution": {
     "iopub.execute_input": "2024-07-29T13:41:11.232513Z",
     "iopub.status.busy": "2024-07-29T13:41:11.231932Z",
     "iopub.status.idle": "2024-07-29T13:41:12.673321Z",
     "shell.execute_reply": "2024-07-29T13:41:12.671049Z",
     "shell.execute_reply.started": "2024-07-29T13:41:11.232433Z"
    },
    "scrolled": true
   },
   "outputs": [
    {
     "name": "stdout",
     "output_type": "stream",
     "text": [
      "Finding everything finds 126 observations, of which 19 have more than 1000 cm^2 coded\n",
      "   START_TIME   \n",
      "      mjd       \n",
      "----------------\n",
      " 60458.339537037\n",
      " 60459.377037037\n",
      " 60459.652037037\n",
      "60458.0853819444\n",
      "60458.0888425926\n",
      "60458.2728703704\n",
      "60458.2860648148\n",
      "60458.9839814815\n",
      "60459.0624537037\n",
      "60459.1131944444\n",
      "60459.1902314815\n",
      "60459.3152314815\n",
      "60459.4028819444\n",
      "60459.4638425926\n",
      "60459.4646643518\n",
      "60459.4735763889\n",
      "60459.5368171296\n",
      "60459.7173148148\n",
      "60459.9168055556\n"
     ]
    }
   ],
   "source": [
    "query_args = dict(Start_Time=str(grb_date(grb_name)), fields='All', resultmax=0)\n",
    "table_everything = ba.from_heasarc(**query_args)\n",
    "minexposure = 1000     # cm^2 after cos adjust\n",
    "    \n",
    "# object_batsource = swiftbat.source(ra=XRTra_deg, dec=36.300, name=grb_name)\n",
    "    \n",
    "#calculate the exposure with partial coding\n",
    "exposures = np.array([object_batsource.exposure(ra=row['RA'], dec=row['DEC'], roll=row['ROLL_ANGLE'])[0] for row in table_everything])\n",
    "    \n",
    "#select the observations that have greater than the minimum desired exposure\n",
    "table_exposed = table_everything[exposures > minexposure]\n",
    "print(f\"Finding everything finds {len(table_everything)} observations, of which {len(table_exposed)} have more than {minexposure:0} cm^2 coded\")\n",
    "    \n",
    "print(np.sort(table_exposed[\"START_TIME\"]))"
   ]
  },
  {
   "cell_type": "code",
   "execution_count": null,
   "id": "ec6744cf-1e23-4d87-8c8f-9fc651030ebe",
   "metadata": {},
   "outputs": [],
   "source": []
  },
  {
   "cell_type": "code",
   "execution_count": 24,
   "id": "a05e9772-f743-41c2-8f38-298234fa228a",
   "metadata": {
    "execution": {
     "iopub.execute_input": "2024-07-29T13:41:12.677206Z",
     "iopub.status.busy": "2024-07-29T13:41:12.676686Z",
     "iopub.status.idle": "2024-07-29T13:41:22.166957Z",
     "shell.execute_reply": "2024-07-29T13:41:22.164869Z",
     "shell.execute_reply.started": "2024-07-29T13:41:12.677152Z"
    },
    "scrolled": true
   },
   "outputs": [
    {
     "data": {
      "application/vnd.jupyter.widget-view+json": {
       "model_id": "4b8008a94bf246739e229098db3c76fd",
       "version_major": 2,
       "version_minor": 0
      },
      "text/plain": [
       "Downloading files:   0%|          | 0/29 [00:00<?, ?files/s]"
      ]
     },
     "metadata": {},
     "output_type": "display_data"
    },
    {
     "name": "stderr",
     "output_type": "stream",
     "text": [
      "/home/idies/miniconda3/envs/heasoft/lib/python3.10/site-packages/swifttools/swift_too/swift_data.py:394: UserWarning: SWIFT_TLE_ARCHIVE.txt.24158.60038926.gz exists and not overwritten (set clobber=True to override this).\n",
      "/home/idies/miniconda3/envs/heasoft/lib/python3.10/site-packages/swifttools/swift_too/swift_data.py:394: UserWarning: sw00097550020pat.fits.gz exists and not overwritten (set clobber=True to override this).\n",
      "/home/idies/miniconda3/envs/heasoft/lib/python3.10/site-packages/swifttools/swift_too/swift_data.py:394: UserWarning: sw00097550020pjb.par.gz exists and not overwritten (set clobber=True to override this).\n",
      "/home/idies/miniconda3/envs/heasoft/lib/python3.10/site-packages/swifttools/swift_too/swift_data.py:394: UserWarning: sw00097550020pob.cat.gz exists and not overwritten (set clobber=True to override this).\n",
      "/home/idies/miniconda3/envs/heasoft/lib/python3.10/site-packages/swifttools/swift_too/swift_data.py:394: UserWarning: sw00097550020ppr.par.gz exists and not overwritten (set clobber=True to override this).\n",
      "/home/idies/miniconda3/envs/heasoft/lib/python3.10/site-packages/swifttools/swift_too/swift_data.py:394: UserWarning: sw00097550020s.mkf.gz exists and not overwritten (set clobber=True to override this).\n",
      "/home/idies/miniconda3/envs/heasoft/lib/python3.10/site-packages/swifttools/swift_too/swift_data.py:394: UserWarning: sw00097550020sao.fits.gz exists and not overwritten (set clobber=True to override this).\n",
      "/home/idies/miniconda3/envs/heasoft/lib/python3.10/site-packages/swifttools/swift_too/swift_data.py:394: UserWarning: sw00097550020sat.fits.gz exists and not overwritten (set clobber=True to override this).\n",
      "/home/idies/miniconda3/envs/heasoft/lib/python3.10/site-packages/swifttools/swift_too/swift_data.py:394: UserWarning: sw00097550020sen.hk.gz exists and not overwritten (set clobber=True to override this).\n",
      "/home/idies/miniconda3/envs/heasoft/lib/python3.10/site-packages/swifttools/swift_too/swift_data.py:394: UserWarning: sw00097550020sti.fits.gz exists and not overwritten (set clobber=True to override this).\n",
      "/home/idies/miniconda3/envs/heasoft/lib/python3.10/site-packages/swifttools/swift_too/swift_data.py:394: UserWarning: sw00097550020uat.fits.gz exists and not overwritten (set clobber=True to override this).\n",
      "/home/idies/miniconda3/envs/heasoft/lib/python3.10/site-packages/swifttools/swift_too/swift_data.py:394: UserWarning: sw00097550020x.mkf.gz exists and not overwritten (set clobber=True to override this).\n",
      "/home/idies/miniconda3/envs/heasoft/lib/python3.10/site-packages/swifttools/swift_too/swift_data.py:394: UserWarning: sw00097550020bdecb.hk.gz exists and not overwritten (set clobber=True to override this).\n",
      "/home/idies/miniconda3/envs/heasoft/lib/python3.10/site-packages/swifttools/swift_too/swift_data.py:394: UserWarning: sw00097550020bdp.hk.gz exists and not overwritten (set clobber=True to override this).\n",
      "/home/idies/miniconda3/envs/heasoft/lib/python3.10/site-packages/swifttools/swift_too/swift_data.py:394: UserWarning: sw00097550020ben.hk.gz exists and not overwritten (set clobber=True to override this).\n",
      "/home/idies/miniconda3/envs/heasoft/lib/python3.10/site-packages/swifttools/swift_too/swift_data.py:394: UserWarning: sw00097550020bgocb.hk.gz exists and not overwritten (set clobber=True to override this).\n",
      "/home/idies/miniconda3/envs/heasoft/lib/python3.10/site-packages/swifttools/swift_too/swift_data.py:394: UserWarning: sw00097550020bhd.hk.gz exists and not overwritten (set clobber=True to override this).\n",
      "/home/idies/miniconda3/envs/heasoft/lib/python3.10/site-packages/swifttools/swift_too/swift_data.py:394: UserWarning: sw00097550020bmt00010002.lc.gz exists and not overwritten (set clobber=True to override this).\n",
      "/home/idies/miniconda3/envs/heasoft/lib/python3.10/site-packages/swifttools/swift_too/swift_data.py:394: UserWarning: sw00097550020bmt00010002_rw.lc.gz exists and not overwritten (set clobber=True to override this).\n",
      "/home/idies/miniconda3/envs/heasoft/lib/python3.10/site-packages/swifttools/swift_too/swift_data.py:394: UserWarning: sw00097550020bmt00010004.lc.gz exists and not overwritten (set clobber=True to override this).\n",
      "/home/idies/miniconda3/envs/heasoft/lib/python3.10/site-packages/swifttools/swift_too/swift_data.py:394: UserWarning: sw00097550020bmt00010004_rw.lc.gz exists and not overwritten (set clobber=True to override this).\n",
      "/home/idies/miniconda3/envs/heasoft/lib/python3.10/site-packages/swifttools/swift_too/swift_data.py:394: UserWarning: sw00097550020bmt00013000.lc.gz exists and not overwritten (set clobber=True to override this).\n",
      "/home/idies/miniconda3/envs/heasoft/lib/python3.10/site-packages/swifttools/swift_too/swift_data.py:394: UserWarning: sw00097550020bmt00013000_rw.lc.gz exists and not overwritten (set clobber=True to override this).\n",
      "/home/idies/miniconda3/envs/heasoft/lib/python3.10/site-packages/swifttools/swift_too/swift_data.py:394: UserWarning: sw00097550020brt1s.lc.gz exists and not overwritten (set clobber=True to override this).\n",
      "/home/idies/miniconda3/envs/heasoft/lib/python3.10/site-packages/swifttools/swift_too/swift_data.py:394: UserWarning: sw00097550020brtmc.lc.gz exists and not overwritten (set clobber=True to override this).\n",
      "/home/idies/miniconda3/envs/heasoft/lib/python3.10/site-packages/swifttools/swift_too/swift_data.py:394: UserWarning: sw00097550020brtms.lc.gz exists and not overwritten (set clobber=True to override this).\n",
      "/home/idies/miniconda3/envs/heasoft/lib/python3.10/site-packages/swifttools/swift_too/swift_data.py:394: UserWarning: sw00097550020brtqd.lc.gz exists and not overwritten (set clobber=True to override this).\n",
      "/home/idies/miniconda3/envs/heasoft/lib/python3.10/site-packages/swifttools/swift_too/swift_data.py:394: UserWarning: sw00097550020bsvpbo451bg0e68.dph.gz exists and not overwritten (set clobber=True to override this).\n",
      "/home/idies/miniconda3/envs/heasoft/lib/python3.10/site-packages/swifttools/swift_too/swift_data.py:394: UserWarning: sw00097550020bsvpbo452dg0e6b.dph.gz exists and not overwritten (set clobber=True to override this).\n"
     ]
    },
    {
     "data": {
      "application/vnd.jupyter.widget-view+json": {
       "model_id": "8f6739f368a4416f8d27bfc51691e9a0",
       "version_major": 2,
       "version_minor": 0
      },
      "text/plain": [
       "Downloading files:   0%|          | 0/31 [00:00<?, ?files/s]"
      ]
     },
     "metadata": {},
     "output_type": "display_data"
    },
    {
     "name": "stderr",
     "output_type": "stream",
     "text": [
      "/home/idies/miniconda3/envs/heasoft/lib/python3.10/site-packages/swifttools/swift_too/swift_data.py:394: UserWarning: sw01231488002pat.fits.gz exists and not overwritten (set clobber=True to override this).\n",
      "/home/idies/miniconda3/envs/heasoft/lib/python3.10/site-packages/swifttools/swift_too/swift_data.py:394: UserWarning: sw01231488002pjb.par.gz exists and not overwritten (set clobber=True to override this).\n",
      "/home/idies/miniconda3/envs/heasoft/lib/python3.10/site-packages/swifttools/swift_too/swift_data.py:394: UserWarning: sw01231488002pob.cat.gz exists and not overwritten (set clobber=True to override this).\n",
      "/home/idies/miniconda3/envs/heasoft/lib/python3.10/site-packages/swifttools/swift_too/swift_data.py:394: UserWarning: sw01231488002ppr.par.gz exists and not overwritten (set clobber=True to override this).\n",
      "/home/idies/miniconda3/envs/heasoft/lib/python3.10/site-packages/swifttools/swift_too/swift_data.py:394: UserWarning: sw01231488002s.mkf.gz exists and not overwritten (set clobber=True to override this).\n",
      "/home/idies/miniconda3/envs/heasoft/lib/python3.10/site-packages/swifttools/swift_too/swift_data.py:394: UserWarning: sw01231488002sao.fits.gz exists and not overwritten (set clobber=True to override this).\n",
      "/home/idies/miniconda3/envs/heasoft/lib/python3.10/site-packages/swifttools/swift_too/swift_data.py:394: UserWarning: sw01231488002sat.fits.gz exists and not overwritten (set clobber=True to override this).\n",
      "/home/idies/miniconda3/envs/heasoft/lib/python3.10/site-packages/swifttools/swift_too/swift_data.py:394: UserWarning: sw01231488002sen.hk.gz exists and not overwritten (set clobber=True to override this).\n",
      "/home/idies/miniconda3/envs/heasoft/lib/python3.10/site-packages/swifttools/swift_too/swift_data.py:394: UserWarning: sw01231488002sti.fits.gz exists and not overwritten (set clobber=True to override this).\n",
      "/home/idies/miniconda3/envs/heasoft/lib/python3.10/site-packages/swifttools/swift_too/swift_data.py:394: UserWarning: sw01231488002uat.fits.gz exists and not overwritten (set clobber=True to override this).\n",
      "/home/idies/miniconda3/envs/heasoft/lib/python3.10/site-packages/swifttools/swift_too/swift_data.py:394: UserWarning: sw01231488002x.mkf.gz exists and not overwritten (set clobber=True to override this).\n",
      "/home/idies/miniconda3/envs/heasoft/lib/python3.10/site-packages/swifttools/swift_too/swift_data.py:394: UserWarning: sw01231488002bdecb.hk.gz exists and not overwritten (set clobber=True to override this).\n",
      "/home/idies/miniconda3/envs/heasoft/lib/python3.10/site-packages/swifttools/swift_too/swift_data.py:394: UserWarning: sw01231488002bdp.hk.gz exists and not overwritten (set clobber=True to override this).\n",
      "/home/idies/miniconda3/envs/heasoft/lib/python3.10/site-packages/swifttools/swift_too/swift_data.py:394: UserWarning: sw01231488002ben.hk.gz exists and not overwritten (set clobber=True to override this).\n",
      "/home/idies/miniconda3/envs/heasoft/lib/python3.10/site-packages/swifttools/swift_too/swift_data.py:394: UserWarning: sw01231488002bgocb.hk.gz exists and not overwritten (set clobber=True to override this).\n",
      "/home/idies/miniconda3/envs/heasoft/lib/python3.10/site-packages/swifttools/swift_too/swift_data.py:394: UserWarning: sw01231488002bhd.hk.gz exists and not overwritten (set clobber=True to override this).\n",
      "/home/idies/miniconda3/envs/heasoft/lib/python3.10/site-packages/swifttools/swift_too/swift_data.py:394: UserWarning: sw01231488002bmt00010002.lc.gz exists and not overwritten (set clobber=True to override this).\n",
      "/home/idies/miniconda3/envs/heasoft/lib/python3.10/site-packages/swifttools/swift_too/swift_data.py:394: UserWarning: sw01231488002bmt00010002_rw.lc.gz exists and not overwritten (set clobber=True to override this).\n",
      "/home/idies/miniconda3/envs/heasoft/lib/python3.10/site-packages/swifttools/swift_too/swift_data.py:394: UserWarning: sw01231488002bmt00010500.lc.gz exists and not overwritten (set clobber=True to override this).\n",
      "/home/idies/miniconda3/envs/heasoft/lib/python3.10/site-packages/swifttools/swift_too/swift_data.py:394: UserWarning: sw01231488002bmt00010500_rw.lc.gz exists and not overwritten (set clobber=True to override this).\n",
      "/home/idies/miniconda3/envs/heasoft/lib/python3.10/site-packages/swifttools/swift_too/swift_data.py:394: UserWarning: sw01231488002bmt00013000.lc.gz exists and not overwritten (set clobber=True to override this).\n",
      "/home/idies/miniconda3/envs/heasoft/lib/python3.10/site-packages/swifttools/swift_too/swift_data.py:394: UserWarning: sw01231488002bmt00013000_rw.lc.gz exists and not overwritten (set clobber=True to override this).\n",
      "/home/idies/miniconda3/envs/heasoft/lib/python3.10/site-packages/swifttools/swift_too/swift_data.py:394: UserWarning: sw01231488002brt1s.lc.gz exists and not overwritten (set clobber=True to override this).\n",
      "/home/idies/miniconda3/envs/heasoft/lib/python3.10/site-packages/swifttools/swift_too/swift_data.py:394: UserWarning: sw01231488002brtmc.lc.gz exists and not overwritten (set clobber=True to override this).\n",
      "/home/idies/miniconda3/envs/heasoft/lib/python3.10/site-packages/swifttools/swift_too/swift_data.py:394: UserWarning: sw01231488002brtms.lc.gz exists and not overwritten (set clobber=True to override this).\n",
      "/home/idies/miniconda3/envs/heasoft/lib/python3.10/site-packages/swifttools/swift_too/swift_data.py:394: UserWarning: sw01231488002brtqd.lc.gz exists and not overwritten (set clobber=True to override this).\n",
      "/home/idies/miniconda3/envs/heasoft/lib/python3.10/site-packages/swifttools/swift_too/swift_data.py:394: UserWarning: sw01231488002bsvpbo454bg0e71.dph.gz exists and not overwritten (set clobber=True to override this).\n",
      "/home/idies/miniconda3/envs/heasoft/lib/python3.10/site-packages/swifttools/swift_too/swift_data.py:394: UserWarning: sw01231488002bsvpbo454dg0e72.dph.gz exists and not overwritten (set clobber=True to override this).\n",
      "/home/idies/miniconda3/envs/heasoft/lib/python3.10/site-packages/swifttools/swift_too/swift_data.py:394: UserWarning: sw01231488002bsvpbo454fg0e72.dph.gz exists and not overwritten (set clobber=True to override this).\n",
      "/home/idies/miniconda3/envs/heasoft/lib/python3.10/site-packages/swifttools/swift_too/swift_data.py:394: UserWarning: sw01231488002bsvpbo4547g0e71.dph.gz exists and not overwritten (set clobber=True to override this).\n"
     ]
    },
    {
     "data": {
      "application/vnd.jupyter.widget-view+json": {
       "model_id": "33d75b856a2c4c8e96b7ec35934ba146",
       "version_major": 2,
       "version_minor": 0
      },
      "text/plain": [
       "Downloading files:   0%|          | 0/26 [00:00<?, ?files/s]"
      ]
     },
     "metadata": {},
     "output_type": "display_data"
    },
    {
     "name": "stderr",
     "output_type": "stream",
     "text": [
      "/home/idies/miniconda3/envs/heasoft/lib/python3.10/site-packages/swifttools/swift_too/swift_data.py:394: UserWarning: sw00095139006pat.fits.gz exists and not overwritten (set clobber=True to override this).\n",
      "/home/idies/miniconda3/envs/heasoft/lib/python3.10/site-packages/swifttools/swift_too/swift_data.py:394: UserWarning: sw00095139006pjb.par.gz exists and not overwritten (set clobber=True to override this).\n",
      "/home/idies/miniconda3/envs/heasoft/lib/python3.10/site-packages/swifttools/swift_too/swift_data.py:394: UserWarning: sw00095139006pob.cat.gz exists and not overwritten (set clobber=True to override this).\n",
      "/home/idies/miniconda3/envs/heasoft/lib/python3.10/site-packages/swifttools/swift_too/swift_data.py:394: UserWarning: sw00095139006ppr.par.gz exists and not overwritten (set clobber=True to override this).\n",
      "/home/idies/miniconda3/envs/heasoft/lib/python3.10/site-packages/swifttools/swift_too/swift_data.py:394: UserWarning: sw00095139006s.mkf.gz exists and not overwritten (set clobber=True to override this).\n",
      "/home/idies/miniconda3/envs/heasoft/lib/python3.10/site-packages/swifttools/swift_too/swift_data.py:394: UserWarning: sw00095139006sao.fits.gz exists and not overwritten (set clobber=True to override this).\n",
      "/home/idies/miniconda3/envs/heasoft/lib/python3.10/site-packages/swifttools/swift_too/swift_data.py:394: UserWarning: sw00095139006sat.fits.gz exists and not overwritten (set clobber=True to override this).\n",
      "/home/idies/miniconda3/envs/heasoft/lib/python3.10/site-packages/swifttools/swift_too/swift_data.py:394: UserWarning: sw00095139006sen.hk.gz exists and not overwritten (set clobber=True to override this).\n",
      "/home/idies/miniconda3/envs/heasoft/lib/python3.10/site-packages/swifttools/swift_too/swift_data.py:394: UserWarning: sw00095139006sti.fits.gz exists and not overwritten (set clobber=True to override this).\n",
      "/home/idies/miniconda3/envs/heasoft/lib/python3.10/site-packages/swifttools/swift_too/swift_data.py:394: UserWarning: sw00095139006uat.fits.gz exists and not overwritten (set clobber=True to override this).\n"
     ]
    },
    {
     "data": {
      "application/vnd.jupyter.widget-view+json": {
       "model_id": "0fa14ae6e19d4b8199cfd534233845e7",
       "version_major": 2,
       "version_minor": 0
      },
      "text/plain": [
       "Downloading files:   0%|          | 0/33 [00:00<?, ?files/s]"
      ]
     },
     "metadata": {},
     "output_type": "display_data"
    },
    {
     "name": "stderr",
     "output_type": "stream",
     "text": [
      "/home/idies/miniconda3/envs/heasoft/lib/python3.10/site-packages/swifttools/swift_too/swift_data.py:394: UserWarning: sw00095139006x.mkf.gz exists and not overwritten (set clobber=True to override this).\n",
      "/home/idies/miniconda3/envs/heasoft/lib/python3.10/site-packages/swifttools/swift_too/swift_data.py:394: UserWarning: sw00095139006bdecb.hk.gz exists and not overwritten (set clobber=True to override this).\n",
      "/home/idies/miniconda3/envs/heasoft/lib/python3.10/site-packages/swifttools/swift_too/swift_data.py:394: UserWarning: sw00095139006bdp.hk.gz exists and not overwritten (set clobber=True to override this).\n",
      "/home/idies/miniconda3/envs/heasoft/lib/python3.10/site-packages/swifttools/swift_too/swift_data.py:394: UserWarning: sw00095139006ben.hk.gz exists and not overwritten (set clobber=True to override this).\n",
      "/home/idies/miniconda3/envs/heasoft/lib/python3.10/site-packages/swifttools/swift_too/swift_data.py:394: UserWarning: sw00095139006bgocb.hk.gz exists and not overwritten (set clobber=True to override this).\n",
      "/home/idies/miniconda3/envs/heasoft/lib/python3.10/site-packages/swifttools/swift_too/swift_data.py:394: UserWarning: sw00095139006bhd.hk.gz exists and not overwritten (set clobber=True to override this).\n",
      "/home/idies/miniconda3/envs/heasoft/lib/python3.10/site-packages/swifttools/swift_too/swift_data.py:394: UserWarning: sw00097641001pat.fits.gz exists and not overwritten (set clobber=True to override this).\n",
      "/home/idies/miniconda3/envs/heasoft/lib/python3.10/site-packages/swifttools/swift_too/swift_data.py:394: UserWarning: sw00097641001pjb.par.gz exists and not overwritten (set clobber=True to override this).\n",
      "/home/idies/miniconda3/envs/heasoft/lib/python3.10/site-packages/swifttools/swift_too/swift_data.py:394: UserWarning: sw00095139006bmt00010002.lc.gz exists and not overwritten (set clobber=True to override this).\n",
      "/home/idies/miniconda3/envs/heasoft/lib/python3.10/site-packages/swifttools/swift_too/swift_data.py:394: UserWarning: sw00097641001pob.cat.gz exists and not overwritten (set clobber=True to override this).\n",
      "/home/idies/miniconda3/envs/heasoft/lib/python3.10/site-packages/swifttools/swift_too/swift_data.py:394: UserWarning: sw00097641001ppr.par.gz exists and not overwritten (set clobber=True to override this).\n",
      "/home/idies/miniconda3/envs/heasoft/lib/python3.10/site-packages/swifttools/swift_too/swift_data.py:394: UserWarning: sw00097641001s.mkf.gz exists and not overwritten (set clobber=True to override this).\n",
      "/home/idies/miniconda3/envs/heasoft/lib/python3.10/site-packages/swifttools/swift_too/swift_data.py:394: UserWarning: sw00097641001sao.fits.gz exists and not overwritten (set clobber=True to override this).\n",
      "/home/idies/miniconda3/envs/heasoft/lib/python3.10/site-packages/swifttools/swift_too/swift_data.py:394: UserWarning: sw00097641001sat.fits.gz exists and not overwritten (set clobber=True to override this).\n",
      "/home/idies/miniconda3/envs/heasoft/lib/python3.10/site-packages/swifttools/swift_too/swift_data.py:394: UserWarning: sw00097641001sen.hk.gz exists and not overwritten (set clobber=True to override this).\n",
      "/home/idies/miniconda3/envs/heasoft/lib/python3.10/site-packages/swifttools/swift_too/swift_data.py:394: UserWarning: sw00097641001sti.fits.gz exists and not overwritten (set clobber=True to override this).\n",
      "/home/idies/miniconda3/envs/heasoft/lib/python3.10/site-packages/swifttools/swift_too/swift_data.py:394: UserWarning: sw00095139006bmt00010002_rw.lc.gz exists and not overwritten (set clobber=True to override this).\n",
      "/home/idies/miniconda3/envs/heasoft/lib/python3.10/site-packages/swifttools/swift_too/swift_data.py:394: UserWarning: sw00095139006bmt00010004.lc.gz exists and not overwritten (set clobber=True to override this).\n",
      "/home/idies/miniconda3/envs/heasoft/lib/python3.10/site-packages/swifttools/swift_too/swift_data.py:394: UserWarning: sw00095139006bmt00010004_rw.lc.gz exists and not overwritten (set clobber=True to override this).\n",
      "/home/idies/miniconda3/envs/heasoft/lib/python3.10/site-packages/swifttools/swift_too/swift_data.py:394: UserWarning: sw00095139006brt1s.lc.gz exists and not overwritten (set clobber=True to override this).\n",
      "/home/idies/miniconda3/envs/heasoft/lib/python3.10/site-packages/swifttools/swift_too/swift_data.py:394: UserWarning: sw00095139006brtmc.lc.gz exists and not overwritten (set clobber=True to override this).\n",
      "/home/idies/miniconda3/envs/heasoft/lib/python3.10/site-packages/swifttools/swift_too/swift_data.py:394: UserWarning: sw00095139006brtms.lc.gz exists and not overwritten (set clobber=True to override this).\n",
      "/home/idies/miniconda3/envs/heasoft/lib/python3.10/site-packages/swifttools/swift_too/swift_data.py:394: UserWarning: sw00095139006brtqd.lc.gz exists and not overwritten (set clobber=True to override this).\n",
      "/home/idies/miniconda3/envs/heasoft/lib/python3.10/site-packages/swifttools/swift_too/swift_data.py:394: UserWarning: sw00095139006bsvpbo4531g0e6c.dph.gz exists and not overwritten (set clobber=True to override this).\n"
     ]
    },
    {
     "data": {
      "application/vnd.jupyter.widget-view+json": {
       "model_id": "02c290b8464541cc9e9383d96dc28cc5",
       "version_major": 2,
       "version_minor": 0
      },
      "text/plain": [
       "Downloading files:   0%|          | 0/27 [00:00<?, ?files/s]"
      ]
     },
     "metadata": {},
     "output_type": "display_data"
    },
    {
     "name": "stderr",
     "output_type": "stream",
     "text": [
      "/home/idies/miniconda3/envs/heasoft/lib/python3.10/site-packages/swifttools/swift_too/swift_data.py:394: UserWarning: sw00097641001uat.fits.gz exists and not overwritten (set clobber=True to override this).\n",
      "/home/idies/miniconda3/envs/heasoft/lib/python3.10/site-packages/swifttools/swift_too/swift_data.py:394: UserWarning: sw00097641001x.mkf.gz exists and not overwritten (set clobber=True to override this).\n",
      "/home/idies/miniconda3/envs/heasoft/lib/python3.10/site-packages/swifttools/swift_too/swift_data.py:394: UserWarning: sw00097641001bevshpo_uf.evt.gz exists and not overwritten (set clobber=True to override this).\n",
      "/home/idies/miniconda3/envs/heasoft/lib/python3.10/site-packages/swifttools/swift_too/swift_data.py:394: UserWarning: sw00097641001bdecb.hk.gz exists and not overwritten (set clobber=True to override this).\n",
      "/home/idies/miniconda3/envs/heasoft/lib/python3.10/site-packages/swifttools/swift_too/swift_data.py:394: UserWarning: sw00097641001bdp.hk.gz exists and not overwritten (set clobber=True to override this).\n",
      "/home/idies/miniconda3/envs/heasoft/lib/python3.10/site-packages/swifttools/swift_too/swift_data.py:394: UserWarning: sw00097641001bdqcb.hk.gz exists and not overwritten (set clobber=True to override this).\n",
      "/home/idies/miniconda3/envs/heasoft/lib/python3.10/site-packages/swifttools/swift_too/swift_data.py:394: UserWarning: sw00097641001ben.hk.gz exists and not overwritten (set clobber=True to override this).\n",
      "/home/idies/miniconda3/envs/heasoft/lib/python3.10/site-packages/swifttools/swift_too/swift_data.py:394: UserWarning: sw00097641001bevtlsp.hk.gz exists and not overwritten (set clobber=True to override this).\n",
      "/home/idies/miniconda3/envs/heasoft/lib/python3.10/site-packages/swifttools/swift_too/swift_data.py:394: UserWarning: sw00097641001bevtssp.hk.gz exists and not overwritten (set clobber=True to override this).\n",
      "/home/idies/miniconda3/envs/heasoft/lib/python3.10/site-packages/swifttools/swift_too/swift_data.py:394: UserWarning: sw00097641001bgocb.hk.gz exists and not overwritten (set clobber=True to override this).\n",
      "/home/idies/miniconda3/envs/heasoft/lib/python3.10/site-packages/swifttools/swift_too/swift_data.py:394: UserWarning: sw00097641001bhd.hk.gz exists and not overwritten (set clobber=True to override this).\n",
      "/home/idies/miniconda3/envs/heasoft/lib/python3.10/site-packages/swifttools/swift_too/swift_data.py:394: UserWarning: sw00097641001bmt00010009.lc.gz exists and not overwritten (set clobber=True to override this).\n",
      "/home/idies/miniconda3/envs/heasoft/lib/python3.10/site-packages/swifttools/swift_too/swift_data.py:394: UserWarning: sw00097641001bmt00010009_rw.lc.gz exists and not overwritten (set clobber=True to override this).\n",
      "/home/idies/miniconda3/envs/heasoft/lib/python3.10/site-packages/swifttools/swift_too/swift_data.py:394: UserWarning: sw00097641001bmt00010500.lc.gz exists and not overwritten (set clobber=True to override this).\n",
      "/home/idies/miniconda3/envs/heasoft/lib/python3.10/site-packages/swifttools/swift_too/swift_data.py:394: UserWarning: sw00097669003pat.fits.gz exists and not overwritten (set clobber=True to override this).\n",
      "/home/idies/miniconda3/envs/heasoft/lib/python3.10/site-packages/swifttools/swift_too/swift_data.py:394: UserWarning: sw00097641001bmt00010500_rw.lc.gz exists and not overwritten (set clobber=True to override this).\n",
      "/home/idies/miniconda3/envs/heasoft/lib/python3.10/site-packages/swifttools/swift_too/swift_data.py:394: UserWarning: sw00097641001bmt00013000.lc.gz exists and not overwritten (set clobber=True to override this).\n",
      "/home/idies/miniconda3/envs/heasoft/lib/python3.10/site-packages/swifttools/swift_too/swift_data.py:394: UserWarning: sw00097669003pjb.par.gz exists and not overwritten (set clobber=True to override this).\n",
      "/home/idies/miniconda3/envs/heasoft/lib/python3.10/site-packages/swifttools/swift_too/swift_data.py:394: UserWarning: sw00097669003pob.cat.gz exists and not overwritten (set clobber=True to override this).\n",
      "/home/idies/miniconda3/envs/heasoft/lib/python3.10/site-packages/swifttools/swift_too/swift_data.py:394: UserWarning: sw00097669003ppr.par.gz exists and not overwritten (set clobber=True to override this).\n",
      "/home/idies/miniconda3/envs/heasoft/lib/python3.10/site-packages/swifttools/swift_too/swift_data.py:394: UserWarning: sw00097669003s.mkf.gz exists and not overwritten (set clobber=True to override this).\n",
      "/home/idies/miniconda3/envs/heasoft/lib/python3.10/site-packages/swifttools/swift_too/swift_data.py:394: UserWarning: sw00097669003sao.fits.gz exists and not overwritten (set clobber=True to override this).\n",
      "/home/idies/miniconda3/envs/heasoft/lib/python3.10/site-packages/swifttools/swift_too/swift_data.py:394: UserWarning: sw00097669003sat.fits.gz exists and not overwritten (set clobber=True to override this).\n",
      "/home/idies/miniconda3/envs/heasoft/lib/python3.10/site-packages/swifttools/swift_too/swift_data.py:394: UserWarning: sw00097669003sen.hk.gz exists and not overwritten (set clobber=True to override this).\n",
      "/home/idies/miniconda3/envs/heasoft/lib/python3.10/site-packages/swifttools/swift_too/swift_data.py:394: UserWarning: sw00097669003sti.fits.gz exists and not overwritten (set clobber=True to override this).\n",
      "/home/idies/miniconda3/envs/heasoft/lib/python3.10/site-packages/swifttools/swift_too/swift_data.py:394: UserWarning: sw00097641001bmt00013000_rw.lc.gz exists and not overwritten (set clobber=True to override this).\n",
      "/home/idies/miniconda3/envs/heasoft/lib/python3.10/site-packages/swifttools/swift_too/swift_data.py:394: UserWarning: sw00097641001brt1s.lc.gz exists and not overwritten (set clobber=True to override this).\n",
      "/home/idies/miniconda3/envs/heasoft/lib/python3.10/site-packages/swifttools/swift_too/swift_data.py:394: UserWarning: sw00097641001brtmc.lc.gz exists and not overwritten (set clobber=True to override this).\n",
      "/home/idies/miniconda3/envs/heasoft/lib/python3.10/site-packages/swifttools/swift_too/swift_data.py:394: UserWarning: sw00097669003uat.fits.gz exists and not overwritten (set clobber=True to override this).\n",
      "/home/idies/miniconda3/envs/heasoft/lib/python3.10/site-packages/swifttools/swift_too/swift_data.py:394: UserWarning: sw00097669003x.mkf.gz exists and not overwritten (set clobber=True to override this).\n",
      "/home/idies/miniconda3/envs/heasoft/lib/python3.10/site-packages/swifttools/swift_too/swift_data.py:394: UserWarning: sw00097669003bdecb.hk.gz exists and not overwritten (set clobber=True to override this).\n",
      "/home/idies/miniconda3/envs/heasoft/lib/python3.10/site-packages/swifttools/swift_too/swift_data.py:394: UserWarning: sw00097669003bdp.hk.gz exists and not overwritten (set clobber=True to override this).\n",
      "/home/idies/miniconda3/envs/heasoft/lib/python3.10/site-packages/swifttools/swift_too/swift_data.py:394: UserWarning: sw00097669003ben.hk.gz exists and not overwritten (set clobber=True to override this).\n",
      "/home/idies/miniconda3/envs/heasoft/lib/python3.10/site-packages/swifttools/swift_too/swift_data.py:394: UserWarning: sw00097669003bgocb.hk.gz exists and not overwritten (set clobber=True to override this).\n",
      "/home/idies/miniconda3/envs/heasoft/lib/python3.10/site-packages/swifttools/swift_too/swift_data.py:394: UserWarning: sw00097669003bhd.hk.gz exists and not overwritten (set clobber=True to override this).\n",
      "/home/idies/miniconda3/envs/heasoft/lib/python3.10/site-packages/swifttools/swift_too/swift_data.py:394: UserWarning: sw00097669003bmt00010500.lc.gz exists and not overwritten (set clobber=True to override this).\n",
      "/home/idies/miniconda3/envs/heasoft/lib/python3.10/site-packages/swifttools/swift_too/swift_data.py:394: UserWarning: sw00097669003bmt00010500_rw.lc.gz exists and not overwritten (set clobber=True to override this).\n",
      "/home/idies/miniconda3/envs/heasoft/lib/python3.10/site-packages/swifttools/swift_too/swift_data.py:394: UserWarning: sw00097669003bmt00013000.lc.gz exists and not overwritten (set clobber=True to override this).\n",
      "/home/idies/miniconda3/envs/heasoft/lib/python3.10/site-packages/swifttools/swift_too/swift_data.py:394: UserWarning: sw00097641001brtms.lc.gz exists and not overwritten (set clobber=True to override this).\n",
      "/home/idies/miniconda3/envs/heasoft/lib/python3.10/site-packages/swifttools/swift_too/swift_data.py:394: UserWarning: sw00097641001brtqd.lc.gz exists and not overwritten (set clobber=True to override this).\n",
      "/home/idies/miniconda3/envs/heasoft/lib/python3.10/site-packages/swifttools/swift_too/swift_data.py:394: UserWarning: sw00097669003bmt00013000_rw.lc.gz exists and not overwritten (set clobber=True to override this).\n",
      "/home/idies/miniconda3/envs/heasoft/lib/python3.10/site-packages/swifttools/swift_too/swift_data.py:394: UserWarning: sw00097669003brt1s.lc.gz exists and not overwritten (set clobber=True to override this).\n",
      "/home/idies/miniconda3/envs/heasoft/lib/python3.10/site-packages/swifttools/swift_too/swift_data.py:394: UserWarning: sw00097669003brtmc.lc.gz exists and not overwritten (set clobber=True to override this).\n",
      "/home/idies/miniconda3/envs/heasoft/lib/python3.10/site-packages/swifttools/swift_too/swift_data.py:394: UserWarning: sw00097669003brtms.lc.gz exists and not overwritten (set clobber=True to override this).\n",
      "/home/idies/miniconda3/envs/heasoft/lib/python3.10/site-packages/swifttools/swift_too/swift_data.py:394: UserWarning: sw00097669003brtqd.lc.gz exists and not overwritten (set clobber=True to override this).\n",
      "/home/idies/miniconda3/envs/heasoft/lib/python3.10/site-packages/swifttools/swift_too/swift_data.py:394: UserWarning: sw00097641001bsvpbo4540g0e6f.dph.gz exists and not overwritten (set clobber=True to override this).\n",
      "/home/idies/miniconda3/envs/heasoft/lib/python3.10/site-packages/swifttools/swift_too/swift_data.py:394: UserWarning: sw00097641001bsvpbo4550g0e72.dph.gz exists and not overwritten (set clobber=True to override this).\n",
      "/home/idies/miniconda3/envs/heasoft/lib/python3.10/site-packages/swifttools/swift_too/swift_data.py:394: UserWarning: sw00097669003bsvpbo451fg0e69.dph.gz exists and not overwritten (set clobber=True to override this).\n",
      "/home/idies/miniconda3/envs/heasoft/lib/python3.10/site-packages/swifttools/swift_too/swift_data.py:394: UserWarning: sw00097669003bsvpbo4518g0e67.dph.gz exists and not overwritten (set clobber=True to override this).\n"
     ]
    },
    {
     "data": {
      "application/vnd.jupyter.widget-view+json": {
       "model_id": "602b1068f3ee452cb0af48353610abe2",
       "version_major": 2,
       "version_minor": 0
      },
      "text/plain": [
       "Downloading files:   0%|          | 0/38 [00:00<?, ?files/s]"
      ]
     },
     "metadata": {},
     "output_type": "display_data"
    },
    {
     "name": "stderr",
     "output_type": "stream",
     "text": [
      "/home/idies/miniconda3/envs/heasoft/lib/python3.10/site-packages/swifttools/swift_too/swift_data.py:394: UserWarning: sw01231488001pat.fits.gz exists and not overwritten (set clobber=True to override this).\n",
      "/home/idies/miniconda3/envs/heasoft/lib/python3.10/site-packages/swifttools/swift_too/swift_data.py:394: UserWarning: sw01231488001pjb.par.gz exists and not overwritten (set clobber=True to override this).\n",
      "/home/idies/miniconda3/envs/heasoft/lib/python3.10/site-packages/swifttools/swift_too/swift_data.py:394: UserWarning: sw01231488001pob.cat.gz exists and not overwritten (set clobber=True to override this).\n",
      "/home/idies/miniconda3/envs/heasoft/lib/python3.10/site-packages/swifttools/swift_too/swift_data.py:394: UserWarning: sw01231488001ppr.par.gz exists and not overwritten (set clobber=True to override this).\n",
      "/home/idies/miniconda3/envs/heasoft/lib/python3.10/site-packages/swifttools/swift_too/swift_data.py:394: UserWarning: sw01231488001s.mkf.gz exists and not overwritten (set clobber=True to override this).\n",
      "/home/idies/miniconda3/envs/heasoft/lib/python3.10/site-packages/swifttools/swift_too/swift_data.py:394: UserWarning: sw01231488001sao.fits.gz exists and not overwritten (set clobber=True to override this).\n",
      "/home/idies/miniconda3/envs/heasoft/lib/python3.10/site-packages/swifttools/swift_too/swift_data.py:394: UserWarning: sw01231488001sat.fits.gz exists and not overwritten (set clobber=True to override this).\n",
      "/home/idies/miniconda3/envs/heasoft/lib/python3.10/site-packages/swifttools/swift_too/swift_data.py:394: UserWarning: sw01231488001sen.hk.gz exists and not overwritten (set clobber=True to override this).\n",
      "/home/idies/miniconda3/envs/heasoft/lib/python3.10/site-packages/swifttools/swift_too/swift_data.py:394: UserWarning: sw01231488001sti.fits.gz exists and not overwritten (set clobber=True to override this).\n",
      "/home/idies/miniconda3/envs/heasoft/lib/python3.10/site-packages/swifttools/swift_too/swift_data.py:394: UserWarning: sw01231488001uat.fits.gz exists and not overwritten (set clobber=True to override this).\n",
      "/home/idies/miniconda3/envs/heasoft/lib/python3.10/site-packages/swifttools/swift_too/swift_data.py:394: UserWarning: sw01231488001x.mkf.gz exists and not overwritten (set clobber=True to override this).\n",
      "/home/idies/miniconda3/envs/heasoft/lib/python3.10/site-packages/swifttools/swift_too/swift_data.py:394: UserWarning: sw01231488001bevshpo_uf.evt.gz exists and not overwritten (set clobber=True to override this).\n",
      "/home/idies/miniconda3/envs/heasoft/lib/python3.10/site-packages/swifttools/swift_too/swift_data.py:394: UserWarning: sw01231488001bdecb.hk.gz exists and not overwritten (set clobber=True to override this).\n",
      "/home/idies/miniconda3/envs/heasoft/lib/python3.10/site-packages/swifttools/swift_too/swift_data.py:394: UserWarning: sw01231488001bdp.hk.gz exists and not overwritten (set clobber=True to override this).\n",
      "/home/idies/miniconda3/envs/heasoft/lib/python3.10/site-packages/swifttools/swift_too/swift_data.py:394: UserWarning: sw01231488001bdqcb.hk.gz exists and not overwritten (set clobber=True to override this).\n",
      "/home/idies/miniconda3/envs/heasoft/lib/python3.10/site-packages/swifttools/swift_too/swift_data.py:394: UserWarning: sw01231488001ben.hk.gz exists and not overwritten (set clobber=True to override this).\n",
      "/home/idies/miniconda3/envs/heasoft/lib/python3.10/site-packages/swifttools/swift_too/swift_data.py:394: UserWarning: sw01231488001bevtlsp.hk.gz exists and not overwritten (set clobber=True to override this).\n",
      "/home/idies/miniconda3/envs/heasoft/lib/python3.10/site-packages/swifttools/swift_too/swift_data.py:394: UserWarning: sw01231488001bevtssp.hk.gz exists and not overwritten (set clobber=True to override this).\n",
      "/home/idies/miniconda3/envs/heasoft/lib/python3.10/site-packages/swifttools/swift_too/swift_data.py:394: UserWarning: sw01231488001bgocb.hk.gz exists and not overwritten (set clobber=True to override this).\n",
      "/home/idies/miniconda3/envs/heasoft/lib/python3.10/site-packages/swifttools/swift_too/swift_data.py:394: UserWarning: sw01231488001bhd.hk.gz exists and not overwritten (set clobber=True to override this).\n",
      "/home/idies/miniconda3/envs/heasoft/lib/python3.10/site-packages/swifttools/swift_too/swift_data.py:394: UserWarning: sw01231488001bmt00010002.lc.gz exists and not overwritten (set clobber=True to override this).\n",
      "/home/idies/miniconda3/envs/heasoft/lib/python3.10/site-packages/swifttools/swift_too/swift_data.py:394: UserWarning: sw01231488001bmt00010002_rw.lc.gz exists and not overwritten (set clobber=True to override this).\n",
      "/home/idies/miniconda3/envs/heasoft/lib/python3.10/site-packages/swifttools/swift_too/swift_data.py:394: UserWarning: sw01231488001bmt00010500.lc.gz exists and not overwritten (set clobber=True to override this).\n",
      "/home/idies/miniconda3/envs/heasoft/lib/python3.10/site-packages/swifttools/swift_too/swift_data.py:394: UserWarning: sw01231488001bmt00010500_rw.lc.gz exists and not overwritten (set clobber=True to override this).\n",
      "/home/idies/miniconda3/envs/heasoft/lib/python3.10/site-packages/swifttools/swift_too/swift_data.py:394: UserWarning: sw01231488001bmt00013000.lc.gz exists and not overwritten (set clobber=True to override this).\n",
      "/home/idies/miniconda3/envs/heasoft/lib/python3.10/site-packages/swifttools/swift_too/swift_data.py:394: UserWarning: sw01231488001bmt00013000_rw.lc.gz exists and not overwritten (set clobber=True to override this).\n",
      "/home/idies/miniconda3/envs/heasoft/lib/python3.10/site-packages/swifttools/swift_too/swift_data.py:394: UserWarning: sw01231488001brt1s.lc.gz exists and not overwritten (set clobber=True to override this).\n",
      "/home/idies/miniconda3/envs/heasoft/lib/python3.10/site-packages/swifttools/swift_too/swift_data.py:394: UserWarning: sw01231488001brtmc.lc.gz exists and not overwritten (set clobber=True to override this).\n",
      "/home/idies/miniconda3/envs/heasoft/lib/python3.10/site-packages/swifttools/swift_too/swift_data.py:394: UserWarning: sw01231488001brtms.lc.gz exists and not overwritten (set clobber=True to override this).\n",
      "/home/idies/miniconda3/envs/heasoft/lib/python3.10/site-packages/swifttools/swift_too/swift_data.py:394: UserWarning: sw01231488001brtqd.lc.gz exists and not overwritten (set clobber=True to override this).\n",
      "/home/idies/miniconda3/envs/heasoft/lib/python3.10/site-packages/swifttools/swift_too/swift_data.py:394: UserWarning: sw01231488001bsvpbo453bg0e6e.dph.gz exists and not overwritten (set clobber=True to override this).\n",
      "/home/idies/miniconda3/envs/heasoft/lib/python3.10/site-packages/swifttools/swift_too/swift_data.py:394: UserWarning: sw01231488001bsvpbo453dg0e6f.dph.gz exists and not overwritten (set clobber=True to override this).\n",
      "/home/idies/miniconda3/envs/heasoft/lib/python3.10/site-packages/swifttools/swift_too/swift_data.py:394: UserWarning: sw01231488001bsvpbo4537g0e6d.dph.gz exists and not overwritten (set clobber=True to override this).\n",
      "/home/idies/miniconda3/envs/heasoft/lib/python3.10/site-packages/swifttools/swift_too/swift_data.py:394: UserWarning: sw01231488001bsvpbo4539g0e6e.dph.gz exists and not overwritten (set clobber=True to override this).\n",
      "/home/idies/miniconda3/envs/heasoft/lib/python3.10/site-packages/swifttools/swift_too/swift_data.py:394: UserWarning: sw01231488001bsvpbo4540g0e6f.dph.gz exists and not overwritten (set clobber=True to override this).\n",
      "/home/idies/miniconda3/envs/heasoft/lib/python3.10/site-packages/swifttools/swift_too/swift_data.py:394: UserWarning: sw01231488001bsvpbo4542g0e70.dph.gz exists and not overwritten (set clobber=True to override this).\n",
      "/home/idies/miniconda3/envs/heasoft/lib/python3.10/site-packages/swifttools/swift_too/swift_data.py:394: UserWarning: sw01231488001bsvpbo4544g0e70.dph.gz exists and not overwritten (set clobber=True to override this).\n"
     ]
    },
    {
     "data": {
      "application/vnd.jupyter.widget-view+json": {
       "model_id": "57be58bf7cce4f1f98545572ee9e19af",
       "version_major": 2,
       "version_minor": 0
      },
      "text/plain": [
       "Downloading files:   0%|          | 0/27 [00:00<?, ?files/s]"
      ]
     },
     "metadata": {},
     "output_type": "display_data"
    },
    {
     "name": "stderr",
     "output_type": "stream",
     "text": [
      "/home/idies/miniconda3/envs/heasoft/lib/python3.10/site-packages/swifttools/swift_too/swift_data.py:394: UserWarning: sw00090372003pat.fits.gz exists and not overwritten (set clobber=True to override this).\n",
      "/home/idies/miniconda3/envs/heasoft/lib/python3.10/site-packages/swifttools/swift_too/swift_data.py:394: UserWarning: sw00090372003pjb.par.gz exists and not overwritten (set clobber=True to override this).\n",
      "/home/idies/miniconda3/envs/heasoft/lib/python3.10/site-packages/swifttools/swift_too/swift_data.py:394: UserWarning: sw00090372003pob.cat.gz exists and not overwritten (set clobber=True to override this).\n",
      "/home/idies/miniconda3/envs/heasoft/lib/python3.10/site-packages/swifttools/swift_too/swift_data.py:394: UserWarning: sw00090372003ppr.par.gz exists and not overwritten (set clobber=True to override this).\n",
      "/home/idies/miniconda3/envs/heasoft/lib/python3.10/site-packages/swifttools/swift_too/swift_data.py:394: UserWarning: sw00090372003s.mkf.gz exists and not overwritten (set clobber=True to override this).\n",
      "/home/idies/miniconda3/envs/heasoft/lib/python3.10/site-packages/swifttools/swift_too/swift_data.py:394: UserWarning: sw00090372003sao.fits.gz exists and not overwritten (set clobber=True to override this).\n",
      "/home/idies/miniconda3/envs/heasoft/lib/python3.10/site-packages/swifttools/swift_too/swift_data.py:394: UserWarning: sw00090372003sat.fits.gz exists and not overwritten (set clobber=True to override this).\n",
      "/home/idies/miniconda3/envs/heasoft/lib/python3.10/site-packages/swifttools/swift_too/swift_data.py:394: UserWarning: sw00090372003sen.hk.gz exists and not overwritten (set clobber=True to override this).\n",
      "/home/idies/miniconda3/envs/heasoft/lib/python3.10/site-packages/swifttools/swift_too/swift_data.py:394: UserWarning: sw00090372003sti.fits.gz exists and not overwritten (set clobber=True to override this).\n",
      "/home/idies/miniconda3/envs/heasoft/lib/python3.10/site-packages/swifttools/swift_too/swift_data.py:394: UserWarning: sw00090372003uat.fits.gz exists and not overwritten (set clobber=True to override this).\n",
      "/home/idies/miniconda3/envs/heasoft/lib/python3.10/site-packages/swifttools/swift_too/swift_data.py:394: UserWarning: sw00090372003x.mkf.gz exists and not overwritten (set clobber=True to override this).\n",
      "/home/idies/miniconda3/envs/heasoft/lib/python3.10/site-packages/swifttools/swift_too/swift_data.py:394: UserWarning: sw00090372003bdecb.hk.gz exists and not overwritten (set clobber=True to override this).\n",
      "/home/idies/miniconda3/envs/heasoft/lib/python3.10/site-packages/swifttools/swift_too/swift_data.py:394: UserWarning: sw00090372003bdp.hk.gz exists and not overwritten (set clobber=True to override this).\n",
      "/home/idies/miniconda3/envs/heasoft/lib/python3.10/site-packages/swifttools/swift_too/swift_data.py:394: UserWarning: sw00090372003ben.hk.gz exists and not overwritten (set clobber=True to override this).\n",
      "/home/idies/miniconda3/envs/heasoft/lib/python3.10/site-packages/swifttools/swift_too/swift_data.py:394: UserWarning: sw00090372003bgocb.hk.gz exists and not overwritten (set clobber=True to override this).\n",
      "/home/idies/miniconda3/envs/heasoft/lib/python3.10/site-packages/swifttools/swift_too/swift_data.py:394: UserWarning: sw00090372003bhd.hk.gz exists and not overwritten (set clobber=True to override this).\n"
     ]
    },
    {
     "data": {
      "application/vnd.jupyter.widget-view+json": {
       "model_id": "4fad6030cf8f4b9c9dcca921f13023dc",
       "version_major": 2,
       "version_minor": 0
      },
      "text/plain": [
       "Downloading files:   0%|          | 0/28 [00:00<?, ?files/s]"
      ]
     },
     "metadata": {},
     "output_type": "display_data"
    },
    {
     "name": "stderr",
     "output_type": "stream",
     "text": [
      "/home/idies/miniconda3/envs/heasoft/lib/python3.10/site-packages/swifttools/swift_too/swift_data.py:394: UserWarning: sw00090372003bmt00010500.lc.gz exists and not overwritten (set clobber=True to override this).\n",
      "/home/idies/miniconda3/envs/heasoft/lib/python3.10/site-packages/swifttools/swift_too/swift_data.py:394: UserWarning: sw00090372003bmt00010500_rw.lc.gz exists and not overwritten (set clobber=True to override this).\n",
      "/home/idies/miniconda3/envs/heasoft/lib/python3.10/site-packages/swifttools/swift_too/swift_data.py:394: UserWarning: sw00081002003pat.fits.gz exists and not overwritten (set clobber=True to override this).\n",
      "/home/idies/miniconda3/envs/heasoft/lib/python3.10/site-packages/swifttools/swift_too/swift_data.py:394: UserWarning: sw00081002003pjb.par.gz exists and not overwritten (set clobber=True to override this).\n",
      "/home/idies/miniconda3/envs/heasoft/lib/python3.10/site-packages/swifttools/swift_too/swift_data.py:394: UserWarning: sw00081002003pob.cat.gz exists and not overwritten (set clobber=True to override this).\n",
      "/home/idies/miniconda3/envs/heasoft/lib/python3.10/site-packages/swifttools/swift_too/swift_data.py:394: UserWarning: sw00081002003ppr.par.gz exists and not overwritten (set clobber=True to override this).\n",
      "/home/idies/miniconda3/envs/heasoft/lib/python3.10/site-packages/swifttools/swift_too/swift_data.py:394: UserWarning: sw00081002003s.mkf.gz exists and not overwritten (set clobber=True to override this).\n",
      "/home/idies/miniconda3/envs/heasoft/lib/python3.10/site-packages/swifttools/swift_too/swift_data.py:394: UserWarning: sw00081002003sao.fits.gz exists and not overwritten (set clobber=True to override this).\n",
      "/home/idies/miniconda3/envs/heasoft/lib/python3.10/site-packages/swifttools/swift_too/swift_data.py:394: UserWarning: sw00081002003sat.fits.gz exists and not overwritten (set clobber=True to override this).\n",
      "/home/idies/miniconda3/envs/heasoft/lib/python3.10/site-packages/swifttools/swift_too/swift_data.py:394: UserWarning: sw00081002003sen.hk.gz exists and not overwritten (set clobber=True to override this).\n",
      "/home/idies/miniconda3/envs/heasoft/lib/python3.10/site-packages/swifttools/swift_too/swift_data.py:394: UserWarning: sw00081002003sti.fits.gz exists and not overwritten (set clobber=True to override this).\n",
      "/home/idies/miniconda3/envs/heasoft/lib/python3.10/site-packages/swifttools/swift_too/swift_data.py:394: UserWarning: sw00081002003uat.fits.gz exists and not overwritten (set clobber=True to override this).\n",
      "/home/idies/miniconda3/envs/heasoft/lib/python3.10/site-packages/swifttools/swift_too/swift_data.py:394: UserWarning: sw00081002003x.mkf.gz exists and not overwritten (set clobber=True to override this).\n",
      "/home/idies/miniconda3/envs/heasoft/lib/python3.10/site-packages/swifttools/swift_too/swift_data.py:394: UserWarning: sw00081002003bdecb.hk.gz exists and not overwritten (set clobber=True to override this).\n",
      "/home/idies/miniconda3/envs/heasoft/lib/python3.10/site-packages/swifttools/swift_too/swift_data.py:394: UserWarning: sw00081002003bdp.hk.gz exists and not overwritten (set clobber=True to override this).\n",
      "/home/idies/miniconda3/envs/heasoft/lib/python3.10/site-packages/swifttools/swift_too/swift_data.py:394: UserWarning: sw00081002003ben.hk.gz exists and not overwritten (set clobber=True to override this).\n",
      "/home/idies/miniconda3/envs/heasoft/lib/python3.10/site-packages/swifttools/swift_too/swift_data.py:394: UserWarning: sw00081002003bgocb.hk.gz exists and not overwritten (set clobber=True to override this).\n",
      "/home/idies/miniconda3/envs/heasoft/lib/python3.10/site-packages/swifttools/swift_too/swift_data.py:394: UserWarning: sw00081002003bhd.hk.gz exists and not overwritten (set clobber=True to override this).\n",
      "/home/idies/miniconda3/envs/heasoft/lib/python3.10/site-packages/swifttools/swift_too/swift_data.py:394: UserWarning: sw00081002003bmt00010009.lc.gz exists and not overwritten (set clobber=True to override this).\n",
      "/home/idies/miniconda3/envs/heasoft/lib/python3.10/site-packages/swifttools/swift_too/swift_data.py:394: UserWarning: sw00081002003bmt00010009_rw.lc.gz exists and not overwritten (set clobber=True to override this).\n",
      "/home/idies/miniconda3/envs/heasoft/lib/python3.10/site-packages/swifttools/swift_too/swift_data.py:394: UserWarning: sw00081002003bmt00010500.lc.gz exists and not overwritten (set clobber=True to override this).\n",
      "/home/idies/miniconda3/envs/heasoft/lib/python3.10/site-packages/swifttools/swift_too/swift_data.py:394: UserWarning: sw00081002003bmt00010500_rw.lc.gz exists and not overwritten (set clobber=True to override this).\n",
      "/home/idies/miniconda3/envs/heasoft/lib/python3.10/site-packages/swifttools/swift_too/swift_data.py:394: UserWarning: sw00081002003bmt00013000.lc.gz exists and not overwritten (set clobber=True to override this).\n",
      "/home/idies/miniconda3/envs/heasoft/lib/python3.10/site-packages/swifttools/swift_too/swift_data.py:394: UserWarning: sw00081002003bmt00013000_rw.lc.gz exists and not overwritten (set clobber=True to override this).\n",
      "/home/idies/miniconda3/envs/heasoft/lib/python3.10/site-packages/swifttools/swift_too/swift_data.py:394: UserWarning: sw00081002003brt1s.lc.gz exists and not overwritten (set clobber=True to override this).\n",
      "/home/idies/miniconda3/envs/heasoft/lib/python3.10/site-packages/swifttools/swift_too/swift_data.py:394: UserWarning: sw00090372003bmt00013000.lc.gz exists and not overwritten (set clobber=True to override this).\n",
      "/home/idies/miniconda3/envs/heasoft/lib/python3.10/site-packages/swifttools/swift_too/swift_data.py:394: UserWarning: sw00081002003brtmc.lc.gz exists and not overwritten (set clobber=True to override this).\n",
      "/home/idies/miniconda3/envs/heasoft/lib/python3.10/site-packages/swifttools/swift_too/swift_data.py:394: UserWarning: sw00081002003brtms.lc.gz exists and not overwritten (set clobber=True to override this).\n",
      "/home/idies/miniconda3/envs/heasoft/lib/python3.10/site-packages/swifttools/swift_too/swift_data.py:394: UserWarning: sw00081002003brtqd.lc.gz exists and not overwritten (set clobber=True to override this).\n",
      "/home/idies/miniconda3/envs/heasoft/lib/python3.10/site-packages/swifttools/swift_too/swift_data.py:394: UserWarning: sw00081002003bsvpbo4519g0e67.dph.gz exists and not overwritten (set clobber=True to override this).\n",
      "/home/idies/miniconda3/envs/heasoft/lib/python3.10/site-packages/swifttools/swift_too/swift_data.py:394: UserWarning: sw00090372003bmt00013000_rw.lc.gz exists and not overwritten (set clobber=True to override this).\n",
      "/home/idies/miniconda3/envs/heasoft/lib/python3.10/site-packages/swifttools/swift_too/swift_data.py:394: UserWarning: sw00090372003brt1s.lc.gz exists and not overwritten (set clobber=True to override this).\n",
      "/home/idies/miniconda3/envs/heasoft/lib/python3.10/site-packages/swifttools/swift_too/swift_data.py:394: UserWarning: sw00090372003brtmc.lc.gz exists and not overwritten (set clobber=True to override this).\n",
      "/home/idies/miniconda3/envs/heasoft/lib/python3.10/site-packages/swifttools/swift_too/swift_data.py:394: UserWarning: sw00090372003brtms.lc.gz exists and not overwritten (set clobber=True to override this).\n",
      "/home/idies/miniconda3/envs/heasoft/lib/python3.10/site-packages/swifttools/swift_too/swift_data.py:394: UserWarning: sw00090372003brtqd.lc.gz exists and not overwritten (set clobber=True to override this).\n",
      "/home/idies/miniconda3/envs/heasoft/lib/python3.10/site-packages/swifttools/swift_too/swift_data.py:394: UserWarning: sw00090372003bsvpbo4533g0e6d.dph.gz exists and not overwritten (set clobber=True to override this).\n"
     ]
    },
    {
     "data": {
      "application/vnd.jupyter.widget-view+json": {
       "model_id": "93aa101072a34125846e9d5404d14e58",
       "version_major": 2,
       "version_minor": 0
      },
      "text/plain": [
       "Downloading files:   0%|          | 0/27 [00:00<?, ?files/s]"
      ]
     },
     "metadata": {},
     "output_type": "display_data"
    },
    {
     "name": "stderr",
     "output_type": "stream",
     "text": [
      "/home/idies/miniconda3/envs/heasoft/lib/python3.10/site-packages/swifttools/swift_too/swift_data.py:394: UserWarning: sw00090372003bsvpbo4551g0e73.dph.gz exists and not overwritten (set clobber=True to override this).\n",
      "/home/idies/miniconda3/envs/heasoft/lib/python3.10/site-packages/swifttools/swift_too/swift_data.py:394: UserWarning: sw00016397007pat.fits.gz exists and not overwritten (set clobber=True to override this).\n",
      "/home/idies/miniconda3/envs/heasoft/lib/python3.10/site-packages/swifttools/swift_too/swift_data.py:394: UserWarning: sw00016397007pjb.par.gz exists and not overwritten (set clobber=True to override this).\n",
      "/home/idies/miniconda3/envs/heasoft/lib/python3.10/site-packages/swifttools/swift_too/swift_data.py:394: UserWarning: sw00016397007pob.cat.gz exists and not overwritten (set clobber=True to override this).\n",
      "/home/idies/miniconda3/envs/heasoft/lib/python3.10/site-packages/swifttools/swift_too/swift_data.py:394: UserWarning: sw00016397007ppr.par.gz exists and not overwritten (set clobber=True to override this).\n",
      "/home/idies/miniconda3/envs/heasoft/lib/python3.10/site-packages/swifttools/swift_too/swift_data.py:394: UserWarning: sw00016397007s.mkf.gz exists and not overwritten (set clobber=True to override this).\n",
      "/home/idies/miniconda3/envs/heasoft/lib/python3.10/site-packages/swifttools/swift_too/swift_data.py:394: UserWarning: sw00016397007sao.fits.gz exists and not overwritten (set clobber=True to override this).\n",
      "/home/idies/miniconda3/envs/heasoft/lib/python3.10/site-packages/swifttools/swift_too/swift_data.py:394: UserWarning: sw00016397007sat.fits.gz exists and not overwritten (set clobber=True to override this).\n",
      "/home/idies/miniconda3/envs/heasoft/lib/python3.10/site-packages/swifttools/swift_too/swift_data.py:394: UserWarning: sw00016397007sen.hk.gz exists and not overwritten (set clobber=True to override this).\n",
      "/home/idies/miniconda3/envs/heasoft/lib/python3.10/site-packages/swifttools/swift_too/swift_data.py:394: UserWarning: sw00016397007sti.fits.gz exists and not overwritten (set clobber=True to override this).\n",
      "/home/idies/miniconda3/envs/heasoft/lib/python3.10/site-packages/swifttools/swift_too/swift_data.py:394: UserWarning: sw00016397007uat.fits.gz exists and not overwritten (set clobber=True to override this).\n",
      "/home/idies/miniconda3/envs/heasoft/lib/python3.10/site-packages/swifttools/swift_too/swift_data.py:394: UserWarning: sw00016397007x.mkf.gz exists and not overwritten (set clobber=True to override this).\n",
      "/home/idies/miniconda3/envs/heasoft/lib/python3.10/site-packages/swifttools/swift_too/swift_data.py:394: UserWarning: sw00016397007bdecb.hk.gz exists and not overwritten (set clobber=True to override this).\n",
      "/home/idies/miniconda3/envs/heasoft/lib/python3.10/site-packages/swifttools/swift_too/swift_data.py:394: UserWarning: sw00016397007bdp.hk.gz exists and not overwritten (set clobber=True to override this).\n",
      "/home/idies/miniconda3/envs/heasoft/lib/python3.10/site-packages/swifttools/swift_too/swift_data.py:394: UserWarning: sw00016397007ben.hk.gz exists and not overwritten (set clobber=True to override this).\n",
      "/home/idies/miniconda3/envs/heasoft/lib/python3.10/site-packages/swifttools/swift_too/swift_data.py:394: UserWarning: sw00016397007bgocb.hk.gz exists and not overwritten (set clobber=True to override this).\n",
      "/home/idies/miniconda3/envs/heasoft/lib/python3.10/site-packages/swifttools/swift_too/swift_data.py:394: UserWarning: sw00016397007bhd.hk.gz exists and not overwritten (set clobber=True to override this).\n",
      "/home/idies/miniconda3/envs/heasoft/lib/python3.10/site-packages/swifttools/swift_too/swift_data.py:394: UserWarning: sw00016397007bmt00010500.lc.gz exists and not overwritten (set clobber=True to override this).\n",
      "/home/idies/miniconda3/envs/heasoft/lib/python3.10/site-packages/swifttools/swift_too/swift_data.py:394: UserWarning: sw00016397007bmt00010500_rw.lc.gz exists and not overwritten (set clobber=True to override this).\n",
      "/home/idies/miniconda3/envs/heasoft/lib/python3.10/site-packages/swifttools/swift_too/swift_data.py:394: UserWarning: sw00016397007bmt00013000.lc.gz exists and not overwritten (set clobber=True to override this).\n",
      "/home/idies/miniconda3/envs/heasoft/lib/python3.10/site-packages/swifttools/swift_too/swift_data.py:394: UserWarning: sw00016397007bmt00013000_rw.lc.gz exists and not overwritten (set clobber=True to override this).\n",
      "/home/idies/miniconda3/envs/heasoft/lib/python3.10/site-packages/swifttools/swift_too/swift_data.py:394: UserWarning: sw00016397007brt1s.lc.gz exists and not overwritten (set clobber=True to override this).\n",
      "/home/idies/miniconda3/envs/heasoft/lib/python3.10/site-packages/swifttools/swift_too/swift_data.py:394: UserWarning: sw00016397007brtmc.lc.gz exists and not overwritten (set clobber=True to override this).\n",
      "/home/idies/miniconda3/envs/heasoft/lib/python3.10/site-packages/swifttools/swift_too/swift_data.py:394: UserWarning: sw00016397007brtms.lc.gz exists and not overwritten (set clobber=True to override this).\n",
      "/home/idies/miniconda3/envs/heasoft/lib/python3.10/site-packages/swifttools/swift_too/swift_data.py:394: UserWarning: sw00016397007brtqd.lc.gz exists and not overwritten (set clobber=True to override this).\n",
      "/home/idies/miniconda3/envs/heasoft/lib/python3.10/site-packages/swifttools/swift_too/swift_data.py:394: UserWarning: sw00016397007bsvpbo453eg0e6f.dph.gz exists and not overwritten (set clobber=True to override this).\n",
      "/home/idies/miniconda3/envs/heasoft/lib/python3.10/site-packages/swifttools/swift_too/swift_data.py:394: UserWarning: sw00016397007bsvpbo4549g0e71.dph.gz exists and not overwritten (set clobber=True to override this).\n"
     ]
    },
    {
     "data": {
      "application/vnd.jupyter.widget-view+json": {
       "model_id": "eecf0068948b446981068a67898ca76a",
       "version_major": 2,
       "version_minor": 0
      },
      "text/plain": [
       "Downloading files:   0%|          | 0/68 [00:00<?, ?files/s]"
      ]
     },
     "metadata": {},
     "output_type": "display_data"
    },
    {
     "name": "stderr",
     "output_type": "stream",
     "text": [
      "/home/idies/miniconda3/envs/heasoft/lib/python3.10/site-packages/swifttools/swift_too/swift_data.py:394: UserWarning: sw01231488000pat.fits.gz exists and not overwritten (set clobber=True to override this).\n",
      "/home/idies/miniconda3/envs/heasoft/lib/python3.10/site-packages/swifttools/swift_too/swift_data.py:394: UserWarning: sw01231488000pjb.par.gz exists and not overwritten (set clobber=True to override this).\n",
      "/home/idies/miniconda3/envs/heasoft/lib/python3.10/site-packages/swifttools/swift_too/swift_data.py:394: UserWarning: sw01231488000pob.cat.gz exists and not overwritten (set clobber=True to override this).\n",
      "/home/idies/miniconda3/envs/heasoft/lib/python3.10/site-packages/swifttools/swift_too/swift_data.py:394: UserWarning: sw01231488000ppr.par.gz exists and not overwritten (set clobber=True to override this).\n",
      "/home/idies/miniconda3/envs/heasoft/lib/python3.10/site-packages/swifttools/swift_too/swift_data.py:394: UserWarning: sw01231488000s.mkf.gz exists and not overwritten (set clobber=True to override this).\n",
      "/home/idies/miniconda3/envs/heasoft/lib/python3.10/site-packages/swifttools/swift_too/swift_data.py:394: UserWarning: sw01231488000sao.fits.gz exists and not overwritten (set clobber=True to override this).\n",
      "/home/idies/miniconda3/envs/heasoft/lib/python3.10/site-packages/swifttools/swift_too/swift_data.py:394: UserWarning: sw01231488000sat.fits.gz exists and not overwritten (set clobber=True to override this).\n",
      "/home/idies/miniconda3/envs/heasoft/lib/python3.10/site-packages/swifttools/swift_too/swift_data.py:394: UserWarning: sw01231488000sen.hk.gz exists and not overwritten (set clobber=True to override this).\n",
      "/home/idies/miniconda3/envs/heasoft/lib/python3.10/site-packages/swifttools/swift_too/swift_data.py:394: UserWarning: sw01231488000sti.fits.gz exists and not overwritten (set clobber=True to override this).\n",
      "/home/idies/miniconda3/envs/heasoft/lib/python3.10/site-packages/swifttools/swift_too/swift_data.py:394: UserWarning: sw01231488000uat.fits.gz exists and not overwritten (set clobber=True to override this).\n",
      "/home/idies/miniconda3/envs/heasoft/lib/python3.10/site-packages/swifttools/swift_too/swift_data.py:394: UserWarning: sw01231488000x.mkf.gz exists and not overwritten (set clobber=True to override this).\n",
      "/home/idies/miniconda3/envs/heasoft/lib/python3.10/site-packages/swifttools/swift_too/swift_data.py:394: UserWarning: sw01231488000msb.lc.gz exists and not overwritten (set clobber=True to override this).\n",
      "/home/idies/miniconda3/envs/heasoft/lib/python3.10/site-packages/swifttools/swift_too/swift_data.py:394: UserWarning: sw01231488000msbal.fits.gz exists and not overwritten (set clobber=True to override this).\n",
      "/home/idies/miniconda3/envs/heasoft/lib/python3.10/site-packages/swifttools/swift_too/swift_data.py:394: UserWarning: sw01231488000msbce.fits.gz exists and not overwritten (set clobber=True to override this).\n",
      "/home/idies/miniconda3/envs/heasoft/lib/python3.10/site-packages/swifttools/swift_too/swift_data.py:394: UserWarning: sw01231488000msbsm.fits.gz exists and not overwritten (set clobber=True to override this).\n",
      "/home/idies/miniconda3/envs/heasoft/lib/python3.10/site-packages/swifttools/swift_too/swift_data.py:394: UserWarning: sw01231488000msfap.fits.gz exists and not overwritten (set clobber=True to override this).\n",
      "/home/idies/miniconda3/envs/heasoft/lib/python3.10/site-packages/swifttools/swift_too/swift_data.py:394: UserWarning: sw01231488000mspob.cat.gz exists and not overwritten (set clobber=True to override this).\n",
      "/home/idies/miniconda3/envs/heasoft/lib/python3.10/site-packages/swifttools/swift_too/swift_data.py:394: UserWarning: sw01231488000mssap.fits.gz exists and not overwritten (set clobber=True to override this).\n",
      "/home/idies/miniconda3/envs/heasoft/lib/python3.10/site-packages/swifttools/swift_too/swift_data.py:394: UserWarning: sw01231488000msufc.fits.gz exists and not overwritten (set clobber=True to override this).\n",
      "/home/idies/miniconda3/envs/heasoft/lib/python3.10/site-packages/swifttools/swift_too/swift_data.py:394: UserWarning: sw01231488000msuni_rw.img.gz exists and not overwritten (set clobber=True to override this).\n",
      "/home/idies/miniconda3/envs/heasoft/lib/python3.10/site-packages/swifttools/swift_too/swift_data.py:394: UserWarning: sw01231488000msx.lc.gz exists and not overwritten (set clobber=True to override this).\n",
      "/home/idies/miniconda3/envs/heasoft/lib/python3.10/site-packages/swifttools/swift_too/swift_data.py:394: UserWarning: sw01231488000msxce.fits.gz exists and not overwritten (set clobber=True to override this).\n",
      "/home/idies/miniconda3/envs/heasoft/lib/python3.10/site-packages/swifttools/swift_too/swift_data.py:394: UserWarning: sw01231488000msxim_rw.img.gz exists and not overwritten (set clobber=True to override this).\n",
      "/home/idies/miniconda3/envs/heasoft/lib/python3.10/site-packages/swifttools/swift_too/swift_data.py:394: UserWarning: sw01231488000msxim_sk.img.gz exists and not overwritten (set clobber=True to override this).\n",
      "/home/idies/miniconda3/envs/heasoft/lib/python3.10/site-packages/swifttools/swift_too/swift_data.py:394: UserWarning: sw01231488000msxlr.pha.gz exists and not overwritten (set clobber=True to override this).\n",
      "/home/idies/miniconda3/envs/heasoft/lib/python3.10/site-packages/swifttools/swift_too/swift_data.py:394: UserWarning: sw01231488000msxpc_cl.evt.gz exists and not overwritten (set clobber=True to override this).\n",
      "/home/idies/miniconda3/envs/heasoft/lib/python3.10/site-packages/swifttools/swift_too/swift_data.py:394: UserWarning: sw01231488000msxpc_uf.evt.gz exists and not overwritten (set clobber=True to override this).\n",
      "/home/idies/miniconda3/envs/heasoft/lib/python3.10/site-packages/swifttools/swift_too/swift_data.py:394: UserWarning: sw01231488000msxps_rw.img.gz exists and not overwritten (set clobber=True to override this).\n",
      "/home/idies/miniconda3/envs/heasoft/lib/python3.10/site-packages/swifttools/swift_too/swift_data.py:394: UserWarning: sw01231488000msxps_sk.img.gz exists and not overwritten (set clobber=True to override this).\n",
      "/home/idies/miniconda3/envs/heasoft/lib/python3.10/site-packages/swifttools/swift_too/swift_data.py:394: UserWarning: sw01231488000msxwt.pha.gz exists and not overwritten (set clobber=True to override this).\n",
      "/home/idies/miniconda3/envs/heasoft/lib/python3.10/site-packages/swifttools/swift_too/swift_data.py:394: UserWarning: sw01231488000bevshsp_uf.evt.gz exists and not overwritten (set clobber=True to override this).\n",
      "/home/idies/miniconda3/envs/heasoft/lib/python3.10/site-packages/swifttools/swift_too/swift_data.py:394: UserWarning: sw01231488000bevtr.fits.gz exists and not overwritten (set clobber=True to override this).\n",
      "/home/idies/miniconda3/envs/heasoft/lib/python3.10/site-packages/swifttools/swift_too/swift_data.py:394: UserWarning: sw01231488000bdecb.hk.gz exists and not overwritten (set clobber=True to override this).\n",
      "/home/idies/miniconda3/envs/heasoft/lib/python3.10/site-packages/swifttools/swift_too/swift_data.py:394: UserWarning: sw01231488000bdp.hk.gz exists and not overwritten (set clobber=True to override this).\n",
      "/home/idies/miniconda3/envs/heasoft/lib/python3.10/site-packages/swifttools/swift_too/swift_data.py:394: UserWarning: sw01231488000bdqcb.hk.gz exists and not overwritten (set clobber=True to override this).\n",
      "/home/idies/miniconda3/envs/heasoft/lib/python3.10/site-packages/swifttools/swift_too/swift_data.py:394: UserWarning: sw01231488000ben.hk.gz exists and not overwritten (set clobber=True to override this).\n",
      "/home/idies/miniconda3/envs/heasoft/lib/python3.10/site-packages/swifttools/swift_too/swift_data.py:394: UserWarning: sw01231488000bevtlsp.hk.gz exists and not overwritten (set clobber=True to override this).\n",
      "/home/idies/miniconda3/envs/heasoft/lib/python3.10/site-packages/swifttools/swift_too/swift_data.py:394: UserWarning: sw01231488000bevtssp.hk.gz exists and not overwritten (set clobber=True to override this).\n",
      "/home/idies/miniconda3/envs/heasoft/lib/python3.10/site-packages/swifttools/swift_too/swift_data.py:394: UserWarning: sw01231488000bgocb.hk.gz exists and not overwritten (set clobber=True to override this).\n",
      "/home/idies/miniconda3/envs/heasoft/lib/python3.10/site-packages/swifttools/swift_too/swift_data.py:394: UserWarning: sw01231488000bhd.hk.gz exists and not overwritten (set clobber=True to override this).\n",
      "/home/idies/miniconda3/envs/heasoft/lib/python3.10/site-packages/swifttools/swift_too/swift_data.py:394: UserWarning: sw01231488000bmt00010002.lc.gz exists and not overwritten (set clobber=True to override this).\n",
      "/home/idies/miniconda3/envs/heasoft/lib/python3.10/site-packages/swifttools/swift_too/swift_data.py:394: UserWarning: sw01231488000bmt00010002_rw.lc.gz exists and not overwritten (set clobber=True to override this).\n",
      "/home/idies/miniconda3/envs/heasoft/lib/python3.10/site-packages/swifttools/swift_too/swift_data.py:394: UserWarning: sw01231488000bmt00010500.lc.gz exists and not overwritten (set clobber=True to override this).\n",
      "/home/idies/miniconda3/envs/heasoft/lib/python3.10/site-packages/swifttools/swift_too/swift_data.py:394: UserWarning: sw01231488000bmt00010500_rw.lc.gz exists and not overwritten (set clobber=True to override this).\n",
      "/home/idies/miniconda3/envs/heasoft/lib/python3.10/site-packages/swifttools/swift_too/swift_data.py:394: UserWarning: sw01231488000bmt00013000.lc.gz exists and not overwritten (set clobber=True to override this).\n",
      "/home/idies/miniconda3/envs/heasoft/lib/python3.10/site-packages/swifttools/swift_too/swift_data.py:394: UserWarning: sw01231488000bmt00013000_rw.lc.gz exists and not overwritten (set clobber=True to override this).\n",
      "/home/idies/miniconda3/envs/heasoft/lib/python3.10/site-packages/swifttools/swift_too/swift_data.py:394: UserWarning: sw01231488000bev1s.lc.gz exists and not overwritten (set clobber=True to override this).\n",
      "/home/idies/miniconda3/envs/heasoft/lib/python3.10/site-packages/swifttools/swift_too/swift_data.py:394: UserWarning: sw01231488000bev1s_lc.gif exists and not overwritten (set clobber=True to override this).\n",
      "/home/idies/miniconda3/envs/heasoft/lib/python3.10/site-packages/swifttools/swift_too/swift_data.py:394: UserWarning: sw01231488000bev_skim.gif exists and not overwritten (set clobber=True to override this).\n",
      "/home/idies/miniconda3/envs/heasoft/lib/python3.10/site-packages/swifttools/swift_too/swift_data.py:394: UserWarning: sw01231488000bevas.pha.gz exists and not overwritten (set clobber=True to override this).\n",
      "/home/idies/miniconda3/envs/heasoft/lib/python3.10/site-packages/swifttools/swift_too/swift_data.py:394: UserWarning: sw01231488000bevas.rsp.gz exists and not overwritten (set clobber=True to override this).\n",
      "/home/idies/miniconda3/envs/heasoft/lib/python3.10/site-packages/swifttools/swift_too/swift_data.py:394: UserWarning: sw01231488000bevas_dt.img.gz exists and not overwritten (set clobber=True to override this).\n",
      "/home/idies/miniconda3/envs/heasoft/lib/python3.10/site-packages/swifttools/swift_too/swift_data.py:394: UserWarning: sw01231488000bevas_sk.img.gz exists and not overwritten (set clobber=True to override this).\n",
      "/home/idies/miniconda3/envs/heasoft/lib/python3.10/site-packages/swifttools/swift_too/swift_data.py:394: UserWarning: sw01231488000bevbu.gti.gz exists and not overwritten (set clobber=True to override this).\n",
      "/home/idies/miniconda3/envs/heasoft/lib/python3.10/site-packages/swifttools/swift_too/swift_data.py:394: UserWarning: sw01231488000bevms.lc.gz exists and not overwritten (set clobber=True to override this).\n",
      "/home/idies/miniconda3/envs/heasoft/lib/python3.10/site-packages/swifttools/swift_too/swift_data.py:394: UserWarning: sw01231488000bevps.pha.gz exists and not overwritten (set clobber=True to override this).\n",
      "/home/idies/miniconda3/envs/heasoft/lib/python3.10/site-packages/swifttools/swift_too/swift_data.py:394: UserWarning: sw01231488000bevps.rsp.gz exists and not overwritten (set clobber=True to override this).\n",
      "/home/idies/miniconda3/envs/heasoft/lib/python3.10/site-packages/swifttools/swift_too/swift_data.py:394: UserWarning: sw01231488000bevps_dt.img.gz exists and not overwritten (set clobber=True to override this).\n",
      "/home/idies/miniconda3/envs/heasoft/lib/python3.10/site-packages/swifttools/swift_too/swift_data.py:394: UserWarning: sw01231488000bevps_sk.img.gz exists and not overwritten (set clobber=True to override this).\n",
      "/home/idies/miniconda3/envs/heasoft/lib/python3.10/site-packages/swifttools/swift_too/swift_data.py:394: UserWarning: sw01231488000bevsl.pha.gz exists and not overwritten (set clobber=True to override this).\n",
      "/home/idies/miniconda3/envs/heasoft/lib/python3.10/site-packages/swifttools/swift_too/swift_data.py:394: UserWarning: sw01231488000brt1s.lc.gz exists and not overwritten (set clobber=True to override this).\n",
      "/home/idies/miniconda3/envs/heasoft/lib/python3.10/site-packages/swifttools/swift_too/swift_data.py:394: UserWarning: sw01231488000brtmc.lc.gz exists and not overwritten (set clobber=True to override this).\n",
      "/home/idies/miniconda3/envs/heasoft/lib/python3.10/site-packages/swifttools/swift_too/swift_data.py:394: UserWarning: sw01231488000brtms.lc.gz exists and not overwritten (set clobber=True to override this).\n",
      "/home/idies/miniconda3/envs/heasoft/lib/python3.10/site-packages/swifttools/swift_too/swift_data.py:394: UserWarning: sw01231488000brtqd.lc.gz exists and not overwritten (set clobber=True to override this).\n",
      "/home/idies/miniconda3/envs/heasoft/lib/python3.10/site-packages/swifttools/swift_too/swift_data.py:394: UserWarning: sw01231488000bsvabo4535g0e6d.dph.gz exists and not overwritten (set clobber=True to override this).\n",
      "/home/idies/miniconda3/envs/heasoft/lib/python3.10/site-packages/swifttools/swift_too/swift_data.py:394: UserWarning: sw01231488000bsvpbo4534g0e6d.dph.gz exists and not overwritten (set clobber=True to override this).\n",
      "/home/idies/miniconda3/envs/heasoft/lib/python3.10/site-packages/swifttools/swift_too/swift_data.py:394: UserWarning: sw01231488000bsvpbo4535g0e6d.dph.gz exists and not overwritten (set clobber=True to override this).\n"
     ]
    },
    {
     "data": {
      "application/vnd.jupyter.widget-view+json": {
       "model_id": "f3522d7961c047f48e805345f35da6c1",
       "version_major": 2,
       "version_minor": 0
      },
      "text/plain": [
       "Downloading files:   0%|          | 0/26 [00:00<?, ?files/s]"
      ]
     },
     "metadata": {},
     "output_type": "display_data"
    },
    {
     "name": "stderr",
     "output_type": "stream",
     "text": [
      "/home/idies/miniconda3/envs/heasoft/lib/python3.10/site-packages/swifttools/swift_too/swift_data.py:394: UserWarning: sw00097591001pat.fits.gz exists and not overwritten (set clobber=True to override this).\n",
      "/home/idies/miniconda3/envs/heasoft/lib/python3.10/site-packages/swifttools/swift_too/swift_data.py:394: UserWarning: sw00097591001pjb.par.gz exists and not overwritten (set clobber=True to override this).\n",
      "/home/idies/miniconda3/envs/heasoft/lib/python3.10/site-packages/swifttools/swift_too/swift_data.py:394: UserWarning: sw00097591001pob.cat.gz exists and not overwritten (set clobber=True to override this).\n",
      "/home/idies/miniconda3/envs/heasoft/lib/python3.10/site-packages/swifttools/swift_too/swift_data.py:394: UserWarning: sw00097591001ppr.par.gz exists and not overwritten (set clobber=True to override this).\n",
      "/home/idies/miniconda3/envs/heasoft/lib/python3.10/site-packages/swifttools/swift_too/swift_data.py:394: UserWarning: sw00097591001s.mkf.gz exists and not overwritten (set clobber=True to override this).\n",
      "/home/idies/miniconda3/envs/heasoft/lib/python3.10/site-packages/swifttools/swift_too/swift_data.py:394: UserWarning: sw00097591001sao.fits.gz exists and not overwritten (set clobber=True to override this).\n",
      "/home/idies/miniconda3/envs/heasoft/lib/python3.10/site-packages/swifttools/swift_too/swift_data.py:394: UserWarning: sw00097591001sat.fits.gz exists and not overwritten (set clobber=True to override this).\n",
      "/home/idies/miniconda3/envs/heasoft/lib/python3.10/site-packages/swifttools/swift_too/swift_data.py:394: UserWarning: sw00097591001sen.hk.gz exists and not overwritten (set clobber=True to override this).\n",
      "/home/idies/miniconda3/envs/heasoft/lib/python3.10/site-packages/swifttools/swift_too/swift_data.py:394: UserWarning: sw00097591001sti.fits.gz exists and not overwritten (set clobber=True to override this).\n",
      "/home/idies/miniconda3/envs/heasoft/lib/python3.10/site-packages/swifttools/swift_too/swift_data.py:394: UserWarning: sw00097591001uat.fits.gz exists and not overwritten (set clobber=True to override this).\n",
      "/home/idies/miniconda3/envs/heasoft/lib/python3.10/site-packages/swifttools/swift_too/swift_data.py:394: UserWarning: sw00097591001x.mkf.gz exists and not overwritten (set clobber=True to override this).\n",
      "/home/idies/miniconda3/envs/heasoft/lib/python3.10/site-packages/swifttools/swift_too/swift_data.py:394: UserWarning: sw00097591001bdecb.hk.gz exists and not overwritten (set clobber=True to override this).\n",
      "/home/idies/miniconda3/envs/heasoft/lib/python3.10/site-packages/swifttools/swift_too/swift_data.py:394: UserWarning: sw00097591001bdp.hk.gz exists and not overwritten (set clobber=True to override this).\n",
      "/home/idies/miniconda3/envs/heasoft/lib/python3.10/site-packages/swifttools/swift_too/swift_data.py:394: UserWarning: sw00097591001ben.hk.gz exists and not overwritten (set clobber=True to override this).\n",
      "/home/idies/miniconda3/envs/heasoft/lib/python3.10/site-packages/swifttools/swift_too/swift_data.py:394: UserWarning: sw00097591001bgocb.hk.gz exists and not overwritten (set clobber=True to override this).\n",
      "/home/idies/miniconda3/envs/heasoft/lib/python3.10/site-packages/swifttools/swift_too/swift_data.py:394: UserWarning: sw00097591001bhd.hk.gz exists and not overwritten (set clobber=True to override this).\n",
      "/home/idies/miniconda3/envs/heasoft/lib/python3.10/site-packages/swifttools/swift_too/swift_data.py:394: UserWarning: sw00097591001bmt00010500.lc.gz exists and not overwritten (set clobber=True to override this).\n",
      "/home/idies/miniconda3/envs/heasoft/lib/python3.10/site-packages/swifttools/swift_too/swift_data.py:394: UserWarning: sw00097591001bmt00010500_rw.lc.gz exists and not overwritten (set clobber=True to override this).\n",
      "/home/idies/miniconda3/envs/heasoft/lib/python3.10/site-packages/swifttools/swift_too/swift_data.py:394: UserWarning: sw00097591001bmt00013000.lc.gz exists and not overwritten (set clobber=True to override this).\n",
      "/home/idies/miniconda3/envs/heasoft/lib/python3.10/site-packages/swifttools/swift_too/swift_data.py:394: UserWarning: sw00097591001bmt00013000_rw.lc.gz exists and not overwritten (set clobber=True to override this).\n",
      "/home/idies/miniconda3/envs/heasoft/lib/python3.10/site-packages/swifttools/swift_too/swift_data.py:394: UserWarning: sw00097591001brt1s.lc.gz exists and not overwritten (set clobber=True to override this).\n",
      "/home/idies/miniconda3/envs/heasoft/lib/python3.10/site-packages/swifttools/swift_too/swift_data.py:394: UserWarning: sw00097591001brtmc.lc.gz exists and not overwritten (set clobber=True to override this).\n",
      "/home/idies/miniconda3/envs/heasoft/lib/python3.10/site-packages/swifttools/swift_too/swift_data.py:394: UserWarning: sw00097591001brtms.lc.gz exists and not overwritten (set clobber=True to override this).\n",
      "/home/idies/miniconda3/envs/heasoft/lib/python3.10/site-packages/swifttools/swift_too/swift_data.py:394: UserWarning: sw00097591001brtqd.lc.gz exists and not overwritten (set clobber=True to override this).\n",
      "/home/idies/miniconda3/envs/heasoft/lib/python3.10/site-packages/swifttools/swift_too/swift_data.py:394: UserWarning: sw00097591001bsvpbo454fg0e72.dph.gz exists and not overwritten (set clobber=True to override this).\n"
     ]
    },
    {
     "data": {
      "application/vnd.jupyter.widget-view+json": {
       "model_id": "2c3063ab0e144fe1995e33a46d85f7c6",
       "version_major": 2,
       "version_minor": 0
      },
      "text/plain": [
       "Downloading files:   0%|          | 0/26 [00:00<?, ?files/s]"
      ]
     },
     "metadata": {},
     "output_type": "display_data"
    },
    {
     "name": "stderr",
     "output_type": "stream",
     "text": [
      "/home/idies/miniconda3/envs/heasoft/lib/python3.10/site-packages/swifttools/swift_too/swift_data.py:394: UserWarning: sw00037604007pat.fits.gz exists and not overwritten (set clobber=True to override this).\n",
      "/home/idies/miniconda3/envs/heasoft/lib/python3.10/site-packages/swifttools/swift_too/swift_data.py:394: UserWarning: sw00037604007pjb.par.gz exists and not overwritten (set clobber=True to override this).\n",
      "/home/idies/miniconda3/envs/heasoft/lib/python3.10/site-packages/swifttools/swift_too/swift_data.py:394: UserWarning: sw00037604007pob.cat.gz exists and not overwritten (set clobber=True to override this).\n",
      "/home/idies/miniconda3/envs/heasoft/lib/python3.10/site-packages/swifttools/swift_too/swift_data.py:394: UserWarning: sw00037604007ppr.par.gz exists and not overwritten (set clobber=True to override this).\n",
      "/home/idies/miniconda3/envs/heasoft/lib/python3.10/site-packages/swifttools/swift_too/swift_data.py:394: UserWarning: sw00037604007s.mkf.gz exists and not overwritten (set clobber=True to override this).\n",
      "/home/idies/miniconda3/envs/heasoft/lib/python3.10/site-packages/swifttools/swift_too/swift_data.py:394: UserWarning: sw00037604007sao.fits.gz exists and not overwritten (set clobber=True to override this).\n",
      "/home/idies/miniconda3/envs/heasoft/lib/python3.10/site-packages/swifttools/swift_too/swift_data.py:394: UserWarning: sw00037604007sat.fits.gz exists and not overwritten (set clobber=True to override this).\n",
      "/home/idies/miniconda3/envs/heasoft/lib/python3.10/site-packages/swifttools/swift_too/swift_data.py:394: UserWarning: sw00037604007sen.hk.gz exists and not overwritten (set clobber=True to override this).\n",
      "/home/idies/miniconda3/envs/heasoft/lib/python3.10/site-packages/swifttools/swift_too/swift_data.py:394: UserWarning: sw00037604007sti.fits.gz exists and not overwritten (set clobber=True to override this).\n",
      "/home/idies/miniconda3/envs/heasoft/lib/python3.10/site-packages/swifttools/swift_too/swift_data.py:394: UserWarning: sw00037604007uat.fits.gz exists and not overwritten (set clobber=True to override this).\n",
      "/home/idies/miniconda3/envs/heasoft/lib/python3.10/site-packages/swifttools/swift_too/swift_data.py:394: UserWarning: sw00037604007x.mkf.gz exists and not overwritten (set clobber=True to override this).\n",
      "/home/idies/miniconda3/envs/heasoft/lib/python3.10/site-packages/swifttools/swift_too/swift_data.py:394: UserWarning: sw00037604007bdecb.hk.gz exists and not overwritten (set clobber=True to override this).\n",
      "/home/idies/miniconda3/envs/heasoft/lib/python3.10/site-packages/swifttools/swift_too/swift_data.py:394: UserWarning: sw00037604007bdp.hk.gz exists and not overwritten (set clobber=True to override this).\n",
      "/home/idies/miniconda3/envs/heasoft/lib/python3.10/site-packages/swifttools/swift_too/swift_data.py:394: UserWarning: sw00037604007ben.hk.gz exists and not overwritten (set clobber=True to override this).\n",
      "/home/idies/miniconda3/envs/heasoft/lib/python3.10/site-packages/swifttools/swift_too/swift_data.py:394: UserWarning: sw00037604007bgocb.hk.gz exists and not overwritten (set clobber=True to override this).\n",
      "/home/idies/miniconda3/envs/heasoft/lib/python3.10/site-packages/swifttools/swift_too/swift_data.py:394: UserWarning: sw00037604007bhd.hk.gz exists and not overwritten (set clobber=True to override this).\n",
      "/home/idies/miniconda3/envs/heasoft/lib/python3.10/site-packages/swifttools/swift_too/swift_data.py:394: UserWarning: sw00037604007bmt00010500.lc.gz exists and not overwritten (set clobber=True to override this).\n",
      "/home/idies/miniconda3/envs/heasoft/lib/python3.10/site-packages/swifttools/swift_too/swift_data.py:394: UserWarning: sw00037604007bmt00010500_rw.lc.gz exists and not overwritten (set clobber=True to override this).\n",
      "/home/idies/miniconda3/envs/heasoft/lib/python3.10/site-packages/swifttools/swift_too/swift_data.py:394: UserWarning: sw00037604007bmt00013000.lc.gz exists and not overwritten (set clobber=True to override this).\n",
      "/home/idies/miniconda3/envs/heasoft/lib/python3.10/site-packages/swifttools/swift_too/swift_data.py:394: UserWarning: sw00037604007bmt00013000_rw.lc.gz exists and not overwritten (set clobber=True to override this).\n",
      "/home/idies/miniconda3/envs/heasoft/lib/python3.10/site-packages/swifttools/swift_too/swift_data.py:394: UserWarning: sw00037604007brt1s.lc.gz exists and not overwritten (set clobber=True to override this).\n",
      "/home/idies/miniconda3/envs/heasoft/lib/python3.10/site-packages/swifttools/swift_too/swift_data.py:394: UserWarning: sw00037604007brtmc.lc.gz exists and not overwritten (set clobber=True to override this).\n",
      "/home/idies/miniconda3/envs/heasoft/lib/python3.10/site-packages/swifttools/swift_too/swift_data.py:394: UserWarning: sw00037604007brtms.lc.gz exists and not overwritten (set clobber=True to override this).\n",
      "/home/idies/miniconda3/envs/heasoft/lib/python3.10/site-packages/swifttools/swift_too/swift_data.py:394: UserWarning: sw00037604007brtqd.lc.gz exists and not overwritten (set clobber=True to override this).\n",
      "/home/idies/miniconda3/envs/heasoft/lib/python3.10/site-packages/swifttools/swift_too/swift_data.py:394: UserWarning: sw00037604007bsvpbo4540g0e6f.dph.gz exists and not overwritten (set clobber=True to override this).\n"
     ]
    },
    {
     "data": {
      "application/vnd.jupyter.widget-view+json": {
       "model_id": "da331aab051049c18349ab4bec23dd37",
       "version_major": 2,
       "version_minor": 0
      },
      "text/plain": [
       "Downloading files:   0%|          | 0/28 [00:00<?, ?files/s]"
      ]
     },
     "metadata": {},
     "output_type": "display_data"
    },
    {
     "name": "stderr",
     "output_type": "stream",
     "text": [
      "/home/idies/miniconda3/envs/heasoft/lib/python3.10/site-packages/swifttools/swift_too/swift_data.py:394: UserWarning: sw00032035190pat.fits.gz exists and not overwritten (set clobber=True to override this).\n",
      "/home/idies/miniconda3/envs/heasoft/lib/python3.10/site-packages/swifttools/swift_too/swift_data.py:394: UserWarning: sw00032035190pjb.par.gz exists and not overwritten (set clobber=True to override this).\n",
      "/home/idies/miniconda3/envs/heasoft/lib/python3.10/site-packages/swifttools/swift_too/swift_data.py:394: UserWarning: sw00032035190pob.cat.gz exists and not overwritten (set clobber=True to override this).\n",
      "/home/idies/miniconda3/envs/heasoft/lib/python3.10/site-packages/swifttools/swift_too/swift_data.py:394: UserWarning: sw00032035190ppr.par.gz exists and not overwritten (set clobber=True to override this).\n",
      "/home/idies/miniconda3/envs/heasoft/lib/python3.10/site-packages/swifttools/swift_too/swift_data.py:394: UserWarning: sw00032035190s.mkf.gz exists and not overwritten (set clobber=True to override this).\n",
      "/home/idies/miniconda3/envs/heasoft/lib/python3.10/site-packages/swifttools/swift_too/swift_data.py:394: UserWarning: sw00032035190sao.fits.gz exists and not overwritten (set clobber=True to override this).\n",
      "/home/idies/miniconda3/envs/heasoft/lib/python3.10/site-packages/swifttools/swift_too/swift_data.py:394: UserWarning: sw00032035190sat.fits.gz exists and not overwritten (set clobber=True to override this).\n",
      "/home/idies/miniconda3/envs/heasoft/lib/python3.10/site-packages/swifttools/swift_too/swift_data.py:394: UserWarning: sw00032035190sen.hk.gz exists and not overwritten (set clobber=True to override this).\n",
      "/home/idies/miniconda3/envs/heasoft/lib/python3.10/site-packages/swifttools/swift_too/swift_data.py:394: UserWarning: sw00032035190sti.fits.gz exists and not overwritten (set clobber=True to override this).\n",
      "/home/idies/miniconda3/envs/heasoft/lib/python3.10/site-packages/swifttools/swift_too/swift_data.py:394: UserWarning: sw00032035190uat.fits.gz exists and not overwritten (set clobber=True to override this).\n",
      "/home/idies/miniconda3/envs/heasoft/lib/python3.10/site-packages/swifttools/swift_too/swift_data.py:394: UserWarning: sw00032035190x.mkf.gz exists and not overwritten (set clobber=True to override this).\n",
      "/home/idies/miniconda3/envs/heasoft/lib/python3.10/site-packages/swifttools/swift_too/swift_data.py:394: UserWarning: sw00032035190bdecb.hk.gz exists and not overwritten (set clobber=True to override this).\n",
      "/home/idies/miniconda3/envs/heasoft/lib/python3.10/site-packages/swifttools/swift_too/swift_data.py:394: UserWarning: sw00032035190bdp.hk.gz exists and not overwritten (set clobber=True to override this).\n",
      "/home/idies/miniconda3/envs/heasoft/lib/python3.10/site-packages/swifttools/swift_too/swift_data.py:394: UserWarning: sw00032035190ben.hk.gz exists and not overwritten (set clobber=True to override this).\n",
      "/home/idies/miniconda3/envs/heasoft/lib/python3.10/site-packages/swifttools/swift_too/swift_data.py:394: UserWarning: sw00032035190bgocb.hk.gz exists and not overwritten (set clobber=True to override this).\n",
      "/home/idies/miniconda3/envs/heasoft/lib/python3.10/site-packages/swifttools/swift_too/swift_data.py:394: UserWarning: sw00032035190bhd.hk.gz exists and not overwritten (set clobber=True to override this).\n",
      "/home/idies/miniconda3/envs/heasoft/lib/python3.10/site-packages/swifttools/swift_too/swift_data.py:394: UserWarning: sw00032035190bmt00010002.lc.gz exists and not overwritten (set clobber=True to override this).\n",
      "/home/idies/miniconda3/envs/heasoft/lib/python3.10/site-packages/swifttools/swift_too/swift_data.py:394: UserWarning: sw00032035190bmt00010002_rw.lc.gz exists and not overwritten (set clobber=True to override this).\n",
      "/home/idies/miniconda3/envs/heasoft/lib/python3.10/site-packages/swifttools/swift_too/swift_data.py:394: UserWarning: sw00032035190bmt00010500.lc.gz exists and not overwritten (set clobber=True to override this).\n",
      "/home/idies/miniconda3/envs/heasoft/lib/python3.10/site-packages/swifttools/swift_too/swift_data.py:394: UserWarning: sw00032035190bmt00010500_rw.lc.gz exists and not overwritten (set clobber=True to override this).\n",
      "/home/idies/miniconda3/envs/heasoft/lib/python3.10/site-packages/swifttools/swift_too/swift_data.py:394: UserWarning: sw00032035190bmt00013000.lc.gz exists and not overwritten (set clobber=True to override this).\n",
      "/home/idies/miniconda3/envs/heasoft/lib/python3.10/site-packages/swifttools/swift_too/swift_data.py:394: UserWarning: sw00032035190bmt00013000_rw.lc.gz exists and not overwritten (set clobber=True to override this).\n",
      "/home/idies/miniconda3/envs/heasoft/lib/python3.10/site-packages/swifttools/swift_too/swift_data.py:394: UserWarning: sw00032035190brt1s.lc.gz exists and not overwritten (set clobber=True to override this).\n",
      "/home/idies/miniconda3/envs/heasoft/lib/python3.10/site-packages/swifttools/swift_too/swift_data.py:394: UserWarning: sw00032035190brtmc.lc.gz exists and not overwritten (set clobber=True to override this).\n",
      "/home/idies/miniconda3/envs/heasoft/lib/python3.10/site-packages/swifttools/swift_too/swift_data.py:394: UserWarning: sw00032035190brtms.lc.gz exists and not overwritten (set clobber=True to override this).\n",
      "/home/idies/miniconda3/envs/heasoft/lib/python3.10/site-packages/swifttools/swift_too/swift_data.py:394: UserWarning: sw00032035190brtqd.lc.gz exists and not overwritten (set clobber=True to override this).\n",
      "/home/idies/miniconda3/envs/heasoft/lib/python3.10/site-packages/swifttools/swift_too/swift_data.py:394: UserWarning: sw00032035190bsvpbo4543g0e70.dph.gz exists and not overwritten (set clobber=True to override this).\n"
     ]
    },
    {
     "data": {
      "application/vnd.jupyter.widget-view+json": {
       "model_id": "43cf24dfb8934bb49d5eea2f9fa5329c",
       "version_major": 2,
       "version_minor": 0
      },
      "text/plain": [
       "Downloading files:   0%|          | 0/26 [00:00<?, ?files/s]"
      ]
     },
     "metadata": {},
     "output_type": "display_data"
    },
    {
     "data": {
      "application/vnd.jupyter.widget-view+json": {
       "model_id": "e96e2b91a8284c05beaa2c6f59572605",
       "version_major": 2,
       "version_minor": 0
      },
      "text/plain": [
       "Downloading files:   0%|          | 0/27 [00:00<?, ?files/s]"
      ]
     },
     "metadata": {},
     "output_type": "display_data"
    },
    {
     "data": {
      "application/vnd.jupyter.widget-view+json": {
       "model_id": "0e9b5cc5a18b4d488b17114c0eca8c6d",
       "version_major": 2,
       "version_minor": 0
      },
      "text/plain": [
       "Downloading files:   0%|          | 0/23 [00:00<?, ?files/s]"
      ]
     },
     "metadata": {},
     "output_type": "display_data"
    },
    {
     "data": {
      "application/vnd.jupyter.widget-view+json": {
       "model_id": "532af42be772464b93d22f0a6d34e2a9",
       "version_major": 2,
       "version_minor": 0
      },
      "text/plain": [
       "Downloading files:   0%|          | 0/26 [00:00<?, ?files/s]"
      ]
     },
     "metadata": {},
     "output_type": "display_data"
    },
    {
     "data": {
      "application/vnd.jupyter.widget-view+json": {
       "model_id": "ad1bc2edd01d4150905dc75b876cea50",
       "version_major": 2,
       "version_minor": 0
      },
      "text/plain": [
       "Downloading files:   0%|          | 0/26 [00:00<?, ?files/s]"
      ]
     },
     "metadata": {},
     "output_type": "display_data"
    },
    {
     "name": "stderr",
     "output_type": "stream",
     "text": [
      "/home/idies/miniconda3/envs/heasoft/lib/python3.10/site-packages/swifttools/swift_too/swift_data.py:394: UserWarning: sw03112170004pat.fits.gz exists and not overwritten (set clobber=True to override this).\n",
      "/home/idies/miniconda3/envs/heasoft/lib/python3.10/site-packages/swifttools/swift_too/swift_data.py:394: UserWarning: sw03112170004pjb.par.gz exists and not overwritten (set clobber=True to override this).\n",
      "/home/idies/miniconda3/envs/heasoft/lib/python3.10/site-packages/swifttools/swift_too/swift_data.py:394: UserWarning: sw03112170004pob.cat.gz exists and not overwritten (set clobber=True to override this).\n",
      "/home/idies/miniconda3/envs/heasoft/lib/python3.10/site-packages/swifttools/swift_too/swift_data.py:394: UserWarning: sw03112170004ppr.par.gz exists and not overwritten (set clobber=True to override this).\n",
      "/home/idies/miniconda3/envs/heasoft/lib/python3.10/site-packages/swifttools/swift_too/swift_data.py:394: UserWarning: sw03112170004s.mkf.gz exists and not overwritten (set clobber=True to override this).\n",
      "/home/idies/miniconda3/envs/heasoft/lib/python3.10/site-packages/swifttools/swift_too/swift_data.py:394: UserWarning: sw03112170004sao.fits.gz exists and not overwritten (set clobber=True to override this).\n",
      "/home/idies/miniconda3/envs/heasoft/lib/python3.10/site-packages/swifttools/swift_too/swift_data.py:394: UserWarning: sw03112170004sat.fits.gz exists and not overwritten (set clobber=True to override this).\n",
      "/home/idies/miniconda3/envs/heasoft/lib/python3.10/site-packages/swifttools/swift_too/swift_data.py:394: UserWarning: sw03112170004sen.hk.gz exists and not overwritten (set clobber=True to override this).\n",
      "/home/idies/miniconda3/envs/heasoft/lib/python3.10/site-packages/swifttools/swift_too/swift_data.py:394: UserWarning: sw03112170004sti.fits.gz exists and not overwritten (set clobber=True to override this).\n",
      "/home/idies/miniconda3/envs/heasoft/lib/python3.10/site-packages/swifttools/swift_too/swift_data.py:394: UserWarning: sw03112170004uat.fits.gz exists and not overwritten (set clobber=True to override this).\n",
      "/home/idies/miniconda3/envs/heasoft/lib/python3.10/site-packages/swifttools/swift_too/swift_data.py:394: UserWarning: sw03112170004x.mkf.gz exists and not overwritten (set clobber=True to override this).\n",
      "/home/idies/miniconda3/envs/heasoft/lib/python3.10/site-packages/swifttools/swift_too/swift_data.py:394: UserWarning: sw03112170004bdecb.hk.gz exists and not overwritten (set clobber=True to override this).\n",
      "/home/idies/miniconda3/envs/heasoft/lib/python3.10/site-packages/swifttools/swift_too/swift_data.py:394: UserWarning: sw03112170004bdp.hk.gz exists and not overwritten (set clobber=True to override this).\n",
      "/home/idies/miniconda3/envs/heasoft/lib/python3.10/site-packages/swifttools/swift_too/swift_data.py:394: UserWarning: sw03112170004ben.hk.gz exists and not overwritten (set clobber=True to override this).\n",
      "/home/idies/miniconda3/envs/heasoft/lib/python3.10/site-packages/swifttools/swift_too/swift_data.py:394: UserWarning: sw03112170004bgocb.hk.gz exists and not overwritten (set clobber=True to override this).\n",
      "/home/idies/miniconda3/envs/heasoft/lib/python3.10/site-packages/swifttools/swift_too/swift_data.py:394: UserWarning: sw00090353003pat.fits.gz exists and not overwritten (set clobber=True to override this).\n",
      "/home/idies/miniconda3/envs/heasoft/lib/python3.10/site-packages/swifttools/swift_too/swift_data.py:394: UserWarning: sw00090353003pjb.par.gz exists and not overwritten (set clobber=True to override this).\n",
      "/home/idies/miniconda3/envs/heasoft/lib/python3.10/site-packages/swifttools/swift_too/swift_data.py:394: UserWarning: sw00090353003pob.cat.gz exists and not overwritten (set clobber=True to override this).\n",
      "/home/idies/miniconda3/envs/heasoft/lib/python3.10/site-packages/swifttools/swift_too/swift_data.py:394: UserWarning: sw03112289002pat.fits.gz exists and not overwritten (set clobber=True to override this).\n",
      "/home/idies/miniconda3/envs/heasoft/lib/python3.10/site-packages/swifttools/swift_too/swift_data.py:394: UserWarning: sw03112289002pjb.par.gz exists and not overwritten (set clobber=True to override this).\n",
      "/home/idies/miniconda3/envs/heasoft/lib/python3.10/site-packages/swifttools/swift_too/swift_data.py:394: UserWarning: sw03112289002pob.cat.gz exists and not overwritten (set clobber=True to override this).\n",
      "/home/idies/miniconda3/envs/heasoft/lib/python3.10/site-packages/swifttools/swift_too/swift_data.py:394: UserWarning: sw03112289002ppr.par.gz exists and not overwritten (set clobber=True to override this).\n",
      "/home/idies/miniconda3/envs/heasoft/lib/python3.10/site-packages/swifttools/swift_too/swift_data.py:394: UserWarning: sw03112289002s.mkf.gz exists and not overwritten (set clobber=True to override this).\n",
      "/home/idies/miniconda3/envs/heasoft/lib/python3.10/site-packages/swifttools/swift_too/swift_data.py:394: UserWarning: sw00090353003ppr.par.gz exists and not overwritten (set clobber=True to override this).\n",
      "/home/idies/miniconda3/envs/heasoft/lib/python3.10/site-packages/swifttools/swift_too/swift_data.py:394: UserWarning: sw00090353003s.mkf.gz exists and not overwritten (set clobber=True to override this).\n",
      "/home/idies/miniconda3/envs/heasoft/lib/python3.10/site-packages/swifttools/swift_too/swift_data.py:394: UserWarning: sw03112170004bhd.hk.gz exists and not overwritten (set clobber=True to override this).\n",
      "/home/idies/miniconda3/envs/heasoft/lib/python3.10/site-packages/swifttools/swift_too/swift_data.py:394: UserWarning: sw03112170004bmt00010002.lc.gz exists and not overwritten (set clobber=True to override this).\n",
      "/home/idies/miniconda3/envs/heasoft/lib/python3.10/site-packages/swifttools/swift_too/swift_data.py:394: UserWarning: sw03112170004bmt00010002_rw.lc.gz exists and not overwritten (set clobber=True to override this).\n",
      "/home/idies/miniconda3/envs/heasoft/lib/python3.10/site-packages/swifttools/swift_too/swift_data.py:394: UserWarning: sw03112170004bmt00010004.lc.gz exists and not overwritten (set clobber=True to override this).\n",
      "/home/idies/miniconda3/envs/heasoft/lib/python3.10/site-packages/swifttools/swift_too/swift_data.py:394: UserWarning: sw03112170004bmt00010004_rw.lc.gz exists and not overwritten (set clobber=True to override this).\n",
      "/home/idies/miniconda3/envs/heasoft/lib/python3.10/site-packages/swifttools/swift_too/swift_data.py:394: UserWarning: sw03112170004brt1s.lc.gz exists and not overwritten (set clobber=True to override this).\n",
      "/home/idies/miniconda3/envs/heasoft/lib/python3.10/site-packages/swifttools/swift_too/swift_data.py:394: UserWarning: sw03112170004brtmc.lc.gz exists and not overwritten (set clobber=True to override this).\n",
      "/home/idies/miniconda3/envs/heasoft/lib/python3.10/site-packages/swifttools/swift_too/swift_data.py:394: UserWarning: sw00097612001pat.fits.gz exists and not overwritten (set clobber=True to override this).\n",
      "/home/idies/miniconda3/envs/heasoft/lib/python3.10/site-packages/swifttools/swift_too/swift_data.py:394: UserWarning: sw00097612001pjb.par.gz exists and not overwritten (set clobber=True to override this).\n",
      "/home/idies/miniconda3/envs/heasoft/lib/python3.10/site-packages/swifttools/swift_too/swift_data.py:394: UserWarning: sw00097612001pob.cat.gz exists and not overwritten (set clobber=True to override this).\n",
      "/home/idies/miniconda3/envs/heasoft/lib/python3.10/site-packages/swifttools/swift_too/swift_data.py:394: UserWarning: sw03112170004brtms.lc.gz exists and not overwritten (set clobber=True to override this).\n",
      "/home/idies/miniconda3/envs/heasoft/lib/python3.10/site-packages/swifttools/swift_too/swift_data.py:394: UserWarning: sw03112170004brtqd.lc.gz exists and not overwritten (set clobber=True to override this).\n",
      "/home/idies/miniconda3/envs/heasoft/lib/python3.10/site-packages/swifttools/swift_too/swift_data.py:394: UserWarning: sw03112170004bsvpbo4549g0e71.dph.gz exists and not overwritten (set clobber=True to override this).\n",
      "/home/idies/miniconda3/envs/heasoft/lib/python3.10/site-packages/swifttools/swift_too/swift_data.py:394: UserWarning: sw03112289002sao.fits.gz exists and not overwritten (set clobber=True to override this).\n",
      "/home/idies/miniconda3/envs/heasoft/lib/python3.10/site-packages/swifttools/swift_too/swift_data.py:394: UserWarning: sw03112289002sat.fits.gz exists and not overwritten (set clobber=True to override this).\n",
      "/home/idies/miniconda3/envs/heasoft/lib/python3.10/site-packages/swifttools/swift_too/swift_data.py:394: UserWarning: sw03112289002sen.hk.gz exists and not overwritten (set clobber=True to override this).\n",
      "/home/idies/miniconda3/envs/heasoft/lib/python3.10/site-packages/swifttools/swift_too/swift_data.py:394: UserWarning: sw03112289002sti.fits.gz exists and not overwritten (set clobber=True to override this).\n",
      "/home/idies/miniconda3/envs/heasoft/lib/python3.10/site-packages/swifttools/swift_too/swift_data.py:394: UserWarning: sw03112289002x.mkf.gz exists and not overwritten (set clobber=True to override this).\n",
      "/home/idies/miniconda3/envs/heasoft/lib/python3.10/site-packages/swifttools/swift_too/swift_data.py:394: UserWarning: sw03112289002bdecb.hk.gz exists and not overwritten (set clobber=True to override this).\n",
      "/home/idies/miniconda3/envs/heasoft/lib/python3.10/site-packages/swifttools/swift_too/swift_data.py:394: UserWarning: sw00097612001ppr.par.gz exists and not overwritten (set clobber=True to override this).\n",
      "/home/idies/miniconda3/envs/heasoft/lib/python3.10/site-packages/swifttools/swift_too/swift_data.py:394: UserWarning: sw00097612001s.mkf.gz exists and not overwritten (set clobber=True to override this).\n",
      "/home/idies/miniconda3/envs/heasoft/lib/python3.10/site-packages/swifttools/swift_too/swift_data.py:394: UserWarning: sw00097612001sao.fits.gz exists and not overwritten (set clobber=True to override this).\n",
      "/home/idies/miniconda3/envs/heasoft/lib/python3.10/site-packages/swifttools/swift_too/swift_data.py:394: UserWarning: sw00090353003sao.fits.gz exists and not overwritten (set clobber=True to override this).\n",
      "/home/idies/miniconda3/envs/heasoft/lib/python3.10/site-packages/swifttools/swift_too/swift_data.py:394: UserWarning: sw00090353003sat.fits.gz exists and not overwritten (set clobber=True to override this).\n",
      "/home/idies/miniconda3/envs/heasoft/lib/python3.10/site-packages/swifttools/swift_too/swift_data.py:394: UserWarning: sw00090353003sen.hk.gz exists and not overwritten (set clobber=True to override this).\n",
      "/home/idies/miniconda3/envs/heasoft/lib/python3.10/site-packages/swifttools/swift_too/swift_data.py:394: UserWarning: sw00090353003sti.fits.gz exists and not overwritten (set clobber=True to override this).\n",
      "/home/idies/miniconda3/envs/heasoft/lib/python3.10/site-packages/swifttools/swift_too/swift_data.py:394: UserWarning: sw00090353003uat.fits.gz exists and not overwritten (set clobber=True to override this).\n",
      "/home/idies/miniconda3/envs/heasoft/lib/python3.10/site-packages/swifttools/swift_too/swift_data.py:394: UserWarning: sw00090353003x.mkf.gz exists and not overwritten (set clobber=True to override this).\n",
      "/home/idies/miniconda3/envs/heasoft/lib/python3.10/site-packages/swifttools/swift_too/swift_data.py:394: UserWarning: sw00090353003bdecb.hk.gz exists and not overwritten (set clobber=True to override this).\n",
      "/home/idies/miniconda3/envs/heasoft/lib/python3.10/site-packages/swifttools/swift_too/swift_data.py:394: UserWarning: sw00090353003bdp.hk.gz exists and not overwritten (set clobber=True to override this).\n",
      "/home/idies/miniconda3/envs/heasoft/lib/python3.10/site-packages/swifttools/swift_too/swift_data.py:394: UserWarning: sw00090353003ben.hk.gz exists and not overwritten (set clobber=True to override this).\n",
      "/home/idies/miniconda3/envs/heasoft/lib/python3.10/site-packages/swifttools/swift_too/swift_data.py:394: UserWarning: sw00090353003bgocb.hk.gz exists and not overwritten (set clobber=True to override this).\n",
      "/home/idies/miniconda3/envs/heasoft/lib/python3.10/site-packages/swifttools/swift_too/swift_data.py:394: UserWarning: sw00090353003bhd.hk.gz exists and not overwritten (set clobber=True to override this).\n",
      "/home/idies/miniconda3/envs/heasoft/lib/python3.10/site-packages/swifttools/swift_too/swift_data.py:394: UserWarning: sw00090353003bmt00010500.lc.gz exists and not overwritten (set clobber=True to override this).\n",
      "/home/idies/miniconda3/envs/heasoft/lib/python3.10/site-packages/swifttools/swift_too/swift_data.py:394: UserWarning: sw00090353003bmt00010500_rw.lc.gz exists and not overwritten (set clobber=True to override this).\n",
      "/home/idies/miniconda3/envs/heasoft/lib/python3.10/site-packages/swifttools/swift_too/swift_data.py:394: UserWarning: sw00090353003bmt00013000.lc.gz exists and not overwritten (set clobber=True to override this).\n",
      "/home/idies/miniconda3/envs/heasoft/lib/python3.10/site-packages/swifttools/swift_too/swift_data.py:394: UserWarning: sw00030738154pat.fits.gz exists and not overwritten (set clobber=True to override this).\n",
      "/home/idies/miniconda3/envs/heasoft/lib/python3.10/site-packages/swifttools/swift_too/swift_data.py:394: UserWarning: sw00030738154pjb.par.gz exists and not overwritten (set clobber=True to override this).\n",
      "/home/idies/miniconda3/envs/heasoft/lib/python3.10/site-packages/swifttools/swift_too/swift_data.py:394: UserWarning: sw00030738154pob.cat.gz exists and not overwritten (set clobber=True to override this).\n",
      "/home/idies/miniconda3/envs/heasoft/lib/python3.10/site-packages/swifttools/swift_too/swift_data.py:394: UserWarning: sw00090353003bmt00013000_rw.lc.gz exists and not overwritten (set clobber=True to override this).\n",
      "/home/idies/miniconda3/envs/heasoft/lib/python3.10/site-packages/swifttools/swift_too/swift_data.py:394: UserWarning: sw00090353003brt1s.lc.gz exists and not overwritten (set clobber=True to override this).\n",
      "/home/idies/miniconda3/envs/heasoft/lib/python3.10/site-packages/swifttools/swift_too/swift_data.py:394: UserWarning: sw00090353003brtmc.lc.gz exists and not overwritten (set clobber=True to override this).\n",
      "/home/idies/miniconda3/envs/heasoft/lib/python3.10/site-packages/swifttools/swift_too/swift_data.py:394: UserWarning: sw03112289002bdp.hk.gz exists and not overwritten (set clobber=True to override this).\n",
      "/home/idies/miniconda3/envs/heasoft/lib/python3.10/site-packages/swifttools/swift_too/swift_data.py:394: UserWarning: sw03112289002ben.hk.gz exists and not overwritten (set clobber=True to override this).\n",
      "/home/idies/miniconda3/envs/heasoft/lib/python3.10/site-packages/swifttools/swift_too/swift_data.py:394: UserWarning: sw03112289002bgocb.hk.gz exists and not overwritten (set clobber=True to override this).\n",
      "/home/idies/miniconda3/envs/heasoft/lib/python3.10/site-packages/swifttools/swift_too/swift_data.py:394: UserWarning: sw03112289002bhd.hk.gz exists and not overwritten (set clobber=True to override this).\n",
      "/home/idies/miniconda3/envs/heasoft/lib/python3.10/site-packages/swifttools/swift_too/swift_data.py:394: UserWarning: sw00090353003brtms.lc.gz exists and not overwritten (set clobber=True to override this).\n",
      "/home/idies/miniconda3/envs/heasoft/lib/python3.10/site-packages/swifttools/swift_too/swift_data.py:394: UserWarning: sw00090353003brtqd.lc.gz exists and not overwritten (set clobber=True to override this).\n",
      "/home/idies/miniconda3/envs/heasoft/lib/python3.10/site-packages/swifttools/swift_too/swift_data.py:394: UserWarning: sw00090353003bsvpbo4512g0e66.dph.gz exists and not overwritten (set clobber=True to override this).\n",
      "/home/idies/miniconda3/envs/heasoft/lib/python3.10/site-packages/swifttools/swift_too/swift_data.py:394: UserWarning: sw00090353003bsvpbo4522g0e69.dph.gz exists and not overwritten (set clobber=True to override this).\n",
      "/home/idies/miniconda3/envs/heasoft/lib/python3.10/site-packages/swifttools/swift_too/swift_data.py:394: UserWarning: sw00030738154ppr.par.gz exists and not overwritten (set clobber=True to override this).\n",
      "/home/idies/miniconda3/envs/heasoft/lib/python3.10/site-packages/swifttools/swift_too/swift_data.py:394: UserWarning: sw00030738154s.mkf.gz exists and not overwritten (set clobber=True to override this).\n",
      "/home/idies/miniconda3/envs/heasoft/lib/python3.10/site-packages/swifttools/swift_too/swift_data.py:394: UserWarning: sw00030738154sao.fits.gz exists and not overwritten (set clobber=True to override this).\n",
      "/home/idies/miniconda3/envs/heasoft/lib/python3.10/site-packages/swifttools/swift_too/swift_data.py:394: UserWarning: sw00030738154sat.fits.gz exists and not overwritten (set clobber=True to override this).\n",
      "/home/idies/miniconda3/envs/heasoft/lib/python3.10/site-packages/swifttools/swift_too/swift_data.py:394: UserWarning: sw00030738154sen.hk.gz exists and not overwritten (set clobber=True to override this).\n",
      "/home/idies/miniconda3/envs/heasoft/lib/python3.10/site-packages/swifttools/swift_too/swift_data.py:394: UserWarning: sw00030738154sti.fits.gz exists and not overwritten (set clobber=True to override this).\n",
      "/home/idies/miniconda3/envs/heasoft/lib/python3.10/site-packages/swifttools/swift_too/swift_data.py:394: UserWarning: sw03112289002bmt00010500_rw.lc.gz exists and not overwritten (set clobber=True to override this).\n",
      "/home/idies/miniconda3/envs/heasoft/lib/python3.10/site-packages/swifttools/swift_too/swift_data.py:394: UserWarning: sw03112289002bmt00013000_rw.lc.gz exists and not overwritten (set clobber=True to override this).\n",
      "/home/idies/miniconda3/envs/heasoft/lib/python3.10/site-packages/swifttools/swift_too/swift_data.py:394: UserWarning: sw03112289002brt1s.lc.gz exists and not overwritten (set clobber=True to override this).\n",
      "/home/idies/miniconda3/envs/heasoft/lib/python3.10/site-packages/swifttools/swift_too/swift_data.py:394: UserWarning: sw03112289002brtmc.lc.gz exists and not overwritten (set clobber=True to override this).\n",
      "/home/idies/miniconda3/envs/heasoft/lib/python3.10/site-packages/swifttools/swift_too/swift_data.py:394: UserWarning: sw03112289002brtms.lc.gz exists and not overwritten (set clobber=True to override this).\n",
      "/home/idies/miniconda3/envs/heasoft/lib/python3.10/site-packages/swifttools/swift_too/swift_data.py:394: UserWarning: sw03112289002brtqd.lc.gz exists and not overwritten (set clobber=True to override this).\n",
      "/home/idies/miniconda3/envs/heasoft/lib/python3.10/site-packages/swifttools/swift_too/swift_data.py:394: UserWarning: sw03112289002bsvpbo4540g0e6f.dph.gz exists and not overwritten (set clobber=True to override this).\n",
      "/home/idies/miniconda3/envs/heasoft/lib/python3.10/site-packages/swifttools/swift_too/swift_data.py:394: UserWarning: sw00097612001sat.fits.gz exists and not overwritten (set clobber=True to override this).\n",
      "/home/idies/miniconda3/envs/heasoft/lib/python3.10/site-packages/swifttools/swift_too/swift_data.py:394: UserWarning: sw00097612001sen.hk.gz exists and not overwritten (set clobber=True to override this).\n",
      "/home/idies/miniconda3/envs/heasoft/lib/python3.10/site-packages/swifttools/swift_too/swift_data.py:394: UserWarning: sw00097612001sti.fits.gz exists and not overwritten (set clobber=True to override this).\n",
      "/home/idies/miniconda3/envs/heasoft/lib/python3.10/site-packages/swifttools/swift_too/swift_data.py:394: UserWarning: sw00097612001uat.fits.gz exists and not overwritten (set clobber=True to override this).\n",
      "/home/idies/miniconda3/envs/heasoft/lib/python3.10/site-packages/swifttools/swift_too/swift_data.py:394: UserWarning: sw00030738154uat.fits.gz exists and not overwritten (set clobber=True to override this).\n",
      "/home/idies/miniconda3/envs/heasoft/lib/python3.10/site-packages/swifttools/swift_too/swift_data.py:394: UserWarning: sw00030738154x.mkf.gz exists and not overwritten (set clobber=True to override this).\n",
      "/home/idies/miniconda3/envs/heasoft/lib/python3.10/site-packages/swifttools/swift_too/swift_data.py:394: UserWarning: sw00030738154bdecb.hk.gz exists and not overwritten (set clobber=True to override this).\n",
      "/home/idies/miniconda3/envs/heasoft/lib/python3.10/site-packages/swifttools/swift_too/swift_data.py:394: UserWarning: sw00097612001x.mkf.gz exists and not overwritten (set clobber=True to override this).\n",
      "/home/idies/miniconda3/envs/heasoft/lib/python3.10/site-packages/swifttools/swift_too/swift_data.py:394: UserWarning: sw00097612001bdecb.hk.gz exists and not overwritten (set clobber=True to override this).\n",
      "/home/idies/miniconda3/envs/heasoft/lib/python3.10/site-packages/swifttools/swift_too/swift_data.py:394: UserWarning: sw00097612001bdp.hk.gz exists and not overwritten (set clobber=True to override this).\n",
      "/home/idies/miniconda3/envs/heasoft/lib/python3.10/site-packages/swifttools/swift_too/swift_data.py:394: UserWarning: sw00097612001ben.hk.gz exists and not overwritten (set clobber=True to override this).\n",
      "/home/idies/miniconda3/envs/heasoft/lib/python3.10/site-packages/swifttools/swift_too/swift_data.py:394: UserWarning: sw00030738154bdp.hk.gz exists and not overwritten (set clobber=True to override this).\n",
      "/home/idies/miniconda3/envs/heasoft/lib/python3.10/site-packages/swifttools/swift_too/swift_data.py:394: UserWarning: sw00030738154ben.hk.gz exists and not overwritten (set clobber=True to override this).\n",
      "/home/idies/miniconda3/envs/heasoft/lib/python3.10/site-packages/swifttools/swift_too/swift_data.py:394: UserWarning: sw00030738154bgocb.hk.gz exists and not overwritten (set clobber=True to override this).\n",
      "/home/idies/miniconda3/envs/heasoft/lib/python3.10/site-packages/swifttools/swift_too/swift_data.py:394: UserWarning: sw00030738154bhd.hk.gz exists and not overwritten (set clobber=True to override this).\n",
      "/home/idies/miniconda3/envs/heasoft/lib/python3.10/site-packages/swifttools/swift_too/swift_data.py:394: UserWarning: sw00030738154bmt00010500.lc.gz exists and not overwritten (set clobber=True to override this).\n",
      "/home/idies/miniconda3/envs/heasoft/lib/python3.10/site-packages/swifttools/swift_too/swift_data.py:394: UserWarning: sw00030738154bmt00010500_rw.lc.gz exists and not overwritten (set clobber=True to override this).\n",
      "/home/idies/miniconda3/envs/heasoft/lib/python3.10/site-packages/swifttools/swift_too/swift_data.py:394: UserWarning: sw00030738154bmt00013000.lc.gz exists and not overwritten (set clobber=True to override this).\n",
      "/home/idies/miniconda3/envs/heasoft/lib/python3.10/site-packages/swifttools/swift_too/swift_data.py:394: UserWarning: sw00097612001bgocb.hk.gz exists and not overwritten (set clobber=True to override this).\n",
      "/home/idies/miniconda3/envs/heasoft/lib/python3.10/site-packages/swifttools/swift_too/swift_data.py:394: UserWarning: sw00097612001bhd.hk.gz exists and not overwritten (set clobber=True to override this).\n",
      "/home/idies/miniconda3/envs/heasoft/lib/python3.10/site-packages/swifttools/swift_too/swift_data.py:394: UserWarning: sw00097612001bmt00010002.lc.gz exists and not overwritten (set clobber=True to override this).\n",
      "/home/idies/miniconda3/envs/heasoft/lib/python3.10/site-packages/swifttools/swift_too/swift_data.py:394: UserWarning: sw00097612001bmt00010002_rw.lc.gz exists and not overwritten (set clobber=True to override this).\n",
      "/home/idies/miniconda3/envs/heasoft/lib/python3.10/site-packages/swifttools/swift_too/swift_data.py:394: UserWarning: sw00030738154bmt00013000_rw.lc.gz exists and not overwritten (set clobber=True to override this).\n",
      "/home/idies/miniconda3/envs/heasoft/lib/python3.10/site-packages/swifttools/swift_too/swift_data.py:394: UserWarning: sw00030738154brt1s.lc.gz exists and not overwritten (set clobber=True to override this).\n",
      "/home/idies/miniconda3/envs/heasoft/lib/python3.10/site-packages/swifttools/swift_too/swift_data.py:394: UserWarning: sw00097612001bmt00010004.lc.gz exists and not overwritten (set clobber=True to override this).\n",
      "/home/idies/miniconda3/envs/heasoft/lib/python3.10/site-packages/swifttools/swift_too/swift_data.py:394: UserWarning: sw00097612001bmt00010004_rw.lc.gz exists and not overwritten (set clobber=True to override this).\n",
      "/home/idies/miniconda3/envs/heasoft/lib/python3.10/site-packages/swifttools/swift_too/swift_data.py:394: UserWarning: sw00097612001brt1s.lc.gz exists and not overwritten (set clobber=True to override this).\n",
      "/home/idies/miniconda3/envs/heasoft/lib/python3.10/site-packages/swifttools/swift_too/swift_data.py:394: UserWarning: sw00097612001brtmc.lc.gz exists and not overwritten (set clobber=True to override this).\n",
      "/home/idies/miniconda3/envs/heasoft/lib/python3.10/site-packages/swifttools/swift_too/swift_data.py:394: UserWarning: sw00097612001brtms.lc.gz exists and not overwritten (set clobber=True to override this).\n",
      "/home/idies/miniconda3/envs/heasoft/lib/python3.10/site-packages/swifttools/swift_too/swift_data.py:394: UserWarning: sw00097612001brtqd.lc.gz exists and not overwritten (set clobber=True to override this).\n",
      "/home/idies/miniconda3/envs/heasoft/lib/python3.10/site-packages/swifttools/swift_too/swift_data.py:394: UserWarning: sw00097612001bsvpbo453dg0e6f.dph.gz exists and not overwritten (set clobber=True to override this).\n",
      "/home/idies/miniconda3/envs/heasoft/lib/python3.10/site-packages/swifttools/swift_too/swift_data.py:394: UserWarning: sw00030738154brtmc.lc.gz exists and not overwritten (set clobber=True to override this).\n",
      "/home/idies/miniconda3/envs/heasoft/lib/python3.10/site-packages/swifttools/swift_too/swift_data.py:394: UserWarning: sw00030738154brtms.lc.gz exists and not overwritten (set clobber=True to override this).\n",
      "/home/idies/miniconda3/envs/heasoft/lib/python3.10/site-packages/swifttools/swift_too/swift_data.py:394: UserWarning: sw00030738154brtqd.lc.gz exists and not overwritten (set clobber=True to override this).\n",
      "/home/idies/miniconda3/envs/heasoft/lib/python3.10/site-packages/swifttools/swift_too/swift_data.py:394: UserWarning: sw00030738154bsvpbo4512g0e66.dph.gz exists and not overwritten (set clobber=True to override this).\n"
     ]
    },
    {
     "data": {
      "application/vnd.jupyter.widget-view+json": {
       "model_id": "ccdc221e777c496a976a04b89683f4db",
       "version_major": 2,
       "version_minor": 0
      },
      "text/plain": [
       "Downloading files:   0%|          | 0/27 [00:00<?, ?files/s]"
      ]
     },
     "metadata": {},
     "output_type": "display_data"
    },
    {
     "name": "stderr",
     "output_type": "stream",
     "text": [
      "/home/idies/miniconda3/envs/heasoft/lib/python3.10/site-packages/swifttools/swift_too/swift_data.py:394: UserWarning: sw00074003057pat.fits.gz exists and not overwritten (set clobber=True to override this).\n",
      "/home/idies/miniconda3/envs/heasoft/lib/python3.10/site-packages/swifttools/swift_too/swift_data.py:394: UserWarning: sw00074003057pjb.par.gz exists and not overwritten (set clobber=True to override this).\n",
      "/home/idies/miniconda3/envs/heasoft/lib/python3.10/site-packages/swifttools/swift_too/swift_data.py:394: UserWarning: sw00074003057pob.cat.gz exists and not overwritten (set clobber=True to override this).\n",
      "/home/idies/miniconda3/envs/heasoft/lib/python3.10/site-packages/swifttools/swift_too/swift_data.py:394: UserWarning: sw00074003057ppr.par.gz exists and not overwritten (set clobber=True to override this).\n",
      "/home/idies/miniconda3/envs/heasoft/lib/python3.10/site-packages/swifttools/swift_too/swift_data.py:394: UserWarning: sw00074003057s.mkf.gz exists and not overwritten (set clobber=True to override this).\n",
      "/home/idies/miniconda3/envs/heasoft/lib/python3.10/site-packages/swifttools/swift_too/swift_data.py:394: UserWarning: sw00074003057sao.fits.gz exists and not overwritten (set clobber=True to override this).\n",
      "/home/idies/miniconda3/envs/heasoft/lib/python3.10/site-packages/swifttools/swift_too/swift_data.py:394: UserWarning: sw00074003057sat.fits.gz exists and not overwritten (set clobber=True to override this).\n",
      "/home/idies/miniconda3/envs/heasoft/lib/python3.10/site-packages/swifttools/swift_too/swift_data.py:394: UserWarning: sw00074003057sen.hk.gz exists and not overwritten (set clobber=True to override this).\n",
      "/home/idies/miniconda3/envs/heasoft/lib/python3.10/site-packages/swifttools/swift_too/swift_data.py:394: UserWarning: sw00074003057sti.fits.gz exists and not overwritten (set clobber=True to override this).\n",
      "/home/idies/miniconda3/envs/heasoft/lib/python3.10/site-packages/swifttools/swift_too/swift_data.py:394: UserWarning: sw00074003057x.mkf.gz exists and not overwritten (set clobber=True to override this).\n",
      "/home/idies/miniconda3/envs/heasoft/lib/python3.10/site-packages/swifttools/swift_too/swift_data.py:394: UserWarning: sw00074003057bdecb.hk.gz exists and not overwritten (set clobber=True to override this).\n",
      "/home/idies/miniconda3/envs/heasoft/lib/python3.10/site-packages/swifttools/swift_too/swift_data.py:394: UserWarning: sw00074003057bdp.hk.gz exists and not overwritten (set clobber=True to override this).\n",
      "/home/idies/miniconda3/envs/heasoft/lib/python3.10/site-packages/swifttools/swift_too/swift_data.py:394: UserWarning: sw00074003057ben.hk.gz exists and not overwritten (set clobber=True to override this).\n",
      "/home/idies/miniconda3/envs/heasoft/lib/python3.10/site-packages/swifttools/swift_too/swift_data.py:394: UserWarning: sw00074003057bgocb.hk.gz exists and not overwritten (set clobber=True to override this).\n",
      "/home/idies/miniconda3/envs/heasoft/lib/python3.10/site-packages/swifttools/swift_too/swift_data.py:394: UserWarning: sw00074003057bhd.hk.gz exists and not overwritten (set clobber=True to override this).\n",
      "/home/idies/miniconda3/envs/heasoft/lib/python3.10/site-packages/swifttools/swift_too/swift_data.py:394: UserWarning: sw00074003057bmt00010002.lc.gz exists and not overwritten (set clobber=True to override this).\n",
      "/home/idies/miniconda3/envs/heasoft/lib/python3.10/site-packages/swifttools/swift_too/swift_data.py:394: UserWarning: sw00074003057bmt00010002_rw.lc.gz exists and not overwritten (set clobber=True to override this).\n",
      "/home/idies/miniconda3/envs/heasoft/lib/python3.10/site-packages/swifttools/swift_too/swift_data.py:394: UserWarning: sw00074003057bmt00010004.lc.gz exists and not overwritten (set clobber=True to override this).\n",
      "/home/idies/miniconda3/envs/heasoft/lib/python3.10/site-packages/swifttools/swift_too/swift_data.py:394: UserWarning: sw00074003057bmt00010004_rw.lc.gz exists and not overwritten (set clobber=True to override this).\n",
      "/home/idies/miniconda3/envs/heasoft/lib/python3.10/site-packages/swifttools/swift_too/swift_data.py:394: UserWarning: sw00074003057bmt00013000.lc.gz exists and not overwritten (set clobber=True to override this).\n",
      "/home/idies/miniconda3/envs/heasoft/lib/python3.10/site-packages/swifttools/swift_too/swift_data.py:394: UserWarning: sw00074003057bmt00013000_rw.lc.gz exists and not overwritten (set clobber=True to override this).\n",
      "/home/idies/miniconda3/envs/heasoft/lib/python3.10/site-packages/swifttools/swift_too/swift_data.py:394: UserWarning: sw00074003057brt1s.lc.gz exists and not overwritten (set clobber=True to override this).\n",
      "/home/idies/miniconda3/envs/heasoft/lib/python3.10/site-packages/swifttools/swift_too/swift_data.py:394: UserWarning: sw00074003057brtmc.lc.gz exists and not overwritten (set clobber=True to override this).\n",
      "/home/idies/miniconda3/envs/heasoft/lib/python3.10/site-packages/swifttools/swift_too/swift_data.py:394: UserWarning: sw00074003057brtms.lc.gz exists and not overwritten (set clobber=True to override this).\n",
      "/home/idies/miniconda3/envs/heasoft/lib/python3.10/site-packages/swifttools/swift_too/swift_data.py:394: UserWarning: sw00074003057brtqd.lc.gz exists and not overwritten (set clobber=True to override this).\n",
      "/home/idies/miniconda3/envs/heasoft/lib/python3.10/site-packages/swifttools/swift_too/swift_data.py:394: UserWarning: sw00074003057bsvpbo453bg0e6e.dph.gz exists and not overwritten (set clobber=True to override this).\n"
     ]
    }
   ],
   "source": [
    "# get a list of the fully downloaded observation IDs\n",
    "if restart:\n",
    "    result = ba.download_swiftdata(table_exposed)"
   ]
  },
  {
   "cell_type": "code",
   "execution_count": null,
   "id": "cddea122-3884-4f44-aa6f-fb43ae0aa094",
   "metadata": {},
   "outputs": [],
   "source": []
  },
  {
   "cell_type": "code",
   "execution_count": 25,
   "id": "94bdfdd1-28e4-4368-9552-3559ae070b42",
   "metadata": {
    "execution": {
     "iopub.execute_input": "2024-07-29T13:41:22.170887Z",
     "iopub.status.busy": "2024-07-29T13:41:22.170329Z",
     "iopub.status.idle": "2024-07-29T13:41:22.181959Z",
     "shell.execute_reply": "2024-07-29T13:41:22.180056Z",
     "shell.execute_reply.started": "2024-07-29T13:41:22.170833Z"
    },
    "scrolled": true
   },
   "outputs": [
    {
     "name": "stdout",
     "output_type": "stream",
     "text": [
      "19\n"
     ]
    }
   ],
   "source": [
    "if restart:\n",
    "    final_obs_ids = [i for i in table_exposed['OBSID'] if result[i]['success']]\n",
    "    print(len(final_obs_ids))\n",
    "else:\n",
    "    data_dir=ba.datadir()\n",
    "    direcs=sorted(data_dir.glob(\"*_surveyresult\")) # searching directory with survey result name in it\n",
    "    final_obs_ids=[i.name.split(\"_surveyresult\")[0] for i in direcs]\n",
    "    print(len(final_obs_ids))"
   ]
  },
  {
   "cell_type": "code",
   "execution_count": 26,
   "id": "bdd8ac17-63aa-4153-9267-e1de1a87217c",
   "metadata": {
    "execution": {
     "iopub.execute_input": "2024-07-29T13:41:22.184288Z",
     "iopub.status.busy": "2024-07-29T13:41:22.183778Z",
     "iopub.status.idle": "2024-07-29T13:41:22.599044Z",
     "shell.execute_reply": "2024-07-29T13:41:22.597089Z",
     "shell.execute_reply.started": "2024-07-29T13:41:22.184238Z"
    }
   },
   "outputs": [
    {
     "name": "stdout",
     "output_type": "stream",
     "text": [
      "/home/idies/workspace/Temporary/ashleyh12/scratch/grb240529A/custom_catalog.cat\n"
     ]
    }
   ],
   "source": [
    "from astropy.coordinates import SkyCoord\n",
    "\n",
    "# object_name=\"GRB240529A\"\n",
    "# object_location = swiftbat.simbadlocation(object_name)\n",
    "# c=SkyCoord(ra=object_location[0], dec=object_location[1], unit=\"deg\", frame=\"icrs\")\n",
    "\n",
    "incat=ba.create_custom_catalog(object_name, c.ra.value, c.dec.value, c.galactic.l.value, c.galactic.b.value, catalog_dir=ba.datadir())\n",
    "dir_path = \"/home/idies/workspace/Temporary/ashleyh12/scratch/grb240529A/\"\n",
    "incat = Path(f\"{ba.datadir(dir_path)}/custom_catalog.cat\")\n",
    "print(incat)"
   ]
  },
  {
   "cell_type": "code",
   "execution_count": null,
   "id": "59a72746-c759-4974-a6e0-d6a9f65c72a4",
   "metadata": {},
   "outputs": [],
   "source": []
  },
  {
   "cell_type": "code",
   "execution_count": 27,
   "id": "4c790b2d-1cd4-44c7-ba1c-9f6142b4ebac",
   "metadata": {
    "execution": {
     "iopub.execute_input": "2024-07-29T13:41:22.603935Z",
     "iopub.status.busy": "2024-07-29T13:41:22.603363Z",
     "iopub.status.idle": "2024-07-29T14:28:55.034088Z",
     "shell.execute_reply": "2024-07-29T14:28:55.031592Z",
     "shell.execute_reply.started": "2024-07-29T13:41:22.603881Z"
    },
    "scrolled": true
   },
   "outputs": [
    {
     "name": "stderr",
     "output_type": "stream",
     "text": [
      "WARNING: HSPDeprecationWarning: heasoftpy.batsurvey is being deprecated and will be removed. Use ``heasoftpy.swift.batsurvey`` instead [batanalysis.bat_survey]\n",
      "WARNING: HSPDeprecationWarning: heasoftpy.batsurvey is being deprecated and will be removed. Use ``heasoftpy.swift.batsurvey`` instead [batanalysis.bat_survey]\n",
      "WARNING: HSPDeprecationWarning: heasoftpy.batsurvey is being deprecated and will be removed. Use ``heasoftpy.swift.batsurvey`` instead [batanalysis.bat_survey]\n",
      "WARNING: HSPDeprecationWarning: heasoftpy.batsurvey is being deprecated and will be removed. Use ``heasoftpy.swift.batsurvey`` instead [batanalysis.bat_survey]\n",
      "WARNING: HSPDeprecationWarning: heasoftpy.batsurvey is being deprecated and will be removed. Use ``heasoftpy.swift.batsurvey`` instead [batanalysis.bat_survey]\n",
      "WARNING: HSPDeprecationWarning: heasoftpy.batsurvey is being deprecated and will be removed. Use ``heasoftpy.swift.batsurvey`` instead [batanalysis.bat_survey]\n",
      "WARNING: HSPDeprecationWarning: heasoftpy.batsurvey is being deprecated and will be removed. Use ``heasoftpy.swift.batsurvey`` instead [batanalysis.bat_survey]\n",
      "WARNING: HSPDeprecationWarning: heasoftpy.batsurvey is being deprecated and will be removed. Use ``heasoftpy.swift.batsurvey`` instead [batanalysis.bat_survey]\n",
      "WARNING: HSPDeprecationWarning: heasoftpy.batsurvey is being deprecated and will be removed. Use ``heasoftpy.swift.batsurvey`` instead [batanalysis.bat_survey]\n",
      "/home/idies/miniconda3/envs/heasoft/lib/python3.10/site-packages/joblib/externals/loky/process_executor.py:752: UserWarning: A worker stopped while some jobs were given to the executor. This can be caused by a too short worker timeout or by a memory leak.\n",
      "WARNING: HSPDeprecationWarning: heasoftpy.batsurvey is being deprecated and will be removed. Use ``heasoftpy.swift.batsurvey`` instead [batanalysis.bat_survey]\n"
     ]
    },
    {
     "name": "stdout",
     "output_type": "stream",
     "text": [
      "Working on Obsid 01231488000\n",
      "A save file has been written to /home/idies/workspace/Temporary/ashleyh12/scratch/grb240529A/01231488000_surveyresult/batsurvey.pickle.\n",
      "Done with Obsid 01231488000\n",
      "Working on Obsid 00095139006\n",
      "A save file has been written to /home/idies/workspace/Temporary/ashleyh12/scratch/grb240529A/00095139006_surveyresult/batsurvey.pickle.\n",
      "Done with Obsid 00095139006\n",
      "Working on Obsid 00037604007\n",
      "A save file has been written to /home/idies/workspace/Temporary/ashleyh12/scratch/grb240529A/00037604007_surveyresult/batsurvey.pickle.\n",
      "Done with Obsid 00037604007\n",
      "Working on Obsid 03112289002\n",
      "A save file has been written to /home/idies/workspace/Temporary/ashleyh12/scratch/grb240529A/03112289002_surveyresult/batsurvey.pickle.\n",
      "The results for each pointing of observation ID 03112289002 is:\n",
      " There were no GTI intervals found for this observation ID 03112289002\n",
      "Done with Obsid 03112289002\n",
      "Working on Obsid 00081002003\n",
      "A save file has been written to /home/idies/workspace/Temporary/ashleyh12/scratch/grb240529A/00081002003_surveyresult/batsurvey.pickle.\n",
      "Done with Obsid 00081002003\n",
      "Working on Obsid 00097591001\n",
      "A save file has been written to /home/idies/workspace/Temporary/ashleyh12/scratch/grb240529A/00097591001_surveyresult/batsurvey.pickle.\n",
      "Done with Obsid 00097591001\n",
      "Working on Obsid 00030738154\n",
      "A save file has been written to /home/idies/workspace/Temporary/ashleyh12/scratch/grb240529A/00030738154_surveyresult/batsurvey.pickle.\n",
      "The results for each pointing of observation ID 00030738154 is:\n",
      " B 6.16 00030738154 point_20241490211 0 expo_small 738555061 738555140.84146 26.6349717117644 61.7486578762871 127.437434645783 79 0 0 8 0 0 0 0 0 0 0 0\n",
      "\n",
      "Done with Obsid 00030738154\n",
      "Working on Obsid 00097641001\n",
      "A save file has been written to /home/idies/workspace/Temporary/ashleyh12/scratch/grb240529A/00097641001_surveyresult/batsurvey.pickle.\n",
      "Done with Obsid 00097641001\n",
      "Working on Obsid 00097550020\n",
      "A save file has been written to /home/idies/workspace/Temporary/ashleyh12/scratch/grb240529A/00097550020_surveyresult/batsurvey.pickle.\n",
      "Done with Obsid 00097550020\n",
      "Working on Obsid 03112170004\n",
      "A save file has been written to /home/idies/workspace/Temporary/ashleyh12/scratch/grb240529A/03112170004_surveyresult/batsurvey.pickle.\n",
      "The results for each pointing of observation ID 03112170004 is:\n",
      " B 6.16 03112170004 point_20241501715 0 dpi1_failed 738695738 738695778.07652 -999 -999 -999 0 0 0 8 0 0 0 0 0 0 0 0\n",
      "\n",
      "Done with Obsid 03112170004\n",
      "Working on Obsid 00074003057\n",
      "A save file has been written to /home/idies/workspace/Temporary/ashleyh12/scratch/grb240529A/00074003057_surveyresult/batsurvey.pickle.\n",
      "The results for each pointing of observation ID 00074003057 is:\n",
      " B 6.16 00074003057 point_20241500737 0 ndets_low 738661060 738661739.6006 279.982838435842 59.9908271328069 31.0416789802583 678 678 8734 8 0 0 0 0 0 0 0 0\n",
      "\n",
      "Done with Obsid 00074003057\n",
      "Working on Obsid 00097669003\n",
      "A save file has been written to /home/idies/workspace/Temporary/ashleyh12/scratch/grb240529A/00097669003_surveyresult/batsurvey.pickle.\n",
      "Done with Obsid 00097669003\n",
      "Working on Obsid 00090353003\n",
      "A save file has been written to /home/idies/workspace/Temporary/ashleyh12/scratch/grb240529A/00090353003_surveyresult/batsurvey.pickle.\n",
      "Done with Obsid 00090353003\n",
      "Working on Obsid 00016397007\n",
      "A save file has been written to /home/idies/workspace/Temporary/ashleyh12/scratch/grb240529A/00016397007_surveyresult/batsurvey.pickle.\n",
      "Done with Obsid 00016397007\n",
      "Working on Obsid 00097612001\n",
      "A save file has been written to /home/idies/workspace/Temporary/ashleyh12/scratch/grb240529A/00097612001_surveyresult/batsurvey.pickle.\n",
      "Done with Obsid 00097612001\n",
      "Working on Obsid 00090372003\n",
      "A save file has been written to /home/idies/workspace/Temporary/ashleyh12/scratch/grb240529A/00090372003_surveyresult/batsurvey.pickle.\n",
      "Done with Obsid 00090372003\n",
      "Working on Obsid 00032035190\n",
      "A save file has been written to /home/idies/workspace/Temporary/ashleyh12/scratch/grb240529A/00032035190_surveyresult/batsurvey.pickle.\n",
      "Done with Obsid 00032035190\n",
      "Working on Obsid 01231488002\n",
      "A save file has been written to /home/idies/workspace/Temporary/ashleyh12/scratch/grb240529A/01231488002_surveyresult/batsurvey.pickle.\n",
      "Done with Obsid 01231488002\n",
      "/home/idies/workspace/Temporary/ashleyh12/scratch/grb240529A/custom_catalog.cat\n"
     ]
    }
   ],
   "source": [
    "#run batsurvey in parallel\n",
    "input_dict=dict(cleansnr=6,cleanexpr='ALWAYS_CLEAN==T', incatalog=f\"{incat}\", detthresh=9000, detthresh2=9000)\n",
    "noise_map_dir = Path(\"/home/idies/workspace/Temporary/tmpataki/scratch/PATTERN_MAPS/\")\n",
    "\n",
    "batsurvey_obs=ba.parallel.batsurvey_analysis(final_obs_ids,  input_dict=input_dict, patt_noise_dir=noise_map_dir,  nprocs=10, recalc=True)\n",
    "# batsurvey_obs=ba.parallel.batsurvey_analysis(final_obs_ids,  input_dict=input_dict)\n",
    "dir_path = \"/home/idies/workspace/Temporary/ashleyh12/scratch/grb240529A/\"\n",
    "incat = Path(f\"{ba.datadir(dir_path)}/custom_catalog.cat\")\n",
    "print(incat)"
   ]
  },
  {
   "cell_type": "code",
   "execution_count": 28,
   "id": "87c69b6b-6d54-4867-a4f1-d862b3af3001",
   "metadata": {
    "execution": {
     "iopub.execute_input": "2024-07-29T14:28:55.037618Z",
     "iopub.status.busy": "2024-07-29T14:28:55.036781Z",
     "iopub.status.idle": "2024-07-29T14:28:55.048378Z",
     "shell.execute_reply": "2024-07-29T14:28:55.046354Z",
     "shell.execute_reply.started": "2024-07-29T14:28:55.037502Z"
    }
   },
   "outputs": [],
   "source": [
    "# %debug"
   ]
  },
  {
   "cell_type": "code",
   "execution_count": null,
   "id": "ec7acb61-9ab4-435c-88bb-9dedbb20a1f0",
   "metadata": {},
   "outputs": [],
   "source": []
  },
  {
   "cell_type": "code",
   "execution_count": 29,
   "id": "9fc84ad6-e608-4858-838e-725920b8f2b6",
   "metadata": {
    "execution": {
     "iopub.execute_input": "2024-07-29T14:28:55.051399Z",
     "iopub.status.busy": "2024-07-29T14:28:55.050855Z",
     "iopub.status.idle": "2024-07-29T14:28:55.058848Z",
     "shell.execute_reply": "2024-07-29T14:28:55.056813Z",
     "shell.execute_reply.started": "2024-07-29T14:28:55.051346Z"
    },
    "scrolled": true
   },
   "outputs": [],
   "source": [
    "# batsurvey_obs=ba.parallel.batsurvey_analysis(final_obs_ids,  input_dict=input_dict, patt_noise_dir=map_dir)"
   ]
  },
  {
   "cell_type": "code",
   "execution_count": null,
   "id": "c0eadfdd-2acf-44c3-8aa0-67ed0321970f",
   "metadata": {},
   "outputs": [],
   "source": []
  },
  {
   "cell_type": "code",
   "execution_count": 30,
   "id": "3df52755-88ba-4018-8483-1158b39f2a28",
   "metadata": {
    "execution": {
     "iopub.execute_input": "2024-07-29T14:28:55.061723Z",
     "iopub.status.busy": "2024-07-29T14:28:55.061112Z",
     "iopub.status.idle": "2024-07-29T14:31:12.355089Z",
     "shell.execute_reply": "2024-07-29T14:31:12.352631Z",
     "shell.execute_reply.started": "2024-07-29T14:28:55.061661Z"
    },
    "scrolled": true
   },
   "outputs": [
    {
     "name": "stderr",
     "output_type": "stream",
     "text": [
      "WARNING: HSPDeprecationWarning: heasoftpy.batsurvey_catmux is being deprecated and will be removed. Use ``heasoftpy.swift.batsurvey_catmux`` instead [batanalysis.bat_survey]\n",
      "WARNING: HSPDeprecationWarning: heasoftpy.batsurvey_catmux is being deprecated and will be removed. Use ``heasoftpy.swift.batsurvey_catmux`` instead [batanalysis.bat_survey]\n",
      "WARNING: HSPDeprecationWarning: heasoftpy.batsurvey_catmux is being deprecated and will be removed. Use ``heasoftpy.swift.batsurvey_catmux`` instead [batanalysis.bat_survey]\n",
      "WARNING: HSPDeprecationWarning: heasoftpy.batsurvey_catmux is being deprecated and will be removed. Use ``heasoftpy.swift.batsurvey_catmux`` instead [batanalysis.bat_survey]\n",
      "WARNING: HSPDeprecationWarning: heasoftpy.batsurvey_catmux is being deprecated and will be removed. Use ``heasoftpy.swift.batsurvey_catmux`` instead [batanalysis.bat_survey]\n",
      "WARNING: HSPDeprecationWarning: heasoftpy.batsurvey_catmux is being deprecated and will be removed. Use ``heasoftpy.swift.batsurvey_catmux`` instead [batanalysis.bat_survey]\n",
      "/home/idies/miniconda3/envs/heasoft/lib/python3.10/site-packages/batanalysis/bat_survey.py:1293: UserWarning: Observation ID: 00081002003 Pointing ID: 20241490655 \n",
      "There is no source GRB240529A found in the catalog file. Please double check the spelling.\n",
      "This source may also not be detected in this observation ID/pointing ID\n",
      "/home/idies/miniconda3/envs/heasoft/lib/python3.10/site-packages/batanalysis/bat_survey.py:1293: UserWarning: Observation ID: 00097550020 Pointing ID: 20241490811 \n",
      "There is no source GRB240529A found in the catalog file. Please double check the spelling.\n",
      "This source may also not be detected in this observation ID/pointing ID\n",
      "/home/idies/miniconda3/envs/heasoft/lib/python3.10/site-packages/batanalysis/bat_survey.py:1293: UserWarning: Observation ID: 00097550020 Pointing ID: 20241492039 \n",
      "There is no source GRB240529A found in the catalog file. Please double check the spelling.\n",
      "This source may also not be detected in this observation ID/pointing ID\n",
      "/home/idies/miniconda3/envs/heasoft/lib/python3.10/site-packages/batanalysis/bat_survey.py:1293: UserWarning: Observation ID: 00016397007 Pointing ID: 20241500942 \n",
      "There is no source GRB240529A found in the catalog file. Please double check the spelling.\n",
      "This source may also not be detected in this observation ID/pointing ID\n",
      "/home/idies/miniconda3/envs/heasoft/lib/python3.10/site-packages/batanalysis/bat_survey.py:1293: UserWarning: Observation ID: 00016397007 Pointing ID: 20241501720 \n",
      "There is no source GRB240529A found in the catalog file. Please double check the spelling.\n",
      "This source may also not be detected in this observation ID/pointing ID\n",
      "/home/idies/miniconda3/envs/heasoft/lib/python3.10/site-packages/batanalysis/bat_survey.py:1293: UserWarning: Observation ID: 01231488000 Pointing ID: 20241500249 \n",
      "There is no source GRB240529A found in the catalog file. Please double check the spelling.\n",
      "This source may also not be detected in this observation ID/pointing ID\n",
      "/home/idies/miniconda3/envs/heasoft/lib/python3.10/site-packages/batanalysis/bat_survey.py:1293: UserWarning: Observation ID: 01231488000 Pointing ID: 20241500303 \n",
      "There is no source GRB240529A found in the catalog file. Please double check the spelling.\n",
      "This source may also not be detected in this observation ID/pointing ID\n",
      "/home/idies/miniconda3/envs/heasoft/lib/python3.10/site-packages/batanalysis/bat_survey.py:1293: UserWarning: Observation ID: 00095139006 Pointing ID: 20241492339 \n",
      "There is no source GRB240529A found in the catalog file. Please double check the spelling.\n",
      "This source may also not be detected in this observation ID/pointing ID\n",
      "/home/idies/miniconda3/envs/heasoft/lib/python3.10/site-packages/batanalysis/bat_survey.py:1293: UserWarning: Observation ID: 00097669003 Pointing ID: 20241490635 \n",
      "There is no source GRB240529A found in the catalog file. Please double check the spelling.\n",
      "This source may also not be detected in this observation ID/pointing ID\n",
      "/home/idies/miniconda3/envs/heasoft/lib/python3.10/site-packages/batanalysis/bat_survey.py:1293: UserWarning: Observation ID: 00097669003 Pointing ID: 20241491117 \n",
      "There is no source GRB240529A found in the catalog file. Please double check the spelling.\n",
      "This source may also not be detected in this observation ID/pointing ID\n",
      "/home/idies/miniconda3/envs/heasoft/lib/python3.10/site-packages/batanalysis/bat_survey.py:1293: UserWarning: Observation ID: 00090372003 Pointing ID: 20241500133 \n",
      "There is no source GRB240529A found in the catalog file. Please double check the spelling.\n",
      "This source may also not be detected in this observation ID/pointing ID\n",
      "/home/idies/miniconda3/envs/heasoft/lib/python3.10/site-packages/batanalysis/bat_survey.py:1293: UserWarning: Observation ID: 00090372003 Pointing ID: 20241502350 \n",
      "There is no source GRB240529A found in the catalog file. Please double check the spelling.\n",
      "This source may also not be detected in this observation ID/pointing ID\n",
      "/home/idies/miniconda3/envs/heasoft/lib/python3.10/site-packages/batanalysis/bat_survey.py:1293: UserWarning: Observation ID: 01231488002 Pointing ID: 20241501545 \n",
      "There is no source GRB240529A found in the catalog file. Please double check the spelling.\n",
      "This source may also not be detected in this observation ID/pointing ID\n",
      "/home/idies/miniconda3/envs/heasoft/lib/python3.10/site-packages/batanalysis/bat_survey.py:1293: UserWarning: Observation ID: 01231488002 Pointing ID: 20241501847 \n",
      "There is no source GRB240529A found in the catalog file. Please double check the spelling.\n",
      "This source may also not be detected in this observation ID/pointing ID\n",
      "/home/idies/miniconda3/envs/heasoft/lib/python3.10/site-packages/batanalysis/bat_survey.py:1293: UserWarning: Observation ID: 01231488002 Pointing ID: 20241502025 \n",
      "There is no source GRB240529A found in the catalog file. Please double check the spelling.\n",
      "This source may also not be detected in this observation ID/pointing ID\n",
      "/home/idies/miniconda3/envs/heasoft/lib/python3.10/site-packages/batanalysis/bat_survey.py:1293: UserWarning: Observation ID: 01231488002 Pointing ID: 20241502152 \n",
      "There is no source GRB240529A found in the catalog file. Please double check the spelling.\n",
      "This source may also not be detected in this observation ID/pointing ID\n",
      "/home/idies/miniconda3/envs/heasoft/lib/python3.10/site-packages/batanalysis/bat_survey.py:1293: UserWarning: Observation ID: 00097641001 Pointing ID: 20241501125 \n",
      "There is no source GRB240529A found in the catalog file. Please double check the spelling.\n",
      "This source may also not be detected in this observation ID/pointing ID\n",
      "/home/idies/miniconda3/envs/heasoft/lib/python3.10/site-packages/batanalysis/bat_survey.py:1293: UserWarning: Observation ID: 00097641001 Pointing ID: 20241502220 \n",
      "There is no source GRB240529A found in the catalog file. Please double check the spelling.\n",
      "This source may also not be detected in this observation ID/pointing ID\n",
      "/home/idies/miniconda3/envs/heasoft/lib/python3.10/site-packages/batanalysis/bat_survey.py:1293: UserWarning: Observation ID: 00097591001 Pointing ID: 20241502202 \n",
      "There is no source GRB240529A found in the catalog file. Please double check the spelling.\n",
      "This source may also not be detected in this observation ID/pointing ID\n",
      "/home/idies/miniconda3/envs/heasoft/lib/python3.10/site-packages/batanalysis/bat_survey.py:1293: UserWarning: Observation ID: 00037604007 Pointing ID: 20241501112 \n",
      "There is no source GRB240529A found in the catalog file. Please double check the spelling.\n",
      "This source may also not be detected in this observation ID/pointing ID\n",
      "/home/idies/miniconda3/envs/heasoft/lib/python3.10/site-packages/batanalysis/bat_survey.py:1293: UserWarning: Observation ID: 00090353003 Pointing ID: 20241491258 \n",
      "There is no source GRB240529A found in the catalog file. Please double check the spelling.\n",
      "This source may also not be detected in this observation ID/pointing ID\n",
      "/home/idies/miniconda3/envs/heasoft/lib/python3.10/site-packages/batanalysis/bat_survey.py:1293: UserWarning: Observation ID: 00032035190 Pointing ID: 20241501255 \n",
      "There is no source GRB240529A found in the catalog file. Please double check the spelling.\n",
      "This source may also not be detected in this observation ID/pointing ID\n",
      "/home/idies/miniconda3/envs/heasoft/lib/python3.10/site-packages/batanalysis/bat_survey.py:1293: UserWarning: Observation ID: 00097612001 Pointing ID: 20241500906 \n",
      "There is no source GRB240529A found in the catalog file. Please double check the spelling.\n",
      "This source may also not be detected in this observation ID/pointing ID\n",
      "/home/idies/miniconda3/envs/heasoft/lib/python3.10/site-packages/batanalysis/bat_survey.py:1293: UserWarning: Observation ID: 01231488001 Pointing ID: 20241500436 \n",
      "There is no source GRB240529A found in the catalog file. Please double check the spelling.\n",
      "This source may also not be detected in this observation ID/pointing ID\n",
      "/home/idies/miniconda3/envs/heasoft/lib/python3.10/site-packages/batanalysis/bat_survey.py:1293: UserWarning: Observation ID: 01231488001 Pointing ID: 20241500615 \n",
      "There is no source GRB240529A found in the catalog file. Please double check the spelling.\n",
      "This source may also not be detected in this observation ID/pointing ID\n",
      "/home/idies/miniconda3/envs/heasoft/lib/python3.10/site-packages/batanalysis/bat_survey.py:1293: UserWarning: Observation ID: 01231488001 Pointing ID: 20241500750 \n",
      "There is no source GRB240529A found in the catalog file. Please double check the spelling.\n",
      "This source may also not be detected in this observation ID/pointing ID\n",
      "/home/idies/miniconda3/envs/heasoft/lib/python3.10/site-packages/batanalysis/bat_survey.py:1293: UserWarning: Observation ID: 01231488001 Pointing ID: 20241500911 \n",
      "There is no source GRB240529A found in the catalog file. Please double check the spelling.\n",
      "This source may also not be detected in this observation ID/pointing ID\n",
      "/home/idies/miniconda3/envs/heasoft/lib/python3.10/site-packages/batanalysis/bat_survey.py:1293: UserWarning: Observation ID: 01231488001 Pointing ID: 20241501056 \n",
      "There is no source GRB240529A found in the catalog file. Please double check the spelling.\n",
      "This source may also not be detected in this observation ID/pointing ID\n",
      "/home/idies/miniconda3/envs/heasoft/lib/python3.10/site-packages/batanalysis/bat_survey.py:1293: UserWarning: Observation ID: 01231488001 Pointing ID: 20241501223 \n",
      "There is no source GRB240529A found in the catalog file. Please double check the spelling.\n",
      "This source may also not be detected in this observation ID/pointing ID\n",
      "/home/idies/miniconda3/envs/heasoft/lib/python3.10/site-packages/batanalysis/bat_survey.py:1293: UserWarning: Observation ID: 01231488001 Pointing ID: 20241501357 \n",
      "There is no source GRB240529A found in the catalog file. Please double check the spelling.\n",
      "This source may also not be detected in this observation ID/pointing ID\n",
      "/home/idies/miniconda3/envs/heasoft/lib/python3.10/site-packages/batanalysis/bat_survey.py:1293: UserWarning: Observation ID: 01231488001 Pointing ID: 20241501400 \n",
      "There is no source GRB240529A found in the catalog file. Please double check the spelling.\n",
      "This source may also not be detected in this observation ID/pointing ID\n",
      "/home/idies/miniconda3/envs/heasoft/lib/python3.10/site-packages/batanalysis/bat_survey.py:1293: UserWarning: Observation ID: 01231488001 Pointing ID: 20241501404 \n",
      "There is no source GRB240529A found in the catalog file. Please double check the spelling.\n",
      "This source may also not be detected in this observation ID/pointing ID\n"
     ]
    }
   ],
   "source": [
    "# batsurvey_obs=ba.parallel.batspectrum_analysis(batsurvey_obs, object_name, fit_iterations=1000)\n",
    "if restart: \n",
    "    batsurvey_obs = ba.parallel.batspectrum_analysis(\n",
    "        batsurvey_obs, object_name, use_cstat=False, ul_pl_index=2, nprocs=6\n",
    "    )"
   ]
  },
  {
   "cell_type": "code",
   "execution_count": null,
   "id": "33759d16-e6cd-4c49-a358-3881936831ff",
   "metadata": {},
   "outputs": [],
   "source": []
  },
  {
   "cell_type": "code",
   "execution_count": 31,
   "id": "c9e84156-6a2e-47d6-b81e-a9306bdb8401",
   "metadata": {
    "execution": {
     "iopub.execute_input": "2024-07-29T14:31:12.358905Z",
     "iopub.status.busy": "2024-07-29T14:31:12.358243Z",
     "iopub.status.idle": "2024-07-29T14:31:12.521674Z",
     "shell.execute_reply": "2024-07-29T14:31:12.519551Z",
     "shell.execute_reply.started": "2024-07-29T14:31:12.358837Z"
    }
   },
   "outputs": [],
   "source": [
    "ba.print_parameters(batsurvey_obs, object_name, values=['met_time', 'utc_time', 'exposure', 'flux', 'index'], latex_table=False, savetable=True, save_file=\"output.txt\")"
   ]
  },
  {
   "cell_type": "code",
   "execution_count": null,
   "id": "9cf6a57c-080d-4d4e-89d2-a6e1211e6720",
   "metadata": {},
   "outputs": [],
   "source": []
  },
  {
   "cell_type": "code",
   "execution_count": 32,
   "id": "8fec4a9a-e567-4117-86f2-22ae127dfa68",
   "metadata": {
    "execution": {
     "iopub.execute_input": "2024-07-29T14:31:12.524748Z",
     "iopub.status.busy": "2024-07-29T14:31:12.524116Z",
     "iopub.status.idle": "2024-07-29T14:31:12.732488Z",
     "shell.execute_reply": "2024-07-29T14:31:12.729155Z",
     "shell.execute_reply.started": "2024-07-29T14:31:12.524694Z"
    }
   },
   "outputs": [
    {
     "ename": "ValueError",
     "evalue": "cannot guess format from input values with zero-size array or all elements masked",
     "output_type": "error",
     "traceback": [
      "\u001b[0;31m---------------------------------------------------------------------------\u001b[0m",
      "\u001b[0;31mValueError\u001b[0m                                Traceback (most recent call last)",
      "Cell \u001b[0;32mIn[32], line 3\u001b[0m\n\u001b[1;32m      1\u001b[0m \u001b[38;5;66;03m# fig, axes=ba.plot_survey_lc(batsurvey_obs, id_list=source_name, time_unit=\"UTC\", values=[\"rate\",\"snr\", \"flux\", \"exposure\"], T0=388741688, calc_lc=True) #T0 is GBM trigger time\u001b[39;00m\n\u001b[0;32m----> 3\u001b[0m fig, axes\u001b[38;5;241m=\u001b[39m\u001b[43mba\u001b[49m\u001b[38;5;241;43m.\u001b[39;49m\u001b[43mplot_survey_lc\u001b[49m\u001b[43m(\u001b[49m\u001b[43mbatsurvey_obs\u001b[49m\u001b[43m,\u001b[49m\u001b[43m \u001b[49m\u001b[43mid_list\u001b[49m\u001b[38;5;241;43m=\u001b[39;49m\u001b[43mobject_name\u001b[49m\u001b[43m,\u001b[49m\u001b[43m \u001b[49m\u001b[43mtime_unit\u001b[49m\u001b[38;5;241;43m=\u001b[39;49m\u001b[38;5;124;43m\"\u001b[39;49m\u001b[38;5;124;43mUTC\u001b[39;49m\u001b[38;5;124;43m\"\u001b[39;49m\u001b[43m,\u001b[49m\u001b[43m \u001b[49m\u001b[43mvalues\u001b[49m\u001b[38;5;241;43m=\u001b[39;49m\u001b[43m[\u001b[49m\u001b[38;5;124;43m\"\u001b[39;49m\u001b[38;5;124;43mrate\u001b[39;49m\u001b[38;5;124;43m\"\u001b[39;49m\u001b[43m,\u001b[49m\u001b[38;5;124;43m\"\u001b[39;49m\u001b[38;5;124;43msnr\u001b[39;49m\u001b[38;5;124;43m\"\u001b[39;49m\u001b[43m,\u001b[49m\u001b[43m \u001b[49m\u001b[38;5;124;43m\"\u001b[39;49m\u001b[38;5;124;43mflux\u001b[39;49m\u001b[38;5;124;43m\"\u001b[39;49m\u001b[43m,\u001b[49m\u001b[43m \u001b[49m\u001b[38;5;124;43m\"\u001b[39;49m\u001b[38;5;124;43mexposure\u001b[39;49m\u001b[38;5;124;43m\"\u001b[39;49m\u001b[43m]\u001b[49m\u001b[43m,\u001b[49m\u001b[43m \u001b[49m\u001b[43mT0\u001b[49m\u001b[38;5;241;43m=\u001b[39;49m\u001b[38;5;241;43m1231488\u001b[39;49m\u001b[43m)\u001b[49m \u001b[38;5;66;03m#T0 is GBM trigger time\u001b[39;00m\n\u001b[1;32m      5\u001b[0m axes[\u001b[38;5;241m1\u001b[39m]\u001b[38;5;241m.\u001b[39mset_yscale(\u001b[38;5;124m'\u001b[39m\u001b[38;5;124mlog\u001b[39m\u001b[38;5;124m'\u001b[39m)\n\u001b[1;32m      6\u001b[0m axes[\u001b[38;5;241m0\u001b[39m]\u001b[38;5;241m.\u001b[39mset_yscale(\u001b[38;5;124m'\u001b[39m\u001b[38;5;124mlog\u001b[39m\u001b[38;5;124m'\u001b[39m)\n",
      "File \u001b[0;32m~/miniconda3/envs/heasoft/lib/python3.10/site-packages/batanalysis/plotting.py:133\u001b[0m, in \u001b[0;36mplot_survey_lc\u001b[0;34m(survey_obsid_list, id_list, energy_range, savedir, time_unit, values, T0, same_figure)\u001b[0m\n\u001b[1;32m    131\u001b[0m         t0 \u001b[38;5;241m=\u001b[39m Time(data[time_str_start], \u001b[38;5;28mformat\u001b[39m\u001b[38;5;241m=\u001b[39m\u001b[38;5;124m\"\u001b[39m\u001b[38;5;124mmjd\u001b[39m\u001b[38;5;124m\"\u001b[39m)\n\u001b[1;32m    132\u001b[0m     \u001b[38;5;28;01melse\u001b[39;00m:\n\u001b[0;32m--> 133\u001b[0m         t0 \u001b[38;5;241m=\u001b[39m \u001b[43mTime\u001b[49m\u001b[43m(\u001b[49m\u001b[43mdata\u001b[49m\u001b[43m[\u001b[49m\u001b[43mtime_str_start\u001b[49m\u001b[43m]\u001b[49m\u001b[43m)\u001b[49m\n\u001b[1;32m    134\u001b[0m     tf \u001b[38;5;241m=\u001b[39m t0 \u001b[38;5;241m+\u001b[39m TimeDelta(data[\u001b[38;5;124m\"\u001b[39m\u001b[38;5;124mexposure\u001b[39m\u001b[38;5;124m\"\u001b[39m], \u001b[38;5;28mformat\u001b[39m\u001b[38;5;241m=\u001b[39m\u001b[38;5;124m\"\u001b[39m\u001b[38;5;124msec\u001b[39m\u001b[38;5;124m\"\u001b[39m)\n\u001b[1;32m    136\u001b[0m dt \u001b[38;5;241m=\u001b[39m tf \u001b[38;5;241m-\u001b[39m t0\n",
      "File \u001b[0;32m~/miniconda3/envs/heasoft/lib/python3.10/site-packages/astropy/time/core.py:1982\u001b[0m, in \u001b[0;36mTime.__init__\u001b[0;34m(self, val, val2, format, scale, precision, in_subfmt, out_subfmt, location, copy)\u001b[0m\n\u001b[1;32m   1980\u001b[0m         \u001b[38;5;28mself\u001b[39m\u001b[38;5;241m.\u001b[39m_set_scale(scale)\n\u001b[1;32m   1981\u001b[0m \u001b[38;5;28;01melse\u001b[39;00m:\n\u001b[0;32m-> 1982\u001b[0m     \u001b[38;5;28;43mself\u001b[39;49m\u001b[38;5;241;43m.\u001b[39;49m\u001b[43m_init_from_vals\u001b[49m\u001b[43m(\u001b[49m\n\u001b[1;32m   1983\u001b[0m \u001b[43m        \u001b[49m\u001b[43mval\u001b[49m\u001b[43m,\u001b[49m\u001b[43m \u001b[49m\u001b[43mval2\u001b[49m\u001b[43m,\u001b[49m\u001b[43m \u001b[49m\u001b[38;5;28;43mformat\u001b[39;49m\u001b[43m,\u001b[49m\u001b[43m \u001b[49m\u001b[43mscale\u001b[49m\u001b[43m,\u001b[49m\u001b[43m \u001b[49m\u001b[43mcopy\u001b[49m\u001b[43m,\u001b[49m\u001b[43m \u001b[49m\u001b[43mprecision\u001b[49m\u001b[43m,\u001b[49m\u001b[43m \u001b[49m\u001b[43min_subfmt\u001b[49m\u001b[43m,\u001b[49m\u001b[43m \u001b[49m\u001b[43mout_subfmt\u001b[49m\n\u001b[1;32m   1984\u001b[0m \u001b[43m    \u001b[49m\u001b[43m)\u001b[49m\n\u001b[1;32m   1985\u001b[0m     \u001b[38;5;28mself\u001b[39m\u001b[38;5;241m.\u001b[39mSCALES \u001b[38;5;241m=\u001b[39m TIME_TYPES[\u001b[38;5;28mself\u001b[39m\u001b[38;5;241m.\u001b[39mscale]\n\u001b[1;32m   1987\u001b[0m \u001b[38;5;28;01mif\u001b[39;00m \u001b[38;5;28mself\u001b[39m\u001b[38;5;241m.\u001b[39mlocation \u001b[38;5;129;01mis\u001b[39;00m \u001b[38;5;129;01mnot\u001b[39;00m \u001b[38;5;28;01mNone\u001b[39;00m \u001b[38;5;129;01mand\u001b[39;00m (\n\u001b[1;32m   1988\u001b[0m     \u001b[38;5;28mself\u001b[39m\u001b[38;5;241m.\u001b[39mlocation\u001b[38;5;241m.\u001b[39msize \u001b[38;5;241m>\u001b[39m \u001b[38;5;241m1\u001b[39m \u001b[38;5;129;01mand\u001b[39;00m \u001b[38;5;28mself\u001b[39m\u001b[38;5;241m.\u001b[39mlocation\u001b[38;5;241m.\u001b[39mshape \u001b[38;5;241m!=\u001b[39m \u001b[38;5;28mself\u001b[39m\u001b[38;5;241m.\u001b[39mshape\n\u001b[1;32m   1989\u001b[0m ):\n",
      "File \u001b[0;32m~/miniconda3/envs/heasoft/lib/python3.10/site-packages/astropy/time/core.py:548\u001b[0m, in \u001b[0;36mTimeBase._init_from_vals\u001b[0;34m(self, val, val2, format, scale, copy, precision, in_subfmt, out_subfmt)\u001b[0m\n\u001b[1;32m    545\u001b[0m mask, val_data2 \u001b[38;5;241m=\u001b[39m get_mask_and_data(mask, val2)\n\u001b[1;32m    547\u001b[0m \u001b[38;5;66;03m# Parse / convert input values into internal jd1, jd2 based on format\u001b[39;00m\n\u001b[0;32m--> 548\u001b[0m \u001b[38;5;28mself\u001b[39m\u001b[38;5;241m.\u001b[39m_time \u001b[38;5;241m=\u001b[39m \u001b[38;5;28;43mself\u001b[39;49m\u001b[38;5;241;43m.\u001b[39;49m\u001b[43m_get_time_fmt\u001b[49m\u001b[43m(\u001b[49m\n\u001b[1;32m    549\u001b[0m \u001b[43m    \u001b[49m\u001b[43mval_data\u001b[49m\u001b[43m,\u001b[49m\u001b[43m \u001b[49m\u001b[43mval_data2\u001b[49m\u001b[43m,\u001b[49m\u001b[43m \u001b[49m\u001b[38;5;28;43mformat\u001b[39;49m\u001b[43m,\u001b[49m\u001b[43m \u001b[49m\u001b[43mscale\u001b[49m\u001b[43m,\u001b[49m\u001b[43m \u001b[49m\u001b[43mprecision\u001b[49m\u001b[43m,\u001b[49m\u001b[43m \u001b[49m\u001b[43min_subfmt\u001b[49m\u001b[43m,\u001b[49m\u001b[43m \u001b[49m\u001b[43mout_subfmt\u001b[49m\u001b[43m,\u001b[49m\u001b[43m \u001b[49m\u001b[43mmask\u001b[49m\n\u001b[1;32m    550\u001b[0m \u001b[43m\u001b[49m\u001b[43m)\u001b[49m\n\u001b[1;32m    551\u001b[0m \u001b[38;5;28mself\u001b[39m\u001b[38;5;241m.\u001b[39m_format \u001b[38;5;241m=\u001b[39m \u001b[38;5;28mself\u001b[39m\u001b[38;5;241m.\u001b[39m_time\u001b[38;5;241m.\u001b[39mname\n\u001b[1;32m    553\u001b[0m \u001b[38;5;66;03m# Hack from #9969 to allow passing the location value that has been\u001b[39;00m\n\u001b[1;32m    554\u001b[0m \u001b[38;5;66;03m# collected by the TimeAstropyTime format class up to the Time level.\u001b[39;00m\n\u001b[1;32m    555\u001b[0m \u001b[38;5;66;03m# TODO: find a nicer way.\u001b[39;00m\n",
      "File \u001b[0;32m~/miniconda3/envs/heasoft/lib/python3.10/site-packages/astropy/time/core.py:591\u001b[0m, in \u001b[0;36mTimeBase._get_time_fmt\u001b[0;34m(self, val, val2, format, scale, precision, in_subfmt, out_subfmt, mask)\u001b[0m\n\u001b[1;32m    587\u001b[0m empty_array \u001b[38;5;241m=\u001b[39m val\u001b[38;5;241m.\u001b[39msize \u001b[38;5;241m==\u001b[39m \u001b[38;5;241m0\u001b[39m \u001b[38;5;129;01mand\u001b[39;00m (val2 \u001b[38;5;129;01mis\u001b[39;00m \u001b[38;5;28;01mNone\u001b[39;00m \u001b[38;5;129;01mor\u001b[39;00m val2\u001b[38;5;241m.\u001b[39msize \u001b[38;5;241m==\u001b[39m \u001b[38;5;241m0\u001b[39m)\n\u001b[1;32m    588\u001b[0m \u001b[38;5;28;01mif\u001b[39;00m \u001b[38;5;129;01mnot\u001b[39;00m (\u001b[38;5;28misinstance\u001b[39m(\u001b[38;5;28mself\u001b[39m, TimeDelta) \u001b[38;5;129;01mand\u001b[39;00m \u001b[38;5;28misinstance\u001b[39m(val, u\u001b[38;5;241m.\u001b[39mQuantity)) \u001b[38;5;129;01mand\u001b[39;00m (\n\u001b[1;32m    589\u001b[0m     empty_array \u001b[38;5;129;01mor\u001b[39;00m np\u001b[38;5;241m.\u001b[39mall(mask)\n\u001b[1;32m    590\u001b[0m ):\n\u001b[0;32m--> 591\u001b[0m     \u001b[38;5;28;01mraise\u001b[39;00m \u001b[38;5;167;01mValueError\u001b[39;00m(\n\u001b[1;32m    592\u001b[0m         \u001b[38;5;124m\"\u001b[39m\u001b[38;5;124mcannot guess format from input values with zero-size array\u001b[39m\u001b[38;5;124m\"\u001b[39m\n\u001b[1;32m    593\u001b[0m         \u001b[38;5;124m\"\u001b[39m\u001b[38;5;124m or all elements masked\u001b[39m\u001b[38;5;124m\"\u001b[39m\n\u001b[1;32m    594\u001b[0m     )\n\u001b[1;32m    595\u001b[0m formats \u001b[38;5;241m=\u001b[39m [\n\u001b[1;32m    596\u001b[0m     (name, \u001b[38;5;28mcls\u001b[39m)\n\u001b[1;32m    597\u001b[0m     \u001b[38;5;28;01mfor\u001b[39;00m name, \u001b[38;5;28mcls\u001b[39m \u001b[38;5;129;01min\u001b[39;00m \u001b[38;5;28mself\u001b[39m\u001b[38;5;241m.\u001b[39mFORMATS\u001b[38;5;241m.\u001b[39mitems()\n\u001b[1;32m    598\u001b[0m     \u001b[38;5;28;01mif\u001b[39;00m \u001b[38;5;28missubclass\u001b[39m(\u001b[38;5;28mcls\u001b[39m, TimeUnique)\n\u001b[1;32m    599\u001b[0m ]\n\u001b[1;32m    601\u001b[0m \u001b[38;5;66;03m# AstropyTime is a pseudo-format that isn't in the TIME_FORMATS registry,\u001b[39;00m\n\u001b[1;32m    602\u001b[0m \u001b[38;5;66;03m# but try to guess it at the end.\u001b[39;00m\n",
      "\u001b[0;31mValueError\u001b[0m: cannot guess format from input values with zero-size array or all elements masked"
     ]
    }
   ],
   "source": [
    "# fig, axes=ba.plot_survey_lc(batsurvey_obs, id_list=source_name, time_unit=\"UTC\", values=[\"rate\",\"snr\", \"flux\", \"exposure\"], T0=388741688, calc_lc=True) #T0 is GBM trigger time\n",
    "\n",
    "fig, axes=ba.plot_survey_lc(batsurvey_obs, id_list=object_name, time_unit=\"UTC\", values=[\"rate\",\"snr\", \"flux\", \"exposure\"], T0=1231488) #T0 is GBM trigger time\n",
    "\n",
    "axes[1].set_yscale('log')\n",
    "axes[0].set_yscale('log')\n",
    "\n",
    "\n",
    "axes[1].axhline(5,0,1)\n",
    "\n",
    "fig.savefig('grb240529A_lightcurve.pdf')"
   ]
  },
  {
   "cell_type": "code",
   "execution_count": null,
   "id": "5d7ffdd0-b260-4543-8026-30861b514985",
   "metadata": {},
   "outputs": [],
   "source": []
  },
  {
   "cell_type": "code",
   "execution_count": null,
   "id": "2ff30de4-fe32-438f-ae65-63543cc4dff5",
   "metadata": {
    "execution": {
     "iopub.status.busy": "2024-07-28T17:47:23.386370Z",
     "iopub.status.idle": "2024-07-28T17:47:23.387070Z",
     "shell.execute_reply": "2024-07-28T17:47:23.386750Z",
     "shell.execute_reply.started": "2024-07-28T17:47:23.386712Z"
    }
   },
   "outputs": [],
   "source": [
    "#combine all the pointings into a single file to sort into binned fits files\n",
    "if restart: \n",
    "    outventory_file=ba.merge_outventory(batsurvey_obs)\n",
    "else:\n",
    "    outventory_file=Path(f\"{(ba.datadir())}/mosaiced_surveyresults/outventory_all.fits\")"
   ]
  },
  {
   "cell_type": "code",
   "execution_count": null,
   "id": "93e4e775-5c49-483b-b607-e430614ff566",
   "metadata": {
    "execution": {
     "iopub.status.busy": "2024-07-28T17:47:23.389913Z",
     "iopub.status.idle": "2024-07-28T17:47:23.390609Z",
     "shell.execute_reply": "2024-07-28T17:47:23.390268Z",
     "shell.execute_reply.started": "2024-07-28T17:47:23.390232Z"
    }
   },
   "outputs": [],
   "source": [
    "#bin into 1 day cadence\n",
    "time_bins=ba.group_outventory(outventory_file, np.timedelta64(1, \"D\"), end_datetime=Time(\"2024-05-30\"))"
   ]
  },
  {
   "cell_type": "code",
   "execution_count": null,
   "id": "880c5b42-513b-4072-9b0e-91ba61feb152",
   "metadata": {
    "execution": {
     "iopub.status.busy": "2024-07-28T17:47:23.393037Z",
     "iopub.status.idle": "2024-07-28T17:47:23.393771Z",
     "shell.execute_reply": "2024-07-28T17:47:23.393397Z",
     "shell.execute_reply.started": "2024-07-28T17:47:23.393362Z"
    }
   },
   "outputs": [],
   "source": [
    "#do the parallel construction of each mosaic for each time bin\n",
    "time_bins=ba.group_outventory(outventory_file, np.timedelta64(1, \"D\"), end_datetime=Time(\"2024-05-30\"))"
   ]
  },
  {
   "cell_type": "code",
   "execution_count": null,
   "id": "bd8df416-bd7a-4bd8-9b74-82c07a51f3af",
   "metadata": {
    "execution": {
     "iopub.status.busy": "2024-07-28T17:47:23.398497Z",
     "iopub.status.idle": "2024-07-28T17:47:23.399233Z",
     "shell.execute_reply": "2024-07-28T17:47:23.398891Z",
     "shell.execute_reply.started": "2024-07-28T17:47:23.398855Z"
    }
   },
   "outputs": [],
   "source": [
    "#do the parallel construction of each mosaic for each time bin\n",
    "mosaic_list, total_mosaic=ba.parallel.batmosaic_analysis(batsurvey_obs, outventory_file, time_bins, catalog_file=incat, nprocs=-2, recalc=restart)"
   ]
  },
  {
   "cell_type": "code",
   "execution_count": null,
   "id": "fcad02d3-6547-429c-9c16-87a987f019c2",
   "metadata": {
    "execution": {
     "iopub.status.busy": "2024-07-28T17:47:23.402704Z",
     "iopub.status.idle": "2024-07-28T17:47:23.403398Z",
     "shell.execute_reply": "2024-07-28T17:47:23.403050Z",
     "shell.execute_reply.started": "2024-07-28T17:47:23.403013Z"
    }
   },
   "outputs": [],
   "source": [
    "mosaic_list=ba.parallel.batspectrum_analysis(mosaic_list, source_name, fit_iterations=1000, nprocs=-2)\n",
    "total_mosaic =ba.parallel.batspectrum_analysis(total_mosaic, source_name, fit_iterations=1000, nprocs=-2)"
   ]
  },
  {
   "cell_type": "code",
   "execution_count": null,
   "id": "5dd76a07-c786-45ea-9ffb-0187d38d6740",
   "metadata": {
    "execution": {
     "iopub.status.busy": "2024-07-28T17:47:23.406326Z",
     "iopub.status.idle": "2024-07-28T17:47:23.407018Z",
     "shell.execute_reply": "2024-07-28T17:47:23.406694Z",
     "shell.execute_reply.started": "2024-07-28T17:47:23.406658Z"
    }
   },
   "outputs": [],
   "source": [
    "# source_name=\"GRB240529A\"\n",
    "\n",
    "# fig, axes=ba.plot_survey_lc(mosaic_list, id_list=object_name, time_unit=\"UTC\", values=[\"rate\",\"snr\", \"flux\", \"exposure\"], T0=388741688.000) #T0 is GBM trigger time\n",
    "\n",
    "# axes[1].set_yscale('log')\n",
    "# axes[0].set_yscale('log')\n",
    "\n",
    "\n",
    "# axes[1].axhline(5,0,1)\n",
    "\n",
    "ba.print_parameters(mosaic_list, object_name, values=['met_time', 'utc_time', 'exposure', 'flux', 'PhoIndex'], latex_table=False, savetable=True, save_file=\"output_mosaic.txt\")\n",
    "\n",
    "ba.print_parameters([total_mosaic], object_name, values=['met_time', 'utc_time', 'exposure', 'flux', 'PhoIndex'], latex_table=False, savetable=True, save_file=\"output_mosaic_total.txt\")\n",
    "\n",
    "energy_range=None\n",
    "time_unit=\"MET\"\n",
    "values=[\"rate\",\"snr\", \"flux\", \"PhoIndex\"]\n",
    "\n",
    "survey_obsid_list = [f'{object_name}_survey_data', f'{object_name}_daily_mosaic_data']\n",
    "\n",
    "obs_list_count=0\n",
    "for observation_list in survey_obsid_list:\n",
    "\n",
    "    with open(observation_list+\".pkl\", 'rb') as f:\n",
    "        all_data=pickle.load(f)\n",
    "        data=all_data[object_name]\n",
    "\n",
    "    # get the time centers and errors\n",
    "    if \"mosaic\" in observation_list:\n",
    "\n",
    "        if \"MET\" in time_unit:\n",
    "            t0 = TimeDelta(data[\"user_timebin/met_time\"], format='sec')\n",
    "            tf = TimeDelta(data[\"user_timebin/met_stop_time\"], format='sec')\n",
    "        elif \"MJD\" in time_unit:\n",
    "            t0 = Time(data[time_str_start], format='mjd')\n",
    "            tf = Time(data[time_str_end], format='mjd')\n",
    "        else:\n",
    "            t0 = Time(data[\"user_timebin/utc_time\"])\n",
    "            tf = Time(data[\"user_timebin/utc_stop_time\"])\n",
    "    else:\n",
    "        if \"MET\" in time_unit:\n",
    "            t0 = TimeDelta(data[\"met_time\"], format='sec')\n",
    "        elif \"MJD\" in time_unit:\n",
    "            t0 = Time(data[time_str_start], format='mjd')\n",
    "        else:\n",
    "            t0 = Time(data[\"utc_time\"])\n",
    "        tf = t0 + TimeDelta(data[\"exposure\"], format='sec')\n",
    "\n",
    "    dt = tf - t0\n",
    "\n",
    "    if \"MET\" in time_unit:\n",
    "        time_center = 0.5 * (tf + t0).value\n",
    "        time_diff = 0.5 * (tf - t0).value\n",
    "    elif \"MJD\" in time_unit:\n",
    "        time_diff = 0.5 * (tf - t0)\n",
    "        time_center = t0 + time_diff\n",
    "        time_center = time_center.value\n",
    "        time_diff = time_diff.value\n",
    "\n",
    "    else:\n",
    "        time_diff = TimeDelta(0.5 * dt)  # dt.to_value('datetime')\n",
    "        time_center = t0 + time_diff\n",
    "\n",
    "        time_center = np.array([i.to_value('datetime64') for i in time_center])\n",
    "        time_diff = np.array([np.timedelta64(0.5 * i.to_datetime()) for i in dt])\n",
    "\n",
    "    x = time_center\n",
    "    xerr = time_diff\n",
    "\n",
    "    if obs_list_count == 0:\n",
    "        fig, axes = plt.subplots(len(values), sharex=True, figsize=(10,12))\n",
    "\n",
    "    axes_queue = [i for i in range(len(values))]\n",
    "    # plot_value=[i for i in values]\n",
    "\n",
    "    e_range_str = f\"{14}-{195} keV\"\n",
    "    #axes[0].set_title(object_name + '; survey data from ' + e_range_str)\n",
    "\n",
    "    for i in values:\n",
    "        ax = axes[axes_queue[0]]\n",
    "        axes_queue.pop(0)\n",
    "\n",
    "        y = data[i]\n",
    "        yerr = np.zeros(x.size)\n",
    "        y_upperlim = np.zeros(x.size)\n",
    "\n",
    "        label = i\n",
    "\n",
    "        if \"rate\" in i:\n",
    "            yerr = data[i + \"_err\"]\n",
    "            label = \"Count rate (cts/s)\"\n",
    "        elif i + \"_lolim\" in data.keys():\n",
    "            # get the errors\n",
    "            lolim = data[i + \"_lolim\"]\n",
    "            hilim = data[i + \"_hilim\"]\n",
    "\n",
    "            yerr = np.array([lolim, hilim])\n",
    "            y_upperlim = data[i + \"_upperlim\"]\n",
    "\n",
    "            # find where we have upper limits and set the error to 1 since the nan error value isnt\n",
    "            # compatible with upperlimits\n",
    "            yerr[:, y_upperlim] = 0.1 * y[y_upperlim]\n",
    "\n",
    "        if \"mosaic\" in observation_list:\n",
    "            if \"weekly\" in observation_list:\n",
    "                zorder = 9\n",
    "                c = \"blue\"\n",
    "                m = \"o\"\n",
    "                l=\"Weekly Mosaic\"\n",
    "                ms=5\n",
    "                a=0.8\n",
    "            if \"daily\" in observation_list:\n",
    "                zorder = 9\n",
    "                c = \"gray\"\n",
    "                m = \"o\"\n",
    "                l=\"Daily Mosaic\"\n",
    "                ms=5\n",
    "                a=0.8\n",
    "            else:\n",
    "                zorder = 9\n",
    "                c='green'\n",
    "                m = \"s\"\n",
    "                l = \"Monthly Mosaic\"\n",
    "                ms=7\n",
    "                a = 1\n",
    "        else:\n",
    "            zorder = 4\n",
    "            c = \"r\"\n",
    "            m = \"o\"\n",
    "            l = \"Survey Snapshot\"\n",
    "            ms=3\n",
    "            a = 1\n",
    "\n",
    "        ax.errorbar(x, y, xerr=xerr, yerr=yerr, uplims=y_upperlim, linestyle=\"None\", marker=m, markersize=ms,\n",
    "                    zorder=zorder, color=c, label=l, alpha=a)\n",
    "\n",
    "        if (\"flux\" in i.lower()):\n",
    "            ax.set_yscale('log')\n",
    "\n",
    "        if (\"snr\" in i.lower()):\n",
    "            ax.set_yscale('log')\n",
    "\n",
    "        ax.set_ylabel(label)\n",
    "\n",
    "    # if T0==0:\n",
    "    if \"MET\" in time_unit:\n",
    "        label_string = 'MET Time (s)'\n",
    "        plt.gca().ticklabel_format(useMathText=True)\n",
    "    elif \"MJD\" in time_unit:\n",
    "        label_string = 'MJD Time (s)'\n",
    "    else:\n",
    "        label_string = 'UTC Time (s)'\n",
    "\n",
    "    axes[-1].set_xlabel(label_string)\n",
    "\n",
    "    obs_list_count += 1\n",
    "\n",
    "axes[0].set_yscale('log')\n",
    "axes[1].set_yscale('log')\n",
    "axes[1].axhline(7,0,1)\n",
    "\n",
    "\n",
    "#add the UTC times as well\n",
    "met_values=[1231488.000]#[i.get_position()[0] for i in axes[-1].get_xticklabels()]\n",
    "utc_values=[np.datetime64(sbu.met2datetime(i)) for i in met_values]\n",
    "\n",
    "if \"MET\" in time_unit:\n",
    "    plot_val=met_values\n",
    "elif \"UTC\" in time_unit:\n",
    "    plot_val=utc_values\n",
    "\n",
    "for i,j in zip(plot_val, [\"24-05-29 06:12:49 UTC\"]):\n",
    "    for ax in axes:\n",
    "        ax.axvline(i, 0, 1, ls='--', color='k')\n",
    "        if ax==axes[0]:\n",
    "            ax.text(i, ax.get_ylim()[1]*1.03, str(j), fontsize=12, ha='center')\n",
    "\n",
    "axes[0].legend(loc=\"upper left\")\n",
    "\n",
    "axes[1].set_ylabel(\"SNR\")\n",
    "axes[2].set_ylabel(r\"Flux (erg/s/cm$^2$)\")\n",
    "axes[3].set_ylabel(r\"$\\Gamma$\")\n",
    "\n",
    "for ax, l in zip(axes, [\"a\",\"b\",\"c\",\"d\"]):\n",
    "    ax.text(.99, .95, f\"({l})\", ha='right', va='top', transform=ax.transAxes,  fontsize=12)\n",
    "\n",
    "#crab values for reference\n",
    "axes[-1].axhline(2.15, 0, 1)\n",
    "axes[-2].axhline(23342.70e-12, 0, 1)\n",
    "\n",
    "fig.tight_layout()\n",
    "plot_filename = object_name + '_survey_lc.pdf'\n",
    "fig.savefig(plot_filename, bbox_inches=\"tight\")"
   ]
  },
  {
   "cell_type": "code",
   "execution_count": null,
   "id": "f5207155-308c-4afd-928b-379c23b8c4c7",
   "metadata": {},
   "outputs": [],
   "source": []
  },
  {
   "cell_type": "code",
   "execution_count": null,
   "id": "044dd5d2-9891-44c3-8555-84908590e173",
   "metadata": {},
   "outputs": [],
   "source": []
  },
  {
   "cell_type": "code",
   "execution_count": null,
   "id": "7262019c",
   "metadata": {
    "execution": {
     "iopub.status.busy": "2024-07-28T17:47:23.409190Z",
     "iopub.status.idle": "2024-07-28T17:47:23.409879Z",
     "shell.execute_reply": "2024-07-28T17:47:23.409528Z",
     "shell.execute_reply.started": "2024-07-28T17:47:23.409492Z"
    }
   },
   "outputs": [],
   "source": [
    "# import sys\n",
    "# import platform"
   ]
  },
  {
   "cell_type": "code",
   "execution_count": null,
   "id": "cc7ec87e-41e1-4140-b12a-0b9db23b2bd9",
   "metadata": {
    "execution": {
     "iopub.status.busy": "2024-07-28T17:47:23.413410Z",
     "iopub.status.idle": "2024-07-28T17:47:23.414095Z",
     "shell.execute_reply": "2024-07-28T17:47:23.413791Z",
     "shell.execute_reply.started": "2024-07-28T17:47:23.413756Z"
    }
   },
   "outputs": [],
   "source": [
    "# #run batsurvey in parallel\n",
    "# input_dict=dict(cleansnr=6,cleanexpr='ALWAYS_CLEAN==T', incatalog=f\"{incat}\", detthresh=9000, detthresh2=9000)\n",
    "# map_dir = Path(\"/home/idies/workspace/Temporary/tmpataki/scratch/PATTERN_MAPS/\")\n",
    "# obs=ba.BatSurvey(final_obs_ids[0],recalc=True,  input_dict=input_dict, patt_noise_dir=map_dir)"
   ]
  },
  {
   "cell_type": "code",
   "execution_count": null,
   "id": "26d3210e-7b6a-4557-a3a7-544fa9daee8a",
   "metadata": {
    "execution": {
     "iopub.status.busy": "2024-07-28T17:47:23.417388Z",
     "iopub.status.idle": "2024-07-28T17:47:23.418062Z",
     "shell.execute_reply": "2024-07-28T17:47:23.417756Z",
     "shell.execute_reply.started": "2024-07-28T17:47:23.417719Z"
    }
   },
   "outputs": [],
   "source": [
    "# %debug"
   ]
  },
  {
   "cell_type": "code",
   "execution_count": null,
   "id": "7ca91b99-f0fe-478e-b912-a2646549bc87",
   "metadata": {},
   "outputs": [],
   "source": []
  },
  {
   "cell_type": "code",
   "execution_count": null,
   "id": "25dd4672-1665-4230-a778-dcb57811fe42",
   "metadata": {},
   "outputs": [],
   "source": []
  },
  {
   "cell_type": "code",
   "execution_count": null,
   "id": "5fe0c63f-0370-4ec5-a60d-259a6af04f5a",
   "metadata": {},
   "outputs": [],
   "source": []
  },
  {
   "cell_type": "code",
   "execution_count": null,
   "id": "6b3bc163-0e7a-4806-b602-1fe06ab830f0",
   "metadata": {},
   "outputs": [],
   "source": []
  }
 ],
 "metadata": {
  "kernelspec": {
   "display_name": "(heasoft)",
   "language": "python",
   "name": "conda-env-heasoft-py"
  },
  "language_info": {
   "codemirror_mode": {
    "name": "ipython",
    "version": 3
   },
   "file_extension": ".py",
   "mimetype": "text/x-python",
   "name": "python",
   "nbconvert_exporter": "python",
   "pygments_lexer": "ipython3",
   "version": "3.10.14"
  }
 },
 "nbformat": 4,
 "nbformat_minor": 5
}
